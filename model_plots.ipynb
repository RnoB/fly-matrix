{
 "cells": [
  {
   "cell_type": "code",
   "execution_count": 1,
   "metadata": {},
   "outputs": [],
   "source": [
    "import cv2\n",
    "import numpy as np\n",
    "import pandas as pd\n",
    "import numba\n",
    "import matplotlib.pyplot as plt\n",
    "from scipy.optimize import curve_fit\n",
    "\n",
    "import matplotlib"
   ]
  },
  {
   "cell_type": "code",
   "execution_count": 5,
   "metadata": {
    "scrolled": false
   },
   "outputs": [
    {
<<<<<<< HEAD
     "ename": "FileNotFoundError",
     "evalue": "[Errno 2] File b'/Users/vivekhsridhar/Documents/Work/Results/decision_geometry/Data/Theory/SPP/collective_n3.csv' does not exist: b'/Users/vivekhsridhar/Documents/Work/Results/decision_geometry/Data/Theory/SPP/collective_n3.csv'",
     "output_type": "error",
     "traceback": [
      "\u001b[0;31m---------------------------------------------------------------------------\u001b[0m",
      "\u001b[0;31mFileNotFoundError\u001b[0m                         Traceback (most recent call last)",
      "\u001b[0;32m<ipython-input-2-ec6ff9059942>\u001b[0m in \u001b[0;36m<module>\u001b[0;34m\u001b[0m\n\u001b[1;32m      9\u001b[0m \u001b[0msymmetric\u001b[0m \u001b[0;34m=\u001b[0m \u001b[0;32mFalse\u001b[0m\u001b[0;34m\u001b[0m\u001b[0m\n\u001b[1;32m     10\u001b[0m \u001b[0;34m\u001b[0m\u001b[0m\n\u001b[0;32m---> 11\u001b[0;31m \u001b[0mdf\u001b[0m \u001b[0;34m=\u001b[0m \u001b[0mpd\u001b[0m\u001b[0;34m.\u001b[0m\u001b[0mread_csv\u001b[0m\u001b[0;34m(\u001b[0m\u001b[0;34m\"/Users/vivekhsridhar/Documents/Work/Results/decision_geometry/Data/Theory/\"\u001b[0m \u001b[0;34m+\u001b[0m \u001b[0mdata\u001b[0m \u001b[0;34m+\u001b[0m \u001b[0mstr\u001b[0m\u001b[0;34m(\u001b[0m\u001b[0mnPosts\u001b[0m\u001b[0;34m)\u001b[0m \u001b[0;34m+\u001b[0m \u001b[0;34m\".csv\"\u001b[0m\u001b[0;34m)\u001b[0m\u001b[0;34m\u001b[0m\u001b[0m\n\u001b[0m\u001b[1;32m     12\u001b[0m \u001b[0mdf\u001b[0m\u001b[0;34m.\u001b[0m\u001b[0mhead\u001b[0m\u001b[0;34m(\u001b[0m\u001b[0;34m)\u001b[0m\u001b[0;34m\u001b[0m\u001b[0m\n",
      "\u001b[0;32m~/.local/lib/python3.6/site-packages/pandas/io/parsers.py\u001b[0m in \u001b[0;36mparser_f\u001b[0;34m(filepath_or_buffer, sep, delimiter, header, names, index_col, usecols, squeeze, prefix, mangle_dupe_cols, dtype, engine, converters, true_values, false_values, skipinitialspace, skiprows, skipfooter, nrows, na_values, keep_default_na, na_filter, verbose, skip_blank_lines, parse_dates, infer_datetime_format, keep_date_col, date_parser, dayfirst, iterator, chunksize, compression, thousands, decimal, lineterminator, quotechar, quoting, doublequote, escapechar, comment, encoding, dialect, tupleize_cols, error_bad_lines, warn_bad_lines, delim_whitespace, low_memory, memory_map, float_precision)\u001b[0m\n\u001b[1;32m    700\u001b[0m                     skip_blank_lines=skip_blank_lines)\n\u001b[1;32m    701\u001b[0m \u001b[0;34m\u001b[0m\u001b[0m\n\u001b[0;32m--> 702\u001b[0;31m         \u001b[0;32mreturn\u001b[0m \u001b[0m_read\u001b[0m\u001b[0;34m(\u001b[0m\u001b[0mfilepath_or_buffer\u001b[0m\u001b[0;34m,\u001b[0m \u001b[0mkwds\u001b[0m\u001b[0;34m)\u001b[0m\u001b[0;34m\u001b[0m\u001b[0m\n\u001b[0m\u001b[1;32m    703\u001b[0m \u001b[0;34m\u001b[0m\u001b[0m\n\u001b[1;32m    704\u001b[0m     \u001b[0mparser_f\u001b[0m\u001b[0;34m.\u001b[0m\u001b[0m__name__\u001b[0m \u001b[0;34m=\u001b[0m \u001b[0mname\u001b[0m\u001b[0;34m\u001b[0m\u001b[0m\n",
      "\u001b[0;32m~/.local/lib/python3.6/site-packages/pandas/io/parsers.py\u001b[0m in \u001b[0;36m_read\u001b[0;34m(filepath_or_buffer, kwds)\u001b[0m\n\u001b[1;32m    427\u001b[0m \u001b[0;34m\u001b[0m\u001b[0m\n\u001b[1;32m    428\u001b[0m     \u001b[0;31m# Create the parser.\u001b[0m\u001b[0;34m\u001b[0m\u001b[0;34m\u001b[0m\u001b[0m\n\u001b[0;32m--> 429\u001b[0;31m     \u001b[0mparser\u001b[0m \u001b[0;34m=\u001b[0m \u001b[0mTextFileReader\u001b[0m\u001b[0;34m(\u001b[0m\u001b[0mfilepath_or_buffer\u001b[0m\u001b[0;34m,\u001b[0m \u001b[0;34m**\u001b[0m\u001b[0mkwds\u001b[0m\u001b[0;34m)\u001b[0m\u001b[0;34m\u001b[0m\u001b[0m\n\u001b[0m\u001b[1;32m    430\u001b[0m \u001b[0;34m\u001b[0m\u001b[0m\n\u001b[1;32m    431\u001b[0m     \u001b[0;32mif\u001b[0m \u001b[0mchunksize\u001b[0m \u001b[0;32mor\u001b[0m \u001b[0miterator\u001b[0m\u001b[0;34m:\u001b[0m\u001b[0;34m\u001b[0m\u001b[0m\n",
      "\u001b[0;32m~/.local/lib/python3.6/site-packages/pandas/io/parsers.py\u001b[0m in \u001b[0;36m__init__\u001b[0;34m(self, f, engine, **kwds)\u001b[0m\n\u001b[1;32m    893\u001b[0m             \u001b[0mself\u001b[0m\u001b[0;34m.\u001b[0m\u001b[0moptions\u001b[0m\u001b[0;34m[\u001b[0m\u001b[0;34m'has_index_names'\u001b[0m\u001b[0;34m]\u001b[0m \u001b[0;34m=\u001b[0m \u001b[0mkwds\u001b[0m\u001b[0;34m[\u001b[0m\u001b[0;34m'has_index_names'\u001b[0m\u001b[0;34m]\u001b[0m\u001b[0;34m\u001b[0m\u001b[0m\n\u001b[1;32m    894\u001b[0m \u001b[0;34m\u001b[0m\u001b[0m\n\u001b[0;32m--> 895\u001b[0;31m         \u001b[0mself\u001b[0m\u001b[0;34m.\u001b[0m\u001b[0m_make_engine\u001b[0m\u001b[0;34m(\u001b[0m\u001b[0mself\u001b[0m\u001b[0;34m.\u001b[0m\u001b[0mengine\u001b[0m\u001b[0;34m)\u001b[0m\u001b[0;34m\u001b[0m\u001b[0m\n\u001b[0m\u001b[1;32m    896\u001b[0m \u001b[0;34m\u001b[0m\u001b[0m\n\u001b[1;32m    897\u001b[0m     \u001b[0;32mdef\u001b[0m \u001b[0mclose\u001b[0m\u001b[0;34m(\u001b[0m\u001b[0mself\u001b[0m\u001b[0;34m)\u001b[0m\u001b[0;34m:\u001b[0m\u001b[0;34m\u001b[0m\u001b[0m\n",
      "\u001b[0;32m~/.local/lib/python3.6/site-packages/pandas/io/parsers.py\u001b[0m in \u001b[0;36m_make_engine\u001b[0;34m(self, engine)\u001b[0m\n\u001b[1;32m   1120\u001b[0m     \u001b[0;32mdef\u001b[0m \u001b[0m_make_engine\u001b[0m\u001b[0;34m(\u001b[0m\u001b[0mself\u001b[0m\u001b[0;34m,\u001b[0m \u001b[0mengine\u001b[0m\u001b[0;34m=\u001b[0m\u001b[0;34m'c'\u001b[0m\u001b[0;34m)\u001b[0m\u001b[0;34m:\u001b[0m\u001b[0;34m\u001b[0m\u001b[0m\n\u001b[1;32m   1121\u001b[0m         \u001b[0;32mif\u001b[0m \u001b[0mengine\u001b[0m \u001b[0;34m==\u001b[0m \u001b[0;34m'c'\u001b[0m\u001b[0;34m:\u001b[0m\u001b[0;34m\u001b[0m\u001b[0m\n\u001b[0;32m-> 1122\u001b[0;31m             \u001b[0mself\u001b[0m\u001b[0;34m.\u001b[0m\u001b[0m_engine\u001b[0m \u001b[0;34m=\u001b[0m \u001b[0mCParserWrapper\u001b[0m\u001b[0;34m(\u001b[0m\u001b[0mself\u001b[0m\u001b[0;34m.\u001b[0m\u001b[0mf\u001b[0m\u001b[0;34m,\u001b[0m \u001b[0;34m**\u001b[0m\u001b[0mself\u001b[0m\u001b[0;34m.\u001b[0m\u001b[0moptions\u001b[0m\u001b[0;34m)\u001b[0m\u001b[0;34m\u001b[0m\u001b[0m\n\u001b[0m\u001b[1;32m   1123\u001b[0m         \u001b[0;32melse\u001b[0m\u001b[0;34m:\u001b[0m\u001b[0;34m\u001b[0m\u001b[0m\n\u001b[1;32m   1124\u001b[0m             \u001b[0;32mif\u001b[0m \u001b[0mengine\u001b[0m \u001b[0;34m==\u001b[0m \u001b[0;34m'python'\u001b[0m\u001b[0;34m:\u001b[0m\u001b[0;34m\u001b[0m\u001b[0m\n",
      "\u001b[0;32m~/.local/lib/python3.6/site-packages/pandas/io/parsers.py\u001b[0m in \u001b[0;36m__init__\u001b[0;34m(self, src, **kwds)\u001b[0m\n\u001b[1;32m   1851\u001b[0m         \u001b[0mkwds\u001b[0m\u001b[0;34m[\u001b[0m\u001b[0;34m'usecols'\u001b[0m\u001b[0;34m]\u001b[0m \u001b[0;34m=\u001b[0m \u001b[0mself\u001b[0m\u001b[0;34m.\u001b[0m\u001b[0musecols\u001b[0m\u001b[0;34m\u001b[0m\u001b[0m\n\u001b[1;32m   1852\u001b[0m \u001b[0;34m\u001b[0m\u001b[0m\n\u001b[0;32m-> 1853\u001b[0;31m         \u001b[0mself\u001b[0m\u001b[0;34m.\u001b[0m\u001b[0m_reader\u001b[0m \u001b[0;34m=\u001b[0m \u001b[0mparsers\u001b[0m\u001b[0;34m.\u001b[0m\u001b[0mTextReader\u001b[0m\u001b[0;34m(\u001b[0m\u001b[0msrc\u001b[0m\u001b[0;34m,\u001b[0m \u001b[0;34m**\u001b[0m\u001b[0mkwds\u001b[0m\u001b[0;34m)\u001b[0m\u001b[0;34m\u001b[0m\u001b[0m\n\u001b[0m\u001b[1;32m   1854\u001b[0m         \u001b[0mself\u001b[0m\u001b[0;34m.\u001b[0m\u001b[0munnamed_cols\u001b[0m \u001b[0;34m=\u001b[0m \u001b[0mself\u001b[0m\u001b[0;34m.\u001b[0m\u001b[0m_reader\u001b[0m\u001b[0;34m.\u001b[0m\u001b[0munnamed_cols\u001b[0m\u001b[0;34m\u001b[0m\u001b[0m\n\u001b[1;32m   1855\u001b[0m \u001b[0;34m\u001b[0m\u001b[0m\n",
      "\u001b[0;32mpandas/_libs/parsers.pyx\u001b[0m in \u001b[0;36mpandas._libs.parsers.TextReader.__cinit__\u001b[0;34m()\u001b[0m\n",
      "\u001b[0;32mpandas/_libs/parsers.pyx\u001b[0m in \u001b[0;36mpandas._libs.parsers.TextReader._setup_parser_source\u001b[0;34m()\u001b[0m\n",
      "\u001b[0;31mFileNotFoundError\u001b[0m: [Errno 2] File b'/Users/vivekhsridhar/Documents/Work/Results/decision_geometry/Data/Theory/SPP/collective_n3.csv' does not exist: b'/Users/vivekhsridhar/Documents/Work/Results/decision_geometry/Data/Theory/SPP/collective_n3.csv'"
     ]
=======
     "data": {
      "text/html": [
       "<div>\n",
       "<style scoped>\n",
       "    .dataframe tbody tr th:only-of-type {\n",
       "        vertical-align: middle;\n",
       "    }\n",
       "\n",
       "    .dataframe tbody tr th {\n",
       "        vertical-align: top;\n",
       "    }\n",
       "\n",
       "    .dataframe thead th {\n",
       "        text-align: right;\n",
       "    }\n",
       "</style>\n",
       "<table border=\"1\" class=\"dataframe\">\n",
       "  <thead>\n",
       "    <tr style=\"text-align: right;\">\n",
       "      <th></th>\n",
       "      <th>replicate</th>\n",
       "      <th>time</th>\n",
       "      <th>good_run</th>\n",
       "      <th>x</th>\n",
       "      <th>y</th>\n",
       "      <th>cue_reached</th>\n",
       "    </tr>\n",
       "  </thead>\n",
       "  <tbody>\n",
       "    <tr>\n",
       "      <th>0</th>\n",
       "      <td>0</td>\n",
       "      <td>0</td>\n",
       "      <td>1</td>\n",
       "      <td>5.59224</td>\n",
       "      <td>499.770</td>\n",
       "      <td>-1</td>\n",
       "    </tr>\n",
       "    <tr>\n",
       "      <th>1</th>\n",
       "      <td>0</td>\n",
       "      <td>50</td>\n",
       "      <td>1</td>\n",
       "      <td>7.73565</td>\n",
       "      <td>500.295</td>\n",
       "      <td>-1</td>\n",
       "    </tr>\n",
       "    <tr>\n",
       "      <th>2</th>\n",
       "      <td>0</td>\n",
       "      <td>100</td>\n",
       "      <td>1</td>\n",
       "      <td>12.05770</td>\n",
       "      <td>500.001</td>\n",
       "      <td>-1</td>\n",
       "    </tr>\n",
       "    <tr>\n",
       "      <th>3</th>\n",
       "      <td>0</td>\n",
       "      <td>150</td>\n",
       "      <td>1</td>\n",
       "      <td>16.75220</td>\n",
       "      <td>499.884</td>\n",
       "      <td>-1</td>\n",
       "    </tr>\n",
       "    <tr>\n",
       "      <th>4</th>\n",
       "      <td>0</td>\n",
       "      <td>200</td>\n",
       "      <td>1</td>\n",
       "      <td>21.44280</td>\n",
       "      <td>499.849</td>\n",
       "      <td>-1</td>\n",
       "    </tr>\n",
       "  </tbody>\n",
       "</table>\n",
       "</div>"
      ],
      "text/plain": [
       "   replicate   time   good_run         x        y   cue_reached\n",
       "0          0      0          1   5.59224  499.770            -1\n",
       "1          0     50          1   7.73565  500.295            -1\n",
       "2          0    100          1  12.05770  500.001            -1\n",
       "3          0    150          1  16.75220  499.884            -1\n",
       "4          0    200          1  21.44280  499.849            -1"
      ]
     },
     "execution_count": 5,
     "metadata": {},
     "output_type": "execute_result"
>>>>>>> 232e8647c1359836fd4f07ebb3e9d330a5c838f3
    }
   ],
   "source": [
    "model = 'collective'\n",
    "symmetric = False\n",
    "nPosts = 3\n",
    "\n",
    "if symmetric == True:\n",
    "    data = 'SPP/symmetric_n' if model == 'collective' else 'NN/symmetric_n'\n",
    "    prefix = 'coll_symmetric_' if model == 'collective' else 'symmetric_'\n",
    "else:\n",
    "    data = 'SPP/collective_n' if model == 'collective' else 'NN/flydata_n'\n",
    "    prefix = 'coll_' if model == 'collective' else ''\n",
    "\n",
    "tmin = 0\n",
    "if symmetric == True:\n",
    "    if nPosts < 4:\n",
    "        tmax = 2000 if model == 'neural' else 5100\n",
    "    else:\n",
    "        tmax = 2500 if model == 'neural' else 5100\n",
    "else:\n",
    "    if nPosts < 4:\n",
    "        tmax = 1200 if model == 'neural' else 5100\n",
    "    else:\n",
    "        tmax = 2000 if model == 'neural' else 5100\n",
    "        \n",
    "window_size = 50\n",
    "\n",
    "df = pd.read_csv(\"/Users/vivekhsridhar/Documents/Work/Results/decision_geometry/Data/Theory/\" + data + str(nPosts) + \".csv\")\n",
    "df.head()"
   ]
  },
  {
   "cell_type": "code",
<<<<<<< HEAD
   "execution_count": null,
=======
   "execution_count": 6,
>>>>>>> 232e8647c1359836fd4f07ebb3e9d330a5c838f3
   "metadata": {},
   "outputs": [],
   "source": [
    "if symmetric:\n",
    "    xs = np.array((df[' x'] - 500) / 100)\n",
    "    df[' x'] = xs\n",
    "else:\n",
    "    xs = np.array(df[' x'] / 100)\n",
    "    df[' x'] = xs\n",
    "    \n",
    "ys = np.array((df[' y'] - 500) / 100)\n",
    "df[' y'] = ys\n",
    "\n",
    "if model == 'neural':\n",
    "    ts = df['time']\n",
    "else:\n",
    "    ts = df[' time']\n",
    "\n",
    "xs = xs[ts < tmax]\n",
    "ys = ys[ts < tmax]\n",
    "ts = ts[ts < tmax]\n",
    "\n",
    "if nPosts == 2:\n",
    "    if symmetric:\n",
    "        post0_x = 5.0*np.cos(np.pi)\n",
    "        post0_y = 5.0*np.sin(np.pi)\n",
    "\n",
    "        post1_x = 5.0*np.cos(0)\n",
    "        post1_y = 5.0*np.sin(0)\n",
    "    else:\n",
    "        post0_x = 5.0*np.cos(np.pi/6)\n",
    "        post0_y = -5.0*np.sin(np.pi/6)\n",
    "\n",
    "        post1_x = 5.0*np.cos(np.pi/6)\n",
    "        post1_y = 5.0*np.sin(np.pi/6)\n",
    "elif nPosts == 3:\n",
    "    if symmetric:\n",
    "        post0_x = 5.0*np.cos(-2*np.pi/3)\n",
    "        post0_y = 5.0*np.sin(-2*np.pi/3)\n",
    "\n",
    "        post1_x = 5.0\n",
    "        post1_y = 0.0\n",
    "\n",
    "        post2_x = 5.0*np.cos(2*np.pi/3)\n",
    "        post2_y = 5.0*np.sin(2*np.pi/3)\n",
    "    else:\n",
    "        post0_x = 5.0*np.cos(2*np.pi/9)\n",
    "        post0_y = -5.0*np.sin(2*np.pi/9)\n",
    "\n",
    "        post1_x = 5.0\n",
    "        post1_y = 0.0\n",
    "\n",
    "        post2_x = 5.0*np.cos(2*np.pi/9)\n",
    "        post2_y = 5.0*np.sin(2*np.pi/9)\n",
    "else:\n",
    "    if symmetric:\n",
    "        post0_x = -5.0\n",
    "        post0_y = 0.0\n",
    "\n",
    "        post1_x = 0.0\n",
    "        post1_y = 5.0\n",
    "\n",
    "        post2_x = 5.0\n",
    "        post2_y = 0.0\n",
    "        \n",
    "        post3_x = 0.0\n",
    "        post3_y = -5.0\n",
    "    else:\n",
    "        post0_x = 5.0*np.cos(2*np.pi/9)\n",
    "        post0_y = -5.0*np.sin(2*np.pi/9)\n",
    "\n",
    "        post1_x = 5.0\n",
    "        post1_y = 0.0\n",
    "\n",
    "        post2_x = 5.0*np.cos(2*np.pi/9)\n",
    "        post2_y = 5.0*np.sin(2*np.pi/9)"
   ]
  },
  {
   "cell_type": "code",
<<<<<<< HEAD
   "execution_count": 3,
=======
   "execution_count": 7,
>>>>>>> 232e8647c1359836fd4f07ebb3e9d330a5c838f3
   "metadata": {
    "scrolled": true
   },
   "outputs": [
    {
     "ename": "NameError",
     "evalue": "name 'post2_x' is not defined",
     "output_type": "error",
     "traceback": [
      "\u001b[0;31m---------------------------------------------------------------------------\u001b[0m",
      "\u001b[0;31mNameError\u001b[0m                                 Traceback (most recent call last)",
      "\u001b[0;32m<ipython-input-3-8f6eaa8c87cb>\u001b[0m in \u001b[0;36m<module>\u001b[0;34m\u001b[0m\n\u001b[1;32m      8\u001b[0m         \u001b[0mfig\u001b[0m\u001b[0;34m,\u001b[0m \u001b[0max\u001b[0m \u001b[0;34m=\u001b[0m \u001b[0mplt\u001b[0m\u001b[0;34m.\u001b[0m\u001b[0msubplots\u001b[0m\u001b[0;34m(\u001b[0m\u001b[0;36m1\u001b[0m\u001b[0;34m,\u001b[0m\u001b[0;36m1\u001b[0m\u001b[0;34m,\u001b[0m\u001b[0mfigsize\u001b[0m\u001b[0;34m=\u001b[0m\u001b[0;34m(\u001b[0m\u001b[0;36m2\u001b[0m\u001b[0;34m,\u001b[0m\u001b[0;36m2\u001b[0m\u001b[0;34m)\u001b[0m\u001b[0;34m)\u001b[0m\u001b[0;34m\u001b[0m\u001b[0m\n\u001b[1;32m      9\u001b[0m     \u001b[0;32melse\u001b[0m\u001b[0;34m:\u001b[0m\u001b[0;34m\u001b[0m\u001b[0m\n\u001b[0;32m---> 10\u001b[0;31m         \u001b[0mfig\u001b[0m\u001b[0;34m,\u001b[0m \u001b[0max\u001b[0m \u001b[0;34m=\u001b[0m \u001b[0mplt\u001b[0m\u001b[0;34m.\u001b[0m\u001b[0msubplots\u001b[0m\u001b[0;34m(\u001b[0m\u001b[0;36m1\u001b[0m\u001b[0;34m,\u001b[0m\u001b[0;36m1\u001b[0m\u001b[0;34m,\u001b[0m\u001b[0mfigsize\u001b[0m\u001b[0;34m=\u001b[0m\u001b[0;34m(\u001b[0m\u001b[0;36m1.25\u001b[0m\u001b[0;34m,\u001b[0m\u001b[0mpost2_x\u001b[0m\u001b[0;34m/\u001b[0m\u001b[0;36m2\u001b[0m\u001b[0;34m)\u001b[0m\u001b[0;34m)\u001b[0m\u001b[0;34m\u001b[0m\u001b[0m\n\u001b[0m\u001b[1;32m     11\u001b[0m \u001b[0mplt\u001b[0m\u001b[0;34m.\u001b[0m\u001b[0mscatter\u001b[0m\u001b[0;34m(\u001b[0m\u001b[0mxs\u001b[0m\u001b[0;34m,\u001b[0m \u001b[0mys\u001b[0m\u001b[0;34m,\u001b[0m \u001b[0mc\u001b[0m\u001b[0;34m=\u001b[0m\u001b[0;34m'black'\u001b[0m\u001b[0;34m,\u001b[0m \u001b[0ms\u001b[0m\u001b[0;34m=\u001b[0m\u001b[0;36m1\u001b[0m\u001b[0;34m,\u001b[0m \u001b[0malpha\u001b[0m\u001b[0;34m=\u001b[0m\u001b[0;36m0.01\u001b[0m\u001b[0;34m)\u001b[0m\u001b[0;34m\u001b[0m\u001b[0m\n\u001b[1;32m     12\u001b[0m \u001b[0max\u001b[0m\u001b[0;34m.\u001b[0m\u001b[0mset_aspect\u001b[0m\u001b[0;34m(\u001b[0m\u001b[0;34m'equal'\u001b[0m\u001b[0;34m)\u001b[0m\u001b[0;34m\u001b[0m\u001b[0m\n",
      "\u001b[0;31mNameError\u001b[0m: name 'post2_x' is not defined"
     ]
    }
   ],
   "source": [
    "if nPosts == 2:\n",
    "    if symmetric:\n",
    "        fig, ax = plt.subplots(1,1,figsize=(2,2))\n",
    "    else:\n",
    "        fig, ax = plt.subplots(1,1,figsize=(post0_x/2.5,post1_y/1.25))\n",
    "else:\n",
    "    if symmetric:\n",
    "        fig, ax = plt.subplots(1,1,figsize=(2,2))\n",
    "    else:\n",
    "        fig, ax = plt.subplots(1,1,figsize=(1.25,post2_x/2))\n",
    "plt.scatter(xs, ys, c='black', s=1, alpha=0.01)\n",
    "ax.set_aspect('equal')\n",
    "if symmetric:\n",
    "    if nPosts == 2:\n",
    "        ax.set_xticks([-4,-2,0,2,4])\n",
    "        ax.set_yticks([-4,-2,0,2,4])\n",
    "    else:\n",
    "        ax.set_xticks([-4,-2,0,2,4])\n",
    "        ax.set_yticks([-4,-2,0,2,4])\n",
    "else:\n",
    "    if nPosts == 2:\n",
    "        ax.set_xticks([0,1,2,3,4])\n",
    "        ax.set_yticks([-2,-1,0,1,2])\n",
    "        plt.xlim(0,post0_x)\n",
    "        plt.ylim(post0_y,post1_y)\n",
    "    else: \n",
    "        ax.set_xticks([0,1,2,3,4,5])\n",
    "        #ax.set_yticks([-3,-2,-1,0,1,2,3])\n",
    "        plt.xlim(0,5)\n",
    "        plt.ylim(post0_y,post2_y)\n",
    "    \n",
    "fig.savefig('/Users/vivekhsridhar/Documents/Code/Python/fly-matrix/figures/' + prefix + 'trajectories_n' + str(nPosts) + '.pdf', dpi=600, bbox_inches='tight')"
   ]
  },
  {
   "cell_type": "code",
<<<<<<< HEAD
   "execution_count": 4,
=======
   "execution_count": 8,
>>>>>>> 232e8647c1359836fd4f07ebb3e9d330a5c838f3
   "metadata": {},
   "outputs": [],
   "source": [
    "nbins = 500\n",
    "peak_threshold = 0.9\n",
    "\n",
    "def density_map(x, y, stats=True):\n",
    "    blur = (11, 11) if stats == True else (51, 51)\n",
    "    \n",
    "    if nPosts == 2:\n",
    "        r = (\n",
    "            [[-5, 5], [-5, 5]]\n",
    "            if symmetric == True\n",
    "            else [[0, post0_x], [post0_y, post1_y]]\n",
    "        )\n",
    "    elif nPosts == 3:\n",
    "        r = (\n",
    "            [[post0_x, post1_x], [post0_y, post2_y]]\n",
    "            if symmetric == True\n",
    "            else [[0, post1_x], [post0_y, post2_y]]\n",
    "        )\n",
    "    else:\n",
    "        r = (\n",
    "            [[-5, 5], [-5, 5]]\n",
    "            if symmetric == True\n",
    "            else [[0, post1_x], [post0_y, post2_y]]\n",
    "        )\n",
    "    h, xedge, yedge, image = plt.hist2d(x, y, bins=nbins, normed=True, range=r)\n",
    "\n",
    "    if nPosts == 2:\n",
    "        tmp_img = np.flipud(np.rot90(cv2.GaussianBlur(h, blur, 0)))\n",
    "    else:\n",
    "        tmp_img = np.flipud(np.rot90(cv2.GaussianBlur(h, blur, 0)))\n",
    "\n",
    "    tmp_img /= np.max(tmp_img)\n",
    "\n",
    "    return tmp_img"
   ]
  },
  {
   "cell_type": "code",
   "execution_count": 9,
   "metadata": {},
   "outputs": [
    {
     "name": "stderr",
     "output_type": "stream",
     "text": [
      "/usr/local/lib/python3.7/site-packages/numpy/lib/histograms.py:986: RuntimeWarning: invalid value encountered in true_divide\n",
      "  hist /= s\n",
      "/usr/local/lib/python3.7/site-packages/numpy/core/fromnumeric.py:83: RuntimeWarning: invalid value encountered in reduce\n",
      "  return ufunc.reduce(obj, axis, dtype, out, **passkwargs)\n",
      "/usr/local/lib/python3.7/site-packages/matplotlib/image.py:405: UserWarning: Warning: converting a masked element to nan.\n",
      "  dv = (np.float64(self.norm.vmax) -\n",
      "/usr/local/lib/python3.7/site-packages/matplotlib/image.py:406: UserWarning: Warning: converting a masked element to nan.\n",
      "  np.float64(self.norm.vmin))\n",
      "/usr/local/lib/python3.7/site-packages/matplotlib/image.py:412: UserWarning: Warning: converting a masked element to nan.\n",
      "  a_min = np.float64(newmin)\n",
      "/usr/local/lib/python3.7/site-packages/matplotlib/image.py:417: UserWarning: Warning: converting a masked element to nan.\n",
      "  a_max = np.float64(newmax)\n",
      "/usr/local/lib/python3.7/site-packages/matplotlib/colors.py:916: UserWarning: Warning: converting a masked element to nan.\n",
      "  dtype = np.min_scalar_type(value)\n",
      "/usr/local/lib/python3.7/site-packages/numpy/ma/core.py:715: UserWarning: Warning: converting a masked element to nan.\n",
      "  data = np.array(a, copy=False, subok=subok)\n"
     ]
    },
    {
     "data": {
      "image/png": "iVBORw0KGgoAAAANSUhEUgAAAXYAAAD8CAYAAABjAo9vAAAABHNCSVQICAgIfAhkiAAAAAlwSFlzAAALEgAACxIB0t1+/AAAADl0RVh0U29mdHdhcmUAbWF0cGxvdGxpYiB2ZXJzaW9uIDIuMi4yLCBodHRwOi8vbWF0cGxvdGxpYi5vcmcvhp/UCwAACyJJREFUeJzt3X+o3XUdx/HXq+266+aGSJJrWygkAxHRuEzCKPJHTJPsB4FCRiRcggSlQJRBIBEEgvRHQVxSKhqKqEPxR7rRQAR/bWuu/XAyRHEiDDFzI1Cnr/64h+5cc3c730/ne33f5wMO3nPPd5/v2y/u6Zfv+Z57nUQAgDo+0/cAAIC2CDsAFEPYAaAYwg4AxRB2ACiGsANAMYQdAIoh7ABQDGEHgGIW9rHTU7wo41rSx64B4FProP75VpIzZ9uul7CPa4ku9mV97BoAPrU25f7XTmQ7LsUAQDGEHQCK6Rx22+O2n7f9ou1dtm9vMRgAYDgtrrG/J+nSJIdsj0l62vbjSZ5tsDYA4CR1Dnumf6D7ocHTscGDH/IOAD1pco3d9gLb2yUdkLQxyXMt1gUAnLwmYU/yYZILJa2UtMb2+UdvY3vS9hbbWz7Qey12CwA4hqZ3xSR5R9JmSWuP8dpUkokkE2Na1HK3AIAjtLgr5kzbpw++PlXSFZJe6rouAGA4Le6KWS7pT7YXaPp/FPcleaTBugCAIbS4K2aHpIsazAIAaIBPngJAMYQdAIoh7ABQDGEHgGIIOwAUQ9gBoBjCDgDFEHYAKIawA0AxhB0AiiHsAFAMYQeAYgg7ABRD2AGgGMIOAMUQdgAohrADQDGEHQCKIewAUAxhB4BiCDsAFEPYAaAYwg4AxRB2ACiGsANAMZ3DbnuV7c22d9veZfumFoMBAIazsMEahyX9PMk220slbbW9McnuBmsDAE5S5zP2JG8m2Tb4+qCkPZJWdF0XADCcFmfs/2X7bEkXSXruGK9NSpqUpHEtbrlbAMARmr15avs0SQ9IujnJu0e/nmQqyUSSiTEtarVbAMBRmoTd9pimo74+yYMt1gQADKfFXTGWdJekPUnu7D4SAKCLFmfsl0i6XtKltrcPHlc1WBcAMITOb54meVqSG8wCAGiAT54CQDGEHQCKIewAUAxhB4BiCDsAFEPYAaAYwg4AxRB2ACiGsANAMYQdAIoh7ABQDGEHgGIIOwAUQ9gBoBjCDgDFEHYAKIawA0AxhB0AiiHsAFAMYQeAYgg7ABRD2AGgGMIOAMUQdgAohrADQDFNwm77btsHbO9ssR4AYHitztj/KGlto7UAAB00CXuSpyS93WItAEA3C0e1I9uTkiYlaVyLR7VbAJh3RvbmaZKpJBNJJsa0aFS7BYB5h7tiAKAYwg4AxbS63fEeSc9IWm17v+0bWqwLADh5Td48TXJdi3UAAN1xKQYAiiHsAFAMYQeAYgg7ABRD2AGgGMIOAMUQdgAohrADQDGEHQCKIewAUAxhB4BiCDsAFEPYAaAYwg4AxRB2ACiGsANAMYQdAIoh7ABQDGEHgGIIOwAUQ9gBoBjCDgDFEHYAKIawA0AxTcJue63tvbb32b61xZoAgOF0DrvtBZJ+J+lKSedJus72eV3XBQAMp8UZ+xpJ+5K8kuR9SfdKuqbBugCAIbQI+wpJrx/xfP/gewCAHiwc1Y5sT0qalKRxLR7VbgFg3mlxxv6GpFVHPF85+N7HJJlKMpFkYkyLGuwWAHAsLcL+gqRzbZ9j+xRJ10p6uMG6AIAhdL4Uk+Sw7RslPSFpgaS7k+zqPBkAYChNrrEneUzSYy3WAgB0wydPAaAYwg4AxRB2ACiGsANAMYQdAIoh7ABQDGEHgGIIOwAUQ9gBoBjCDgDFEHYAKIawA0AxhB0AiiHsAFAMYQeAYgg7ABRD2AGgGMIOAMUQdgAohrADQDGEHQCKIewAUAxhB4BiCDsAFEPYAaCYTmG3/X3bu2x/ZHui1VAAgOF1PWPfKem7kp5qMAsAoIGFXf5wkj2SZLvNNACAzrjGDgDFzHrGbnuTpLOO8dK6JA+d6I5sT0qalKRxLT7hAQEAJ2fWsCe5vMWOkkxJmpKkZT4jLdYEAPwvLsUAQDFdb3f8ju39kr4s6VHbT7QZCwAwrK53xWyQtKHRLACABrgUAwDFEHYAKIawA0AxhB0AiiHsAFAMYQeAYgg7ABRD2AGgGMIOAMUQdgAohrADQDGEHQCKIewAUAxhB4BiCDsAFEPYAaAYwg4AxRB2ACiGsANAMYQdAIoh7ABQDGEHgGIIOwAUQ9gBoBjCDgDFdAq77Ttsv2R7h+0Ntk9vNRgAYDhdz9g3Sjo/yQWSXpZ0W/eRAABddAp7kieTHB48fVbSyu4jAQC6aHmN/ceSHm+4HgBgCAtn28D2JklnHeOldUkeGmyzTtJhSeuPs86kpElJGtfioYYFAMxu1rAnufx4r9v+kaSrJV2WJMdZZ0rSlCQt8xmfuB0AoJtZw348ttdKukXS15L8u81IAIAuul5j/62kpZI22t5u+/cNZgIAdNDpjD3JF1sNAgBog0+eAkAxhB0AiiHsAFAMYQeAYgg7ABRD2AGgGMIOAMUQdgAohrADQDGEHQCKIewAUAxhB4BiCDsAFEPYAaAYwg4AxRB2ACiGsANAMYQdAIoh7ABQDGEHgGIIOwAUQ9gBoBjCDgDFEHYAKIawA0AxncJu+5e2d9jebvtJ259vNRgAYDhdz9jvSHJBkgslPSLpFw1mAgB00CnsSd494ukSSek2DgCgq4VdF7D9K0k/lPQvSV/vPBEAoJNZz9htb7K98xiPayQpybokqyStl3TjcdaZtL3F9pYP9F67fwMAwMc4aXP1xPYXJD2W5PzZtl3mM3KxL2uyXwCYLzbl/q1JJmbbrutdMece8fQaSS91WQ8A0F3Xa+y/tr1a0keSXpP0k+4jAQC66BT2JN9rNQgAoA0+eQoAxRB2ACim2V0xJ7VT+6CkvSPf8dz0WUlv9T3EHMGxmMGxmMGxmLE6ydLZNur8AaUh7T2RW3bmA9tbOBbTOBYzOBYzOBYzbG85ke24FAMAxRB2ACimr7BP9bTfuYhjMYNjMYNjMYNjMeOEjkUvb54CAP5/uBQDAMWMNOy219rea3uf7VtHue+5xvbdtg/Y3tn3LH2yvcr2Ztu7be+yfVPfM/XF9rjt522/ODgWt/c9U99sL7D9d9uP9D1Ln2y/avsfg99WN+udMSO7FGN7gaSXJV0hab+kFyRdl2T3SAaYY2x/VdIhSX8+kZ+IWZXt5ZKWJ9lme6mkrZK+PR//u7BtSUuSHLI9JulpSTclebbn0Xpj+2eSJiQtS3J13/P0xfarkiaSnND9/KM8Y18jaV+SV5K8L+leTf9EyHkpyVOS3u57jr4leTPJtsHXByXtkbSi36n6kWmHBk/HBo95+yaY7ZWSvinpD33P8mkzyrCvkPT6Ec/3a57+Bcax2T5b0kWSnut3kv4MLj1sl3RA0sYk8/ZYSPqNpFs0/dNj57tIetL2VtuTs23Mm6eYE2yfJukBSTcf9bt055UkHw5+OfxKSWtsz8vLdLavlnQgyda+Z5kjvpLkS5KulPTTwaXcTzTKsL8hadURz1cOvod5bnA9+QFJ65M82Pc8c0GSdyRtlrS271l6comkbw2uLd8r6VLbf+l3pP4keWPwzwOSNmj60vYnGmXYX5B0ru1zbJ8i6VpJD49w/5iDBm8Y3iVpT5I7+56nT7bPtH364OtTNX2jwbz8rWRJbkuyMsnZmm7F35L8oOexemF7yeDGAtleIukbko57N93Iwp7ksKZ/2fUTmn6D7L4ku0a1/7nG9j2SnpG02vZ+2zf0PVNPLpF0vabPyLYPHlf1PVRPlkvabHuHpk+ENiaZ17f5QZL0OUlP235R0vOSHk3y1+P9AT55CgDF8OYpABRD2AGgGMIOAMUQdgAohrADQDGEHQCKIewAUAxhB4Bi/gPB/lYgf2KsSwAAAABJRU5ErkJggg==\n",
      "text/plain": [
       "<Figure size 432x288 with 1 Axes>"
      ]
     },
     "metadata": {},
     "output_type": "display_data"
    }
   ],
   "source": [
    "for idx,t in enumerate(range(tmin,tmax,10)):\n",
    "    window_min = t\n",
    "    window_max = t + window_size\n",
    "    \n",
    "    x = xs[(ts > window_min) & (ts < window_max)]\n",
    "    y = ys[(ts > window_min) & (ts < window_max)]\n",
    "    tmp_img = density_map(x, y, stats=False)\n",
    "    \n",
    "    if idx == 0:\n",
    "        img = tmp_img\n",
    "    else:\n",
    "        img = np.fmax(tmp_img, img)\n",
    "        \n",
    "if nPosts == 2:\n",
    "    x_peaks = np.where(img > peak_threshold)[1] * post0_x / nbins\n",
    "    y_peaks = np.where(img > peak_threshold)[0] * (post0_y - post1_y) / nbins + post1_y\n",
    "elif nPosts == 3:\n",
    "    x_peaks = np.where(img > peak_threshold)[1] * post1_x / nbins\n",
    "    y_peaks = np.where(img > peak_threshold)[0] * (post0_y - post2_y) / nbins + post2_y"
   ]
  },
  {
   "cell_type": "code",
   "execution_count": 10,
   "metadata": {},
   "outputs": [
    {
     "data": {
      "image/png": "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\n",
      "text/plain": [
       "<Figure size 90x137.888 with 1 Axes>"
      ]
     },
     "metadata": {},
     "output_type": "display_data"
    }
   ],
   "source": [
    "if nPosts == 2:\n",
    "    if symmetric == True:\n",
    "        fig, ax = plt.subplots(1,1, figsize=(2,2))\n",
    "        plt.imshow(img, extent=[-5, 5, -5.0, 5.0])\n",
    "        plt.xticks([-4,-2,0,2,4])\n",
    "        plt.yticks([-4,-2,0,2,4])\n",
    "    else:\n",
    "        fig, ax = plt.subplots(1, 1, figsize=(post0_x/2.5,post1_y/1.25))\n",
    "        plt.imshow(img, extent=[0, post0_x, post0_y, post1_y])\n",
    "        plt.xticks([0,1,2,3,4])\n",
    "elif nPosts == 3:\n",
    "    if symmetric == True:\n",
    "        fig, ax = plt.subplots(1,1, figsize=(3.75/2,post2_y/2))\n",
    "        plt.imshow(img, extent=[post0_x, post1_x, post0_y, post2_y])\n",
    "    else:\n",
    "        fig, ax = plt.subplots(1, 1, figsize=(1.25,post2_x/2))\n",
    "        plt.imshow(img, extent=[0, post1_x, post0_y, post2_y])\n",
    "        plt.xticks([0,1,2,3,4,5])\n",
    "else:\n",
    "    if symmetric == True:\n",
    "        fig, ax = plt.subplots(1,1, figsize=(post2_x/2,post1_y/2))\n",
    "        plt.imshow(img, extent=[-post2_x, post2_x, -post1_y, post1_y])\n",
    "        plt.xticks([-4,-2,0,2,4])\n",
    "    else:\n",
    "        fig, ax = plt.subplots(1, 1, figsize=(1.25,post2_x/2))\n",
    "        plt.imshow(img, extent=[0, post1_x, post0_y, post2_y])\n",
    "        plt.xticks([0,1,2,3,4,5])\n",
    "\n",
    "fig.savefig('/Users/vivekhsridhar/Documents/Code/Python/fly-matrix/figures/' + prefix + 'density_n' + str(nPosts) + '.pdf', dpi=600, bbox_inches='tight')"
   ]
  },
  {
   "cell_type": "markdown",
   "metadata": {},
   "source": [
    "### Identify bifurcation point using a piecewise phase-transition function"
   ]
  },
  {
   "cell_type": "markdown",
   "metadata": {},
   "source": [
    "#### Get first bifurcation point\n",
    "Once you have this, you can draw a line segment bisecting the angle between the point and two targets. This will be the line about which you symmetrise to get the second bifurcation point"
   ]
  },
  {
   "cell_type": "code",
   "execution_count": 11,
   "metadata": {},
   "outputs": [],
   "source": [
    "def fitfunc(x, p, q, r):\n",
    "    return r * (np.abs((x - p)) ** q)\n",
    "\n",
    "def fitfunc_vec_self(x, p, q, r):\n",
    "    y = np.zeros(x.shape)\n",
    "    for i in range(len(y)):\n",
    "        y[i] = fitfunc(x[i], p, q, r)\n",
    "    return y"
   ]
  },
  {
   "cell_type": "code",
   "execution_count": 12,
   "metadata": {
    "scrolled": true
   },
   "outputs": [
    {
     "name": "stderr",
     "output_type": "stream",
     "text": [
      "/usr/local/lib/python3.7/site-packages/numpy/lib/histograms.py:986: RuntimeWarning: invalid value encountered in true_divide\n",
      "  hist /= s\n",
      "/usr/local/lib/python3.7/site-packages/numpy/core/fromnumeric.py:83: RuntimeWarning: invalid value encountered in reduce\n",
      "  return ufunc.reduce(obj, axis, dtype, out, **passkwargs)\n",
      "/usr/local/lib/python3.7/site-packages/matplotlib/image.py:405: UserWarning: Warning: converting a masked element to nan.\n",
      "  dv = (np.float64(self.norm.vmax) -\n",
      "/usr/local/lib/python3.7/site-packages/matplotlib/image.py:406: UserWarning: Warning: converting a masked element to nan.\n",
      "  np.float64(self.norm.vmin))\n",
      "/usr/local/lib/python3.7/site-packages/matplotlib/image.py:412: UserWarning: Warning: converting a masked element to nan.\n",
      "  a_min = np.float64(newmin)\n",
      "/usr/local/lib/python3.7/site-packages/matplotlib/image.py:417: UserWarning: Warning: converting a masked element to nan.\n",
      "  a_max = np.float64(newmax)\n",
      "/usr/local/lib/python3.7/site-packages/matplotlib/colors.py:916: UserWarning: Warning: converting a masked element to nan.\n",
      "  dtype = np.min_scalar_type(value)\n",
      "/usr/local/lib/python3.7/site-packages/numpy/ma/core.py:715: UserWarning: Warning: converting a masked element to nan.\n",
      "  data = np.array(a, copy=False, subok=subok)\n"
     ]
    },
    {
     "data": {
      "image/png": "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\n",
      "text/plain": [
       "<Figure size 432x288 with 1 Axes>"
      ]
     },
     "metadata": {},
     "output_type": "display_data"
    }
   ],
   "source": [
    "x_fit = []\n",
    "y_fit = []\n",
    "    \n",
    "if nPosts == 2:\n",
    "    if model == 'neural':\n",
    "        bif_pt = 2.5\n",
    "        params1 = [3, 1, 1]\n",
    "    else:\n",
    "        bif_pt = 1.2\n",
    "        params1 = [1.5, 1, 1]\n",
    "    \n",
    "    x_sub = np.concatenate((xs, xs))\n",
    "    y_sub = np.concatenate((ys, -ys))\n",
    "    t_sub = np.concatenate((ts, ts))\n",
    "\n",
    "    tmin = np.min(t_sub)\n",
    "    tmax = np.max(t_sub)-100 if model == 'neural' else np.max(t_sub)-500\n",
    "    for idx,t in enumerate(range(tmin,tmax,10)):\n",
    "        window_min = t\n",
    "        window_max = t + window_size\n",
    "\n",
    "        x = x_sub[(t_sub > window_min) & (t_sub < window_max)]\n",
    "        y = y_sub[(t_sub > window_min) & (t_sub < window_max)]\n",
    "        tmp_img2 = density_map(x, y, stats=True)\n",
    "\n",
    "        if idx == 0:\n",
    "            tmp_img = tmp_img2\n",
    "        else:\n",
    "            tmp_img = np.fmax(tmp_img2, tmp_img)\n",
    "    \n",
    "    x_fit = np.where(tmp_img > peak_threshold)[1] * post0_x / nbins\n",
    "    y_fit = (\n",
    "        np.where(tmp_img > peak_threshold)[0] * (post0_y - post1_y) / nbins\n",
    "        + post1_y\n",
    "    )\n",
    "\n",
    "    x_fit = x_fit\n",
    "    y_fit = np.abs(y_fit)\n",
    "    y_fit = y_fit[x_fit > bif_pt]\n",
    "    x_fit = x_fit[x_fit > bif_pt]\n",
    "\n",
    "    for i in range(0,10):\n",
    "        fit_params, pcov = curve_fit(\n",
    "            fitfunc_vec_self, x_fit, y_fit, p0=params1, maxfev=10000\n",
    "        )\n",
    "        params1 = fit_params\n",
    "\n",
    "else:\n",
    "    if model == 'neural':\n",
    "        bif_pt = 1\n",
    "        params1 = [1.2, 1, 0.5]\n",
    "        \n",
    "        xs1 = xs[xs < 2.7]\n",
    "        ys1 = ys[xs < 2.7]\n",
    "        ts1 = ts[xs < 2.7]\n",
    "    else:\n",
    "        bif_pt = 0.8\n",
    "        params1 = [1, 1, 0.5]\n",
    "        \n",
    "        xs1 = xs[xs < 2.5]\n",
    "        ys1 = ys[xs < 2.5]\n",
    "        ts1 = ts[xs < 2.5]\n",
    "\n",
    "    x_sub = np.concatenate((xs1, xs1))\n",
    "    y_sub = np.concatenate((ys1, -ys1))\n",
    "    t_sub = np.concatenate((ts1, ts1))\n",
    "\n",
    "    tmin = np.min(t_sub)\n",
    "    tmax = np.max(t_sub)-100 if model == 'neural' else np.max(t_sub)-500\n",
    "    for idx,t in enumerate(range(tmin,tmax,10)):\n",
    "        window_min = t\n",
    "        window_max = t + window_size\n",
    "\n",
    "        x = x_sub[(t_sub > window_min) & (t_sub < window_max)]\n",
    "        y = y_sub[(t_sub > window_min) & (t_sub < window_max)]\n",
    "        tmp_img2 = density_map(x, y, stats=True)\n",
    "\n",
    "        if idx == 0:\n",
    "            tmp_img = tmp_img2\n",
    "        else:\n",
    "            tmp_img = np.fmax(tmp_img2, tmp_img)\n",
    "            \n",
    "    x_fit = np.where(tmp_img > peak_threshold)[1] * post1_x / nbins\n",
    "    y_fit = (\n",
    "        np.where(tmp_img > peak_threshold)[0] * (post0_y - post2_y) / nbins\n",
    "        + post2_y\n",
    "    )\n",
    "\n",
    "    x_fit = x_fit\n",
    "    y_fit = np.abs(y_fit)\n",
    "    y_fit = y_fit[x_fit > bif_pt]\n",
    "    x_fit = x_fit[x_fit > bif_pt]\n",
    "\n",
    "    for i in range(0,10):\n",
    "        fit_params, pcov = curve_fit(\n",
    "            fitfunc_vec_self, x_fit, y_fit, p0=params1, maxfev=10000\n",
    "        )\n",
    "        params1 = fit_params"
   ]
  },
  {
   "cell_type": "code",
   "execution_count": 13,
   "metadata": {},
   "outputs": [
    {
     "data": {
      "image/png": "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\n",
      "text/plain": [
       "<Figure size 432x288 with 1 Axes>"
      ]
     },
     "metadata": {},
     "output_type": "display_data"
    }
   ],
   "source": [
    "if nPosts == 2:\n",
    "    fig, ax = plt.subplots(1, 1, figsize=(post0_x/2.5,post1_y/1.25))\n",
    "    plt.imshow(img, extent=[0, post0_x, post0_y, post1_y])\n",
    "else:\n",
    "    plt.imshow(img, extent=[0, post1_x, post0_y, post2_y])\n",
    "\n",
    "parameters = params1\n",
    "step_len = 0.01\n",
    "\n",
    "x1 = np.arange(step_len, parameters[0], step_len)\n",
    "y1 = np.zeros(len(x1))\n",
    "\n",
    "offset=0.2 if model == 'neural' else 0.5\n",
    "x = (\n",
    "    np.arange(parameters[0], post0_x-offset, step_len)\n",
    "    if nPosts == 2\n",
    "    else np.arange(parameters[0], 3., step_len)\n",
    ")\n",
    "x2 = np.concatenate((x, x))\n",
    "y2 = np.concatenate(\n",
    "    ((parameters[2] * (x - parameters[0])) ** parameters[1], -(parameters[2] * (x - parameters[0])) ** parameters[1])\n",
    ")\n",
    "\n",
    "if nPosts != 2:\n",
    "    bisector_xs = [params1[0], post2_x]\n",
    "    bisector_ys = [\n",
    "        0,\n",
    "        np.tan(np.arctan2(post2_y, post2_x - params1[0]) / 2)\n",
    "        * (post2_x - params1[0]),\n",
    "    ]\n",
    "\n",
    "plt.xticks([0,1,2,3,4])\n",
    "plt.scatter(x1, y1, c=\"black\", s=0.1)\n",
    "plt.scatter(x2, y2, c=\"black\", s=0.1)\n",
    "    \n",
    "if nPosts == 2:\n",
    "    fig.savefig('/Users/vivekhsridhar/Documents/Code/Python/fly-matrix/figures/' + prefix + 'density_n' + str(nPosts) + '.pdf', dpi=600, bbox_inches='tight')"
   ]
  },
  {
   "cell_type": "code",
   "execution_count": 14,
   "metadata": {},
   "outputs": [
    {
     "name": "stdout",
     "output_type": "stream",
     "text": [
      "The first bifurcation occurs at an angle 96.730292017565\n"
     ]
    }
   ],
   "source": [
    "if nPosts == 2:\n",
    "    print(\n",
    "        \"The bifurcation occurs at an angle\",\n",
    "        2 * np.arctan2(post1_y, post1_x - params1[0]) * 180 / np.pi,\n",
    "    )\n",
    "else:\n",
    "    print(\n",
    "        \"The first bifurcation occurs at an angle\",\n",
    "        2 * np.arctan2(post2_y, post2_x - params1[0]) * 180 / np.pi,\n",
    "    )"
   ]
  },
  {
   "cell_type": "markdown",
   "metadata": {},
   "source": [
    "#### Get the second bifurcation point\n",
    "For this, you must center the trajectories about the bifurcation point, get a new heatmap and rotate this by the angle of the bisector line"
   ]
  },
  {
   "cell_type": "code",
   "execution_count": 15,
   "metadata": {},
   "outputs": [],
   "source": [
    "# center points about the first bifurcation\n",
    "cxs = xs - params1[0]\n",
    "cys = ys\n",
    "cts = ts\n",
    "\n",
    "cpost0_x = post0_x - params1[0]\n",
    "cpost1_x = post1_x - params1[0]\n",
    "cpost2_x = post2_x - params1[0]"
   ]
  },
  {
   "cell_type": "code",
   "execution_count": 16,
   "metadata": {},
   "outputs": [],
   "source": [
    "@numba.njit(fastmath=True, parallel=True)\n",
    "def parallel_rotate(xy, rmat):\n",
    "    out = np.zeros(xy.shape)\n",
    "    for idx in numba.prange(xy.shape[0]):\n",
    "        out[idx] = np.dot(rmat[idx], xy[idx])\n",
    "    return out"
   ]
  },
  {
   "cell_type": "code",
<<<<<<< HEAD
   "execution_count": 15,
=======
   "execution_count": 17,
   "metadata": {},
   "outputs": [
    {
     "name": "stderr",
     "output_type": "stream",
     "text": [
      "/usr/local/lib/python3.7/site-packages/numpy/lib/histograms.py:986: RuntimeWarning: invalid value encountered in true_divide\n",
      "  hist /= s\n",
      "/usr/local/lib/python3.7/site-packages/numpy/core/fromnumeric.py:83: RuntimeWarning: invalid value encountered in reduce\n",
      "  return ufunc.reduce(obj, axis, dtype, out, **passkwargs)\n",
      "/usr/local/lib/python3.7/site-packages/matplotlib/image.py:405: UserWarning: Warning: converting a masked element to nan.\n",
      "  dv = (np.float64(self.norm.vmax) -\n",
      "/usr/local/lib/python3.7/site-packages/matplotlib/image.py:406: UserWarning: Warning: converting a masked element to nan.\n",
      "  np.float64(self.norm.vmin))\n",
      "/usr/local/lib/python3.7/site-packages/matplotlib/image.py:412: UserWarning: Warning: converting a masked element to nan.\n",
      "  a_min = np.float64(newmin)\n",
      "/usr/local/lib/python3.7/site-packages/matplotlib/image.py:417: UserWarning: Warning: converting a masked element to nan.\n",
      "  a_max = np.float64(newmax)\n",
      "/usr/local/lib/python3.7/site-packages/matplotlib/colors.py:916: UserWarning: Warning: converting a masked element to nan.\n",
      "  dtype = np.min_scalar_type(value)\n",
      "/usr/local/lib/python3.7/site-packages/numpy/ma/core.py:715: UserWarning: Warning: converting a masked element to nan.\n",
      "  data = np.array(a, copy=False, subok=subok)\n"
     ]
    },
    {
     "data": {
      "image/png": "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\n",
      "text/plain": [
       "<Figure size 432x288 with 1 Axes>"
      ]
     },
     "metadata": {},
     "output_type": "display_data"
    }
   ],
   "source": [
    "for idx,t in enumerate(range(tmin,tmax,10)):\n",
    "    window_min = t\n",
    "    window_max = t + window_size\n",
    "    \n",
    "    x = cxs[(cts > window_min) & (cts < window_max)]\n",
    "    y = cys[(cts > window_min) & (cts < window_max)]\n",
    "    tmp_img = density_map(x, y, stats=False)\n",
    "    \n",
    "    if idx == 0:\n",
    "        tmp_img2 = tmp_img\n",
    "    else:\n",
    "        tmp_img2 = np.fmax(tmp_img2, tmp_img)"
   ]
  },
  {
   "cell_type": "code",
   "execution_count": 18,
>>>>>>> 232e8647c1359836fd4f07ebb3e9d330a5c838f3
   "metadata": {},
   "outputs": [
    {
     "name": "stderr",
     "output_type": "stream",
     "text": [
      "/usr/local/lib/python3.7/site-packages/numpy/lib/histograms.py:986: RuntimeWarning: invalid value encountered in true_divide\n",
      "  hist /= s\n",
      "/usr/local/lib/python3.7/site-packages/numpy/core/fromnumeric.py:83: RuntimeWarning: invalid value encountered in reduce\n",
      "  return ufunc.reduce(obj, axis, dtype, out, **passkwargs)\n",
      "/usr/local/lib/python3.7/site-packages/matplotlib/image.py:405: UserWarning: Warning: converting a masked element to nan.\n",
      "  dv = (np.float64(self.norm.vmax) -\n",
      "/usr/local/lib/python3.7/site-packages/matplotlib/image.py:406: UserWarning: Warning: converting a masked element to nan.\n",
      "  np.float64(self.norm.vmin))\n",
      "/usr/local/lib/python3.7/site-packages/matplotlib/image.py:412: UserWarning: Warning: converting a masked element to nan.\n",
      "  a_min = np.float64(newmin)\n",
      "/usr/local/lib/python3.7/site-packages/matplotlib/image.py:417: UserWarning: Warning: converting a masked element to nan.\n",
      "  a_max = np.float64(newmax)\n",
      "/usr/local/lib/python3.7/site-packages/matplotlib/colors.py:916: UserWarning: Warning: converting a masked element to nan.\n",
      "  dtype = np.min_scalar_type(value)\n",
      "/usr/local/lib/python3.7/site-packages/numpy/ma/core.py:715: UserWarning: Warning: converting a masked element to nan.\n",
      "  data = np.array(a, copy=False, subok=subok)\n"
     ]
    },
    {
     "data": {
      "image/png": "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\n",
      "text/plain": [
       "<Figure size 432x288 with 1 Axes>"
      ]
     },
     "metadata": {},
     "output_type": "display_data"
    }
   ],
   "source": [
    "# clip all points to the left of and below 0 and points beyond post centers\n",
    "ccxs = cxs[cxs > 0]\n",
    "ccys = cys[cxs > 0]\n",
    "ccts = cts[cxs > 0]\n",
    "ccxs = ccxs[ccys > 0]\n",
    "ccts = ccts[ccys > 0]\n",
    "ccys = ccys[ccys > 0]\n",
    "\n",
    "xy = np.concatenate((ccxs.reshape(-1, 1), ccys.reshape(-1, 1)), axis=1)\n",
    "angle = np.full(\n",
    "    ccxs.shape, np.arctan2(post2_y, post2_x - params1[0]) / 2\n",
    ")\n",
    "rmat = np.array([[np.cos(angle), -np.sin(angle)], [np.sin(angle), np.cos(angle)]]).T\n",
    "rx, ry = parallel_rotate(xy, rmat).T\n",
    "\n",
    "blur = (51,51)\n",
    "\n",
    "r1 = [[0, post1_x], [post0_y, post2_y]]\n",
    "\n",
    "tmin = np.min(ccts)\n",
    "tmax = np.max(ccts)-100 if model == 'neural' else np.max(ccts)-500\n",
    "for idx,t in enumerate(range(tmin,tmax,10)):\n",
    "    window_min = t\n",
    "    window_max = t + window_size\n",
    "    \n",
    "    x = rx[(ccts > window_min) & (ccts < window_max)]\n",
    "    y = ry[(ccts > window_min) & (ccts < window_max)]\n",
    "    tmp_img = density_map(x, y, stats=False)\n",
    "    \n",
    "    if idx == 0:\n",
    "        tmp_img1 = tmp_img\n",
    "    else:\n",
    "        tmp_img1 = np.fmax(tmp_img1, tmp_img)"
   ]
  },
  {
   "cell_type": "code",
   "execution_count": 19,
   "metadata": {},
   "outputs": [
    {
     "data": {
      "text/plain": [
       "<matplotlib.image.AxesImage at 0x15923c898>"
      ]
     },
     "execution_count": 19,
     "metadata": {},
     "output_type": "execute_result"
    },
    {
     "data": {
      "image/png": "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\n",
      "text/plain": [
       "<Figure size 432x288 with 1 Axes>"
      ]
     },
     "metadata": {},
     "output_type": "display_data"
    }
   ],
   "source": [
    "plt.imshow(tmp_img1, extent=[r1[0][0], r1[0][1], r1[1][0], r1[1][1]])"
   ]
  },
  {
   "cell_type": "code",
   "execution_count": 20,
   "metadata": {},
   "outputs": [
    {
     "name": "stderr",
     "output_type": "stream",
     "text": [
      "/usr/local/lib/python3.7/site-packages/numpy/lib/histograms.py:986: RuntimeWarning: invalid value encountered in true_divide\n",
      "  hist /= s\n",
      "/usr/local/lib/python3.7/site-packages/numpy/core/fromnumeric.py:83: RuntimeWarning: invalid value encountered in reduce\n",
      "  return ufunc.reduce(obj, axis, dtype, out, **passkwargs)\n",
      "/usr/local/lib/python3.7/site-packages/matplotlib/image.py:405: UserWarning: Warning: converting a masked element to nan.\n",
      "  dv = (np.float64(self.norm.vmax) -\n",
      "/usr/local/lib/python3.7/site-packages/matplotlib/image.py:406: UserWarning: Warning: converting a masked element to nan.\n",
      "  np.float64(self.norm.vmin))\n",
      "/usr/local/lib/python3.7/site-packages/matplotlib/image.py:412: UserWarning: Warning: converting a masked element to nan.\n",
      "  a_min = np.float64(newmin)\n",
      "/usr/local/lib/python3.7/site-packages/matplotlib/image.py:417: UserWarning: Warning: converting a masked element to nan.\n",
      "  a_max = np.float64(newmax)\n",
      "/usr/local/lib/python3.7/site-packages/matplotlib/colors.py:916: UserWarning: Warning: converting a masked element to nan.\n",
      "  dtype = np.min_scalar_type(value)\n",
      "/usr/local/lib/python3.7/site-packages/numpy/ma/core.py:715: UserWarning: Warning: converting a masked element to nan.\n",
      "  data = np.array(a, copy=False, subok=subok)\n"
     ]
    },
    {
     "data": {
      "image/png": "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\n",
      "text/plain": [
       "<Figure size 432x288 with 1 Axes>"
      ]
     },
     "metadata": {},
     "output_type": "display_data"
    }
   ],
   "source": [
    "if model == 'neural':\n",
    "    bif_pt = 2.2\n",
    "    params2 = [2.5, 1, 0.5]\n",
    "else:\n",
    "    bif_pt = 1.8\n",
    "    params2 = [2, 1, 0.5]\n",
    "\n",
    "x_sub = np.concatenate((rx, rx))\n",
    "y_sub = np.concatenate((ry, -ry))\n",
    "t_sub = np.concatenate((ccts, ccts))\n",
    "\n",
    "tmin = np.min(ccts)\n",
    "tmax = np.max(ccts)-100 if model == 'neural' else np.max(ccts)-500\n",
    "for idx,t in enumerate(range(tmin,tmax,10)):\n",
    "    window_min = t\n",
    "    window_max = t + window_size\n",
    "    \n",
    "    x = x_sub[(t_sub > window_min) & (t_sub < window_max)]\n",
    "    y = y_sub[(t_sub > window_min) & (t_sub < window_max)]\n",
    "    tmp_img = density_map(x, y, stats=False)\n",
    "    \n",
    "    if idx == 0:\n",
    "        tmp_img1 = tmp_img\n",
    "    else:\n",
    "        tmp_img1 = np.fmax(tmp_img1, tmp_img)\n",
    "\n",
    "x_fit = np.where(tmp_img1 > peak_threshold)[1] * post1_x / nbins\n",
    "y_fit = (\n",
    "    np.where(tmp_img1 > peak_threshold)[0] * (post0_y - post2_y) / nbins\n",
    "    + post2_y\n",
    ")\n",
    "\n",
    "x_fit = x_fit\n",
    "y_fit = np.abs(y_fit)\n",
    "y_fit = y_fit[x_fit > bif_pt]\n",
    "x_fit = x_fit[x_fit > bif_pt]\n",
    "\n",
    "for i in range(0,10):\n",
    "    fit_params, pcov = curve_fit(\n",
    "        fitfunc_vec_self, x_fit, y_fit, p0=params2, maxfev=10000\n",
    "    )\n",
    "    params2 = fit_params"
   ]
  },
  {
   "cell_type": "code",
   "execution_count": 21,
   "metadata": {},
   "outputs": [
    {
     "data": {
      "text/plain": [
       "<matplotlib.collections.PathCollection at 0x176db2e48>"
      ]
     },
     "execution_count": 21,
     "metadata": {},
     "output_type": "execute_result"
    },
    {
     "data": {
      "image/png": "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\n",
      "text/plain": [
       "<Figure size 432x288 with 1 Axes>"
      ]
     },
     "metadata": {},
     "output_type": "display_data"
    }
   ],
   "source": [
    "plt.imshow(tmp_img1, extent=[r1[0][0], r1[0][1], r1[1][0], r1[1][1]])\n",
    "\n",
    "parameters = params2\n",
    "step_len = 0.01\n",
    "\n",
    "x1 = np.arange(step_len, parameters[0], step_len)\n",
    "y1 = np.zeros(len(x1))\n",
    "\n",
    "x = np.arange(parameters[0], 3, step_len)\n",
    "x2 = np.concatenate((x, x))\n",
    "y2 = np.concatenate(\n",
    "    ((parameters[2] * (x - parameters[0])) ** parameters[1], -(parameters[2] * (x - parameters[0])) ** parameters[1])\n",
    ")\n",
    "\n",
    "plt.scatter(x1, y1, c=\"black\", s=1)\n",
    "plt.scatter(x2, y2, c=\"black\", s=1)"
   ]
  },
  {
   "cell_type": "code",
   "execution_count": 22,
   "metadata": {},
   "outputs": [],
   "source": [
    "bif2 = np.array([params2[0], 0]).reshape(1, -1)\n",
    "ang = angle[0]\n",
    "rmat1 = np.array([[np.cos(ang), -np.sin(ang)], [np.sin(ang), np.cos(ang)]]).T\n",
    "bif2 = parallel_rotate(bif2, rmat).T\n",
    "bif2[0] += params1[0]"
   ]
  },
  {
   "cell_type": "code",
   "execution_count": 23,
   "metadata": {},
   "outputs": [
    {
     "name": "stdout",
     "output_type": "stream",
     "text": [
      "The second bifurcation occurs at angle 94.00805066926203\n"
     ]
    }
   ],
   "source": [
    "print(\n",
    "    \"The second bifurcation occurs at angle\",\n",
    "    (\n",
    "        (\n",
    "            np.arctan2(post2_y - bif2[1], post2_x - bif2[0])\n",
    "            - np.arctan2(bif2[1] - post1_y, post1_x - bif2[0])\n",
    "        )\n",
    "        * 180\n",
    "        / np.pi\n",
    "    )[0],\n",
    ")"
   ]
  },
  {
   "cell_type": "code",
   "execution_count": 24,
   "metadata": {},
   "outputs": [],
   "source": [
    "x1 = np.arange(step_len, parameters[0], step_len)\n",
    "y1 = np.zeros(len(x1))\n",
    "bcxy1 = np.concatenate((x1.reshape(-1, 1), y1.reshape(-1, 1)), axis=1)\n",
    "ang1 = np.full(\n",
    "    x1.shape, -np.arctan2(post2_y, post2_x - params1[0]) / 2\n",
    ")\n",
    "rmat1 = np.array([[np.cos(ang1), -np.sin(ang1)], [np.sin(ang1), np.cos(ang1)]]).T\n",
    "bcx1, bcy1 = parallel_rotate(bcxy1, rmat1).T\n",
    "bx1 = bcx1 + params1[0]"
   ]
  },
  {
   "cell_type": "code",
   "execution_count": 25,
   "metadata": {},
   "outputs": [
    {
     "data": {
      "image/png": "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\n",
      "text/plain": [
       "<Figure size 90x137.888 with 1 Axes>"
      ]
     },
     "metadata": {},
     "output_type": "display_data"
    }
   ],
   "source": [
    "fig, ax = plt.subplots(1, 1, figsize=(1.25,post2_x/2))\n",
    "plt.imshow(img, extent=[0, post1_x, post0_y, post2_y])\n",
    "\n",
    "step_len = 0.01\n",
    "parameters = params2\n",
    "\n",
    "x1 = np.arange(5*step_len, parameters[1], step_len)\n",
    "y1 = np.zeros(len(x1))\n",
    "bcxy1 = np.concatenate((x1.reshape(-1, 1), y1.reshape(-1, 1)), axis=1)\n",
    "ang1 = np.full(\n",
    "    x1.shape, -np.arctan2(post2_y, post2_x - params1[0]) / 2\n",
    ")\n",
    "rmat1 = np.array([[np.cos(ang1), -np.sin(ang1)], [np.sin(ang1), np.cos(ang1)]]).T\n",
    "bcx1, bcy1 = parallel_rotate(bcxy1, rmat1).T\n",
    "bx1 = bcx1 + params1[0]\n",
    "\n",
    "x = np.arange(parameters[0], 3.5, step_len) if model == 'neural' else np.arange(parameters[0], 3, step_len)\n",
    "x2 = np.concatenate((x, x))\n",
    "y2 = np.concatenate(\n",
    "    (\n",
    "        (parameters[2] * (x - parameters[0])) ** parameters[1], \n",
    "        -(parameters[2] * (x - parameters[0])) ** parameters[1])\n",
    ") \n",
    "\n",
    "bcxy2 = np.concatenate((x2.reshape(-1, 1), y2.reshape(-1, 1)), axis=1)\n",
    "ang2 = np.full(\n",
    "    x2.shape, -np.arctan2(post2_y, post2_x - params1[0]) / 2\n",
    ")\n",
    "rmat2 = np.array([[np.cos(ang2), -np.sin(ang2)], [np.sin(ang2), np.cos(ang2)]]).T\n",
    "bcx2, bcy2 = parallel_rotate(bcxy2, rmat2).T\n",
    "bx2 = bcx2 + params1[0]\n",
    "\n",
    "bx2 = np.concatenate((bx2, bx2))\n",
    "bcy2 = np.concatenate((bcy2, -bcy2))\n",
    "\n",
    "bcy2 = bcy2[bx2 < post1_x-0.1]\n",
    "bx2 = bx2[bx2 < post1_x-0.1]\n",
    "\n",
    "bx2 = bx2[np.abs(bcy2) < post2_y-0.1]\n",
    "bcy2 = bcy2[np.abs(bcy2) < post2_y-0.1]\n",
    "\n",
    "plt.scatter(bx2, bcy2, c=\"black\", s=0.1)\n",
    "\n",
    "parameters = params1\n",
    "step_len = 0.01\n",
    "\n",
    "x1 = np.arange(5*step_len, parameters[0], step_len)\n",
    "y1 = np.zeros(len(x1))\n",
    "\n",
    "x = np.arange(parameters[0], np.min(bx2), step_len)\n",
    "x2 = np.concatenate((x, x))\n",
    "y2 = np.concatenate(\n",
    "    (\n",
    "        (parameters[2] * (x - parameters[0])) ** parameters[1], \n",
    "        -(parameters[2] * (x - parameters[0])) ** parameters[1],\n",
    "    )\n",
    ")\n",
    "\n",
    "plt.scatter(x1, y1, c=\"black\", s=0.1)\n",
    "plt.scatter(x2, y2, c=\"black\", s=0.1)\n",
    "plt.xticks([0,1,2,3,4,5])\n",
    "    \n",
    "fig.savefig('/Users/vivekhsridhar/Documents/Code/Python/fly-matrix/figures/' + prefix + 'density_n' + str(nPosts) + '.pdf', dpi=600, bbox_inches='tight')"
   ]
  },
  {
   "cell_type": "code",
   "execution_count": null,
   "metadata": {},
   "outputs": [],
   "source": []
  }
 ],
 "metadata": {
  "kernelspec": {
   "display_name": "Python 3",
   "language": "python",
   "name": "python3"
  },
  "language_info": {
   "codemirror_mode": {
    "name": "ipython",
    "version": 3
   },
   "file_extension": ".py",
   "mimetype": "text/x-python",
   "name": "python",
   "nbconvert_exporter": "python",
   "pygments_lexer": "ipython3",
   "version": "3.6.3"
  }
 },
 "nbformat": 4,
 "nbformat_minor": 2
}
