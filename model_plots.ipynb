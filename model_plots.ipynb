{
 "cells": [
  {
   "cell_type": "code",
   "execution_count": 1,
   "metadata": {},
   "outputs": [],
   "source": [
    "import cv2\n",
    "import numpy as np\n",
    "import pandas as pd\n",
    "import numba\n",
    "import matplotlib.pyplot as plt\n",
    "from scipy.optimize import curve_fit\n",
    "\n",
    "import matplotlib"
   ]
  },
  {
   "cell_type": "code",
   "execution_count": 20,
   "metadata": {
    "scrolled": false
   },
   "outputs": [
    {
     "data": {
      "text/html": [
       "<div>\n",
       "<style scoped>\n",
       "    .dataframe tbody tr th:only-of-type {\n",
       "        vertical-align: middle;\n",
       "    }\n",
       "\n",
       "    .dataframe tbody tr th {\n",
       "        vertical-align: top;\n",
       "    }\n",
       "\n",
       "    .dataframe thead th {\n",
       "        text-align: right;\n",
       "    }\n",
       "</style>\n",
       "<table border=\"1\" class=\"dataframe\">\n",
       "  <thead>\n",
       "    <tr style=\"text-align: right;\">\n",
       "      <th></th>\n",
       "      <th>time</th>\n",
       "      <th>x</th>\n",
       "      <th>y</th>\n",
       "      <th>susceptibility</th>\n",
       "    </tr>\n",
       "  </thead>\n",
       "  <tbody>\n",
       "    <tr>\n",
       "      <th>0</th>\n",
       "      <td>10</td>\n",
       "      <td>3.57263</td>\n",
       "      <td>500.135</td>\n",
       "      <td>0.737391</td>\n",
       "    </tr>\n",
       "    <tr>\n",
       "      <th>1</th>\n",
       "      <td>20</td>\n",
       "      <td>8.55993</td>\n",
       "      <td>500.100</td>\n",
       "      <td>1.852310</td>\n",
       "    </tr>\n",
       "    <tr>\n",
       "      <th>2</th>\n",
       "      <td>30</td>\n",
       "      <td>13.99050</td>\n",
       "      <td>499.909</td>\n",
       "      <td>1.753770</td>\n",
       "    </tr>\n",
       "    <tr>\n",
       "      <th>3</th>\n",
       "      <td>40</td>\n",
       "      <td>19.89560</td>\n",
       "      <td>499.566</td>\n",
       "      <td>1.337630</td>\n",
       "    </tr>\n",
       "    <tr>\n",
       "      <th>4</th>\n",
       "      <td>50</td>\n",
       "      <td>26.05380</td>\n",
       "      <td>499.213</td>\n",
       "      <td>2.481870</td>\n",
       "    </tr>\n",
       "  </tbody>\n",
       "</table>\n",
       "</div>"
      ],
      "text/plain": [
       "   time         x        y   susceptibility\n",
       "0    10   3.57263  500.135         0.737391\n",
       "1    20   8.55993  500.100         1.852310\n",
       "2    30  13.99050  499.909         1.753770\n",
       "3    40  19.89560  499.566         1.337630\n",
       "4    50  26.05380  499.213         2.481870"
      ]
     },
     "execution_count": 20,
     "metadata": {},
     "output_type": "execute_result"
    }
   ],
   "source": [
    "model = 'neural'\n",
    "symmetric = False\n",
    "nPosts = 3\n",
    "\n",
    "if symmetric == True:\n",
    "    data = 'SPP/symmetric_n' if model == 'collective' else 'NN/symmetric_n'\n",
    "    prefix = 'coll_symmetric_' if model == 'collective' else 'symmetric_'\n",
    "else:\n",
    "    data = 'SPP/collective_n' if model == 'collective' else 'NN/flydata_n'\n",
    "    prefix = 'coll_' if model == 'collective' else ''\n",
    "\n",
    "tmin = 0\n",
    "if symmetric == True:\n",
    "    if nPosts < 4:\n",
    "        tmax = 2000 if model == 'neural' else 5100\n",
    "    else:\n",
    "        tmax = 2500 if model == 'neural' else 5100\n",
    "else:\n",
    "    if nPosts < 4:\n",
    "        tmax = 1200 if model == 'neural' else 5100\n",
    "    else:\n",
    "        tmax = 1900 if model == 'neural' else 5100\n",
    "        \n",
    "window_size = 600\n",
    "\n",
    "df = pd.read_csv(\"/Users/vivekhsridhar/Documents/Work/Results/decision_geometry/Data/Theory/\" + data + str(nPosts) + \".csv\")\n",
    "df.head()"
   ]
  },
  {
   "cell_type": "code",
   "execution_count": 21,
   "metadata": {},
   "outputs": [],
   "source": [
    "if symmetric:\n",
    "    xs = np.array((df[' x'] - 500) / 100)\n",
    "    df[' x'] = xs\n",
    "else:\n",
    "    xs = np.array(df[' x'] / 100)\n",
    "    df[' x'] = xs\n",
    "    \n",
    "ys = np.array((df[' y'] - 500) / 100)\n",
    "df[' y'] = ys\n",
    "\n",
    "if model == 'neural':\n",
    "    ts = df['time']\n",
    "else:\n",
    "    ts = df[' time']\n",
    "\n",
    "xs = xs[ts < tmax]\n",
    "ys = ys[ts < tmax]\n",
    "ts = ts[ts < tmax]\n",
    "\n",
    "if nPosts == 2:\n",
    "    if symmetric:\n",
    "        post0_x = 5.0*np.cos(np.pi)\n",
    "        post0_y = 5.0*np.sin(np.pi)\n",
    "\n",
    "        post1_x = 5.0*np.cos(0)\n",
    "        post1_y = 5.0*np.sin(0)\n",
    "    else:\n",
    "        post0_x = 5.0*np.cos(np.pi/6)\n",
    "        post0_y = -5.0*np.sin(np.pi/6)\n",
    "\n",
    "        post1_x = 5.0*np.cos(np.pi/6)\n",
    "        post1_y = 5.0*np.sin(np.pi/6)\n",
    "elif nPosts == 3:\n",
    "    if symmetric:\n",
    "        post0_x = 5.0*np.cos(-2*np.pi/3)\n",
    "        post0_y = 5.0*np.sin(-2*np.pi/3)\n",
    "\n",
    "        post1_x = 5.0\n",
    "        post1_y = 0.0\n",
    "\n",
    "        post2_x = 5.0*np.cos(2*np.pi/3)\n",
    "        post2_y = 5.0*np.sin(2*np.pi/3)\n",
    "    else:\n",
    "        post0_x = 5.0*np.cos(2*np.pi/9)\n",
    "        post0_y = -5.0*np.sin(2*np.pi/9)\n",
    "\n",
    "        post1_x = 5.0\n",
    "        post1_y = 0.0\n",
    "\n",
    "        post2_x = 5.0*np.cos(2*np.pi/9)\n",
    "        post2_y = 5.0*np.sin(2*np.pi/9)\n",
    "else:\n",
    "    if symmetric:\n",
    "        post0_x = -5.0\n",
    "        post0_y = 0.0\n",
    "\n",
    "        post1_x = 0.0\n",
    "        post1_y = 5.0\n",
    "\n",
    "        post2_x = 5.0\n",
    "        post2_y = 0.0\n",
    "        \n",
    "        post3_x = 0.0\n",
    "        post3_y = -5.0\n",
    "    else:\n",
    "        post0_x = 5.0*np.cos(2*np.pi/9)\n",
    "        post0_y = -5.0*np.sin(2*np.pi/9)\n",
    "\n",
    "        post1_x = 5.0\n",
    "        post1_y = 0.0\n",
    "\n",
    "        post2_x = 5.0*np.cos(2*np.pi/9)\n",
    "        post2_y = 5.0*np.sin(2*np.pi/9)"
   ]
  },
  {
   "cell_type": "code",
   "execution_count": 22,
   "metadata": {
    "scrolled": true
   },
   "outputs": [
    {
     "data": {
      "image/png": "[encoded data removed]",
      "text/plain": [
       "<Figure size 90x137.888 with 1 Axes>"
      ]
     },
     "metadata": {},
     "output_type": "display_data"
    }
   ],
   "source": [
    "if nPosts == 2:\n",
    "    if symmetric:\n",
    "        fig, ax = plt.subplots(1,1,figsize=(2,2))\n",
    "    else:\n",
    "        fig, ax = plt.subplots(1,1,figsize=(post0_x/2.5,post1_y/1.25))\n",
    "else:\n",
    "    if symmetric:\n",
    "        fig, ax = plt.subplots(1,1,figsize=(2,2))\n",
    "    else:\n",
    "        fig, ax = plt.subplots(1,1,figsize=(1.25,post2_x/2))\n",
    "plt.scatter(xs, ys, c='black', s=1, alpha=0.01)\n",
    "ax.set_aspect('equal')\n",
    "if symmetric:\n",
    "    if nPosts == 2:\n",
    "        ax.set_xticks([-4,-2,0,2,4])\n",
    "        ax.set_yticks([-4,-2,0,2,4])\n",
    "    else:\n",
    "        ax.set_xticks([-4,-2,0,2,4])\n",
    "        ax.set_yticks([-4,-2,0,2,4])\n",
    "else:\n",
    "    if nPosts == 2:\n",
    "        ax.set_xticks([0,1,2,3,4])\n",
    "        ax.set_yticks([-2,-1,0,1,2])\n",
    "        plt.xlim(0,post0_x)\n",
    "        plt.ylim(post0_y,post1_y)\n",
    "    else: \n",
    "        ax.set_xticks([0,1,2,3,4,5])\n",
    "        #ax.set_yticks([-3,-2,-1,0,1,2,3])\n",
    "        plt.xlim(0,5)\n",
    "        plt.ylim(post0_y,post2_y)\n",
    "    \n",
    "fig.savefig('/Users/vivekhsridhar/Documents/Code/Python/fly-matrix/figures/' + prefix + 'trajectories_n' + str(nPosts) + '.pdf', dpi=600, bbox_inches='tight')"
   ]
  },
  {
   "cell_type": "code",
   "execution_count": 23,
   "metadata": {},
   "outputs": [],
   "source": [
    "nbins = 500\n",
    "peak_threshold = 0.9\n",
    "\n",
    "def density_map(x, y, stats=True):\n",
    "    blur = (11, 11) if stats == True else (51, 51)\n",
    "    \n",
    "    if nPosts == 2:\n",
    "        r = (\n",
    "            [[-5, 5], [-5, 5]]\n",
    "            if symmetric == True\n",
    "            else [[0, post0_x], [post0_y, post1_y]]\n",
    "        )\n",
    "    elif nPosts == 3:\n",
    "        r = (\n",
    "            [[post0_x, post1_x], [post0_y, post2_y]]\n",
    "            if symmetric == True\n",
    "            else [[0, post1_x], [post0_y, post2_y]]\n",
    "        )\n",
    "    else:\n",
    "        r = (\n",
    "            [[-5, 5], [-5, 5]]\n",
    "            if symmetric == True\n",
    "            else [[0, post1_x], [post0_y, post2_y]]\n",
    "        )\n",
    "    h, xedge, yedge, image = plt.hist2d(x, y, bins=nbins, normed=True, range=r)\n",
    "\n",
    "    if nPosts == 2:\n",
    "        tmp_img = np.flipud(np.rot90(cv2.GaussianBlur(h, blur, 0)))\n",
    "    else:\n",
    "        tmp_img = np.flipud(np.rot90(cv2.GaussianBlur(h, blur, 0)))\n",
    "\n",
    "    tmp_img /= np.max(tmp_img)\n",
    "\n",
    "    return tmp_img"
   ]
  },
  {
   "cell_type": "code",
   "execution_count": 24,
   "metadata": {},
   "outputs": [
    {
     "data": {
      "image/png": "[encoded data removed]",
      "text/plain": [
       "<Figure size 432x288 with 1 Axes>"
      ]
     },
     "metadata": {},
     "output_type": "display_data"
    }
   ],
   "source": [
    "for idx,t in enumerate(range(tmin,tmax-window_size,10)):\n",
    "    window_min = t\n",
    "    window_max = t + window_size\n",
    "    \n",
    "    x = xs[(ts > window_min) & (ts < window_max)]\n",
    "    y = ys[(ts > window_min) & (ts < window_max)]\n",
    "    tmp_img = density_map(x, y, stats=False)\n",
    "    \n",
    "    if idx == 0:\n",
    "        img = tmp_img\n",
    "    else:\n",
    "        img = np.fmax(tmp_img, img)\n",
    "        \n",
    "if nPosts == 2:\n",
    "    x_peaks = np.where(img > peak_threshold)[1] * post0_x / nbins\n",
    "    y_peaks = np.where(img > peak_threshold)[0] * (post0_y - post1_y) / nbins + post1_y\n",
    "elif nPosts == 3:\n",
    "    x_peaks = np.where(img > peak_threshold)[1] * post1_x / nbins\n",
    "    y_peaks = np.where(img > peak_threshold)[0] * (post0_y - post2_y) / nbins + post2_y"
   ]
  },
  {
   "cell_type": "code",
   "execution_count": 25,
   "metadata": {},
   "outputs": [
    {
     "data": {
      "image/png": "[encoded data removed]",
      "text/plain": [
       "<Figure size 90x137.888 with 1 Axes>"
      ]
     },
     "metadata": {},
     "output_type": "display_data"
    }
   ],
   "source": [
    "if nPosts == 2:\n",
    "    if symmetric == True:\n",
    "        fig, ax = plt.subplots(1,1, figsize=(2,2))\n",
    "        plt.imshow(img, extent=[-5, 5, -5.0, 5.0])\n",
    "        plt.xticks([-4,-2,0,2,4])\n",
    "        plt.yticks([-4,-2,0,2,4])\n",
    "    else:\n",
    "        fig, ax = plt.subplots(1, 1, figsize=(post0_x/2.5,post1_y/1.25))\n",
    "        plt.imshow(img, extent=[0, post0_x, post0_y, post1_y])\n",
    "        plt.xticks([0,1,2,3,4])\n",
    "elif nPosts == 3:\n",
    "    if symmetric == True:\n",
    "        fig, ax = plt.subplots(1,1, figsize=(3.75/2,post2_y/2))\n",
    "        plt.imshow(img, extent=[post0_x, post1_x, post0_y, post2_y])\n",
    "    else:\n",
    "        fig, ax = plt.subplots(1, 1, figsize=(1.25,post2_x/2))\n",
    "        plt.imshow(img, extent=[0, post1_x, post0_y, post2_y])\n",
    "        plt.xticks([0,1,2,3,4,5])\n",
    "else:\n",
    "    if symmetric == True:\n",
    "        fig, ax = plt.subplots(1,1, figsize=(post2_x/2,post1_y/2))\n",
    "        plt.imshow(img, extent=[-post2_x, post2_x, -post1_y, post1_y])\n",
    "        plt.xticks([-4,-2,0,2,4])\n",
    "    else:\n",
    "        fig, ax = plt.subplots(1, 1, figsize=(1.25,post2_x/2))\n",
    "        plt.imshow(img, extent=[0, post1_x, post0_y, post2_y])\n",
    "        plt.xticks([0,1,2,3,4,5])\n",
    "\n",
    "fig.savefig('/Users/vivekhsridhar/Documents/Code/Python/fly-matrix/figures/' + prefix + 'density_n' + str(nPosts) + '.pdf', dpi=600, bbox_inches='tight')"
   ]
  },
  {
   "cell_type": "markdown",
   "metadata": {},
   "source": [
    "### Identify bifurcation point using a piecewise phase-transition function"
   ]
  },
  {
   "cell_type": "markdown",
   "metadata": {},
   "source": [
    "#### Get first bifurcation point\n",
    "Once you have this, you can draw a line segment bisecting the angle between the point and two targets. This will be the line about which you symmetrise to get the second bifurcation point"
   ]
  },
  {
   "cell_type": "code",
   "execution_count": 8,
   "metadata": {},
   "outputs": [],
   "source": [
    "def fitfunc(x, p, q, r):\n",
    "    return r * (np.abs((x - p)) ** q)\n",
    "\n",
    "def fitfunc_vec_self(x, p, q, r):\n",
    "    y = np.zeros(x.shape)\n",
    "    for i in range(len(y)):\n",
    "        y[i] = fitfunc(x[i], p, q, r)\n",
    "    return y"
   ]
  },
  {
   "cell_type": "code",
   "execution_count": 9,
   "metadata": {
    "scrolled": true
   },
   "outputs": [
    {
     "name": "stderr",
     "output_type": "stream",
     "text": [
      "/usr/local/lib/python3.7/site-packages/numpy/lib/histograms.py:986: RuntimeWarning: invalid value encountered in true_divide\n",
      "  hist /= s\n",
      "/usr/local/lib/python3.7/site-packages/numpy/core/fromnumeric.py:83: RuntimeWarning: invalid value encountered in reduce\n",
      "  return ufunc.reduce(obj, axis, dtype, out, **passkwargs)\n",
      "/usr/local/lib/python3.7/site-packages/matplotlib/image.py:405: UserWarning: Warning: converting a masked element to nan.\n",
      "  dv = (np.float64(self.norm.vmax) -\n",
      "/usr/local/lib/python3.7/site-packages/matplotlib/image.py:406: UserWarning: Warning: converting a masked element to nan.\n",
      "  np.float64(self.norm.vmin))\n",
      "/usr/local/lib/python3.7/site-packages/matplotlib/image.py:412: UserWarning: Warning: converting a masked element to nan.\n",
      "  a_min = np.float64(newmin)\n",
      "/usr/local/lib/python3.7/site-packages/matplotlib/image.py:417: UserWarning: Warning: converting a masked element to nan.\n",
      "  a_max = np.float64(newmax)\n",
      "/usr/local/lib/python3.7/site-packages/matplotlib/colors.py:916: UserWarning: Warning: converting a masked element to nan.\n",
      "  dtype = np.min_scalar_type(value)\n",
      "/usr/local/lib/python3.7/site-packages/numpy/ma/core.py:715: UserWarning: Warning: converting a masked element to nan.\n",
      "  data = np.array(a, copy=False, subok=subok)\n"
     ]
    },
    {
     "data": {
      "image/png": "[encoded data removed]",
      "text/plain": [
       "<Figure size 432x288 with 1 Axes>"
      ]
     },
     "metadata": {},
     "output_type": "display_data"
    }
   ],
   "source": [
    "x_fit = []\n",
    "y_fit = []\n",
    "    \n",
    "if nPosts == 2:\n",
    "    if model == 'neural':\n",
    "        bif_pt = 2.5\n",
    "        params1 = [3, 1, 1]\n",
    "    else:\n",
    "        bif_pt = 1.2\n",
    "        params1 = [1.5, 1, 1]\n",
    "    \n",
    "    x_sub = np.concatenate((xs, xs))\n",
    "    y_sub = np.concatenate((ys, -ys))\n",
    "    t_sub = np.concatenate((ts, ts))\n",
    "\n",
    "    tmin = np.min(t_sub)\n",
    "    tmax = np.max(t_sub)-100 if model == 'neural' else np.max(t_sub)-500\n",
    "    for idx,t in enumerate(range(tmin,tmax,10)):\n",
    "        window_min = t\n",
    "        window_max = t + window_size\n",
    "\n",
    "        x = x_sub[(t_sub > window_min) & (t_sub < window_max)]\n",
    "        y = y_sub[(t_sub > window_min) & (t_sub < window_max)]\n",
    "        tmp_img2 = density_map(x, y, stats=False)\n",
    "\n",
    "        if idx == 0:\n",
    "            tmp_img = tmp_img2\n",
    "        else:\n",
    "            tmp_img = np.fmax(tmp_img2, tmp_img)\n",
    "    \n",
    "    x_fit = np.where(tmp_img > peak_threshold)[1] * post0_x / nbins\n",
    "    y_fit = (\n",
    "        np.where(tmp_img > peak_threshold)[0] * (post0_y - post1_y) / nbins\n",
    "        + post1_y\n",
    "    )\n",
    "\n",
    "    x_fit = x_fit\n",
    "    y_fit = np.abs(y_fit)\n",
    "    y_fit = y_fit[x_fit > bif_pt]\n",
    "    x_fit = x_fit[x_fit > bif_pt]\n",
    "\n",
    "    for i in range(0,10):\n",
    "        fit_params, pcov = curve_fit(\n",
    "            fitfunc_vec_self, x_fit, y_fit, p0=params1, maxfev=10000\n",
    "        )\n",
    "        params1 = fit_params\n",
    "\n",
    "else:\n",
    "    if model == 'neural':\n",
    "        bif_pt = 1\n",
    "        params1 = [1.2, 1, 0.5]\n",
    "        \n",
    "        xs1 = xs[xs < 2.7]\n",
    "        ys1 = ys[xs < 2.7]\n",
    "        ts1 = ts[xs < 2.7]\n",
    "    else:\n",
    "        bif_pt = 0.8\n",
    "        params1 = [1, 1, 0.5]\n",
    "        \n",
    "        xs1 = xs[xs < 2.5]\n",
    "        ys1 = ys[xs < 2.5]\n",
    "        ts1 = ts[xs < 2.5]\n",
    "\n",
    "    x_sub = np.concatenate((xs1, xs1))\n",
    "    y_sub = np.concatenate((ys1, -ys1))\n",
    "    t_sub = np.concatenate((ts1, ts1))\n",
    "\n",
    "    tmin = np.min(t_sub)\n",
    "    tmax = np.max(t_sub)-100 if model == 'neural' else np.max(t_sub)-500\n",
    "    for idx,t in enumerate(range(tmin,tmax,10)):\n",
    "        window_min = t\n",
    "        window_max = t + window_size\n",
    "\n",
    "        x = x_sub[(t_sub > window_min) & (t_sub < window_max)]\n",
    "        y = y_sub[(t_sub > window_min) & (t_sub < window_max)]\n",
    "        tmp_img2 = density_map(x, y, stats=False)\n",
    "\n",
    "        if idx == 0:\n",
    "            tmp_img = tmp_img2\n",
    "        else:\n",
    "            tmp_img = np.fmax(tmp_img2, tmp_img)\n",
    "            \n",
    "    x_fit = np.where(tmp_img > peak_threshold)[1] * post1_x / nbins\n",
    "    y_fit = (\n",
    "        np.where(tmp_img > peak_threshold)[0] * (post0_y - post2_y) / nbins\n",
    "        + post2_y\n",
    "    )\n",
    "\n",
    "    x_fit = x_fit\n",
    "    y_fit = np.abs(y_fit)\n",
    "    y_fit = y_fit[x_fit > bif_pt]\n",
    "    x_fit = x_fit[x_fit > bif_pt]\n",
    "\n",
    "    for i in range(0,10):\n",
    "        fit_params, pcov = curve_fit(\n",
    "            fitfunc_vec_self, x_fit, y_fit, p0=params1, maxfev=10000\n",
    "        )\n",
    "        params1 = fit_params"
   ]
  },
  {
   "cell_type": "code",
   "execution_count": 10,
   "metadata": {},
   "outputs": [
    {
     "data": {
      "image/png": "[encoded data removed]",
      "text/plain": [
       "<Figure size 432x288 with 1 Axes>"
      ]
     },
     "metadata": {},
     "output_type": "display_data"
    }
   ],
   "source": [
    "if nPosts == 2:\n",
    "    fig, ax = plt.subplots(1, 1, figsize=(post0_x/2.5,post1_y/1.25))\n",
    "    plt.imshow(img, extent=[0, post0_x, post0_y, post1_y])\n",
    "else:\n",
    "    plt.imshow(img, extent=[0, post1_x, post0_y, post2_y])\n",
    "\n",
    "parameters = params1\n",
    "step_len = 0.01\n",
    "\n",
    "x1 = np.arange(step_len, parameters[0], step_len)\n",
    "y1 = np.zeros(len(x1))\n",
    "\n",
    "offset=0.2 if model == 'neural' else 0.5\n",
    "x = (\n",
    "    np.arange(parameters[0], post0_x-offset, step_len)\n",
    "    if nPosts == 2\n",
    "    else np.arange(parameters[0], 3., step_len)\n",
    ")\n",
    "x2 = np.concatenate((x, x))\n",
    "y2 = np.concatenate(\n",
    "    ((parameters[2] * (x - parameters[0])) ** parameters[1], -(parameters[2] * (x - parameters[0])) ** parameters[1])\n",
    ")\n",
    "\n",
    "if nPosts != 2:\n",
    "    bisector_xs = [params1[0], post2_x]\n",
    "    bisector_ys = [\n",
    "        0,\n",
    "        np.tan(np.arctan2(post2_y, post2_x - params1[0]) / 2)\n",
    "        * (post2_x - params1[0]),\n",
    "    ]\n",
    "\n",
    "plt.xticks([0,1,2,3,4])\n",
    "plt.scatter(x1, y1, c=\"black\", s=0.1)\n",
    "plt.scatter(x2, y2, c=\"black\", s=0.1)\n",
    "    \n",
    "if nPosts == 2:\n",
    "    fig.savefig('/Users/vivekhsridhar/Documents/Code/Python/fly-matrix/figures/' + prefix + 'density_n' + str(nPosts) + '.pdf', dpi=600, bbox_inches='tight')"
   ]
  },
  {
   "cell_type": "code",
   "execution_count": 11,
   "metadata": {},
   "outputs": [
    {
     "name": "stdout",
     "output_type": "stream",
     "text": [
      "The first bifurcation occurs at an angle 96.730292017565\n"
     ]
    }
   ],
   "source": [
    "if nPosts == 2:\n",
    "    print(\n",
    "        \"The bifurcation occurs at an angle\",\n",
    "        2 * np.arctan2(post1_y, post1_x - params1[0]) * 180 / np.pi,\n",
    "    )\n",
    "else:\n",
    "    print(\n",
    "        \"The first bifurcation occurs at an angle\",\n",
    "        2 * np.arctan2(post2_y, post2_x - params1[0]) * 180 / np.pi,\n",
    "    )"
   ]
  },
  {
   "cell_type": "markdown",
   "metadata": {},
   "source": [
    "#### Get the second bifurcation point\n",
    "For this, you must center the trajectories about the bifurcation point, get a new heatmap and rotate this by the angle of the bisector line"
   ]
  },
  {
   "cell_type": "code",
   "execution_count": 12,
   "metadata": {},
   "outputs": [],
   "source": [
    "# center points about the first bifurcation\n",
    "cxs = xs - params1[0]\n",
    "cys = ys\n",
    "cts = ts\n",
    "\n",
    "cpost0_x = post0_x - params1[0]\n",
    "cpost1_x = post1_x - params1[0]\n",
    "cpost2_x = post2_x - params1[0]"
   ]
  },
  {
   "cell_type": "code",
   "execution_count": 13,
   "metadata": {},
   "outputs": [],
   "source": [
    "@numba.njit(fastmath=True, parallel=True)\n",
    "def parallel_rotate(xy, rmat):\n",
    "    out = np.zeros(xy.shape)\n",
    "    for idx in numba.prange(xy.shape[0]):\n",
    "        out[idx] = np.dot(rmat[idx], xy[idx])\n",
    "    return out"
   ]
  },
  {
   "cell_type": "code",
   "execution_count": 14,
   "metadata": {},
   "outputs": [
    {
     "name": "stderr",
     "output_type": "stream",
     "text": [
      "/usr/local/lib/python3.7/site-packages/numpy/lib/histograms.py:986: RuntimeWarning: invalid value encountered in true_divide\n",
      "  hist /= s\n",
      "/usr/local/lib/python3.7/site-packages/numpy/core/fromnumeric.py:83: RuntimeWarning: invalid value encountered in reduce\n",
      "  return ufunc.reduce(obj, axis, dtype, out, **passkwargs)\n",
      "/usr/local/lib/python3.7/site-packages/matplotlib/image.py:405: UserWarning: Warning: converting a masked element to nan.\n",
      "  dv = (np.float64(self.norm.vmax) -\n",
      "/usr/local/lib/python3.7/site-packages/matplotlib/image.py:406: UserWarning: Warning: converting a masked element to nan.\n",
      "  np.float64(self.norm.vmin))\n",
      "/usr/local/lib/python3.7/site-packages/matplotlib/image.py:412: UserWarning: Warning: converting a masked element to nan.\n",
      "  a_min = np.float64(newmin)\n",
      "/usr/local/lib/python3.7/site-packages/matplotlib/image.py:417: UserWarning: Warning: converting a masked element to nan.\n",
      "  a_max = np.float64(newmax)\n",
      "/usr/local/lib/python3.7/site-packages/matplotlib/colors.py:916: UserWarning: Warning: converting a masked element to nan.\n",
      "  dtype = np.min_scalar_type(value)\n",
      "/usr/local/lib/python3.7/site-packages/numpy/ma/core.py:715: UserWarning: Warning: converting a masked element to nan.\n",
      "  data = np.array(a, copy=False, subok=subok)\n"
     ]
    },
    {
     "data": {
      "image/png": "[encoded data removed]",
      "text/plain": [
       "<Figure size 432x288 with 1 Axes>"
      ]
     },
     "metadata": {},
     "output_type": "display_data"
    }
   ],
   "source": [
    "# clip all points to the left of and below 0 and points beyond post centers\n",
    "ccxs = cxs[cxs > 0]\n",
    "ccys = cys[cxs > 0]\n",
    "ccts = cts[cxs > 0]\n",
    "ccxs = ccxs[ccys > 0]\n",
    "ccts = ccts[ccys > 0]\n",
    "ccys = ccys[ccys > 0]\n",
    "\n",
    "xy = np.concatenate((ccxs.reshape(-1, 1), ccys.reshape(-1, 1)), axis=1)\n",
    "angle = np.full(\n",
    "    ccxs.shape, np.arctan2(post2_y, post2_x - params1[0]) / 2\n",
    ")\n",
    "rmat = np.array([[np.cos(angle), -np.sin(angle)], [np.sin(angle), np.cos(angle)]]).T\n",
    "rx, ry = parallel_rotate(xy, rmat).T\n",
    "\n",
    "blur = (51,51)\n",
    "\n",
    "r1 = [[0, post1_x], [post0_y, post2_y]]\n",
    "\n",
    "tmin = np.min(ccts)\n",
    "tmax = np.max(ccts)-100 if model == 'neural' else np.max(ccts)-500\n",
    "for idx,t in enumerate(range(tmin,tmax,10)):\n",
    "    window_min = t\n",
    "    window_max = t + window_size\n",
    "    \n",
    "    x = rx[(ccts > window_min) & (ccts < window_max)]\n",
    "    y = ry[(ccts > window_min) & (ccts < window_max)]\n",
    "    tmp_img = density_map(x, y, stats=False)\n",
    "    \n",
    "    if idx == 0:\n",
    "        tmp_img1 = tmp_img\n",
    "    else:\n",
    "        tmp_img1 = np.fmax(tmp_img1, tmp_img)"
   ]
  },
  {
   "cell_type": "code",
   "execution_count": 15,
   "metadata": {},
   "outputs": [
    {
     "data": {
      "text/plain": [
       "<matplotlib.image.AxesImage at 0x14dd98668>"
      ]
     },
     "execution_count": 15,
     "metadata": {},
     "output_type": "execute_result"
    },
    {
     "data": {
      "image/png": "[encoded data removed]",
      "text/plain": [
       "<Figure size 432x288 with 1 Axes>"
      ]
     },
     "metadata": {},
     "output_type": "display_data"
    }
   ],
   "source": [
    "plt.imshow(tmp_img1, extent=[r1[0][0], r1[0][1], r1[1][0], r1[1][1]])"
   ]
  },
  {
   "cell_type": "code",
   "execution_count": 16,
   "metadata": {},
   "outputs": [
    {
     "name": "stderr",
     "output_type": "stream",
     "text": [
      "/usr/local/lib/python3.7/site-packages/numpy/lib/histograms.py:986: RuntimeWarning: invalid value encountered in true_divide\n",
      "  hist /= s\n",
      "/usr/local/lib/python3.7/site-packages/numpy/core/fromnumeric.py:83: RuntimeWarning: invalid value encountered in reduce\n",
      "  return ufunc.reduce(obj, axis, dtype, out, **passkwargs)\n",
      "/usr/local/lib/python3.7/site-packages/matplotlib/image.py:405: UserWarning: Warning: converting a masked element to nan.\n",
      "  dv = (np.float64(self.norm.vmax) -\n",
      "/usr/local/lib/python3.7/site-packages/matplotlib/image.py:406: UserWarning: Warning: converting a masked element to nan.\n",
      "  np.float64(self.norm.vmin))\n",
      "/usr/local/lib/python3.7/site-packages/matplotlib/image.py:412: UserWarning: Warning: converting a masked element to nan.\n",
      "  a_min = np.float64(newmin)\n",
      "/usr/local/lib/python3.7/site-packages/matplotlib/image.py:417: UserWarning: Warning: converting a masked element to nan.\n",
      "  a_max = np.float64(newmax)\n",
      "/usr/local/lib/python3.7/site-packages/matplotlib/colors.py:916: UserWarning: Warning: converting a masked element to nan.\n",
      "  dtype = np.min_scalar_type(value)\n",
      "/usr/local/lib/python3.7/site-packages/numpy/ma/core.py:715: UserWarning: Warning: converting a masked element to nan.\n",
      "  data = np.array(a, copy=False, subok=subok)\n"
     ]
    },
    {
     "data": {
      "image/png": "[encoded data removed]",
      "text/plain": [
       "<Figure size 432x288 with 1 Axes>"
      ]
     },
     "metadata": {},
     "output_type": "display_data"
    }
   ],
   "source": [
    "if model == 'neural':\n",
    "    bif_pt = 2.2\n",
    "    params2 = [2.5, 1, 0.5]\n",
    "else:\n",
    "    bif_pt = 1.8\n",
    "    params2 = [2, 1, 0.5]\n",
    "\n",
    "x_sub = np.concatenate((rx, rx))\n",
    "y_sub = np.concatenate((ry, -ry))\n",
    "t_sub = np.concatenate((ccts, ccts))\n",
    "\n",
    "tmin = np.min(ccts)\n",
    "tmax = np.max(ccts)-100 if model == 'neural' else np.max(ccts)-500\n",
    "for idx,t in enumerate(range(tmin,tmax,10)):\n",
    "    window_min = t\n",
    "    window_max = t + window_size\n",
    "    \n",
    "    x = x_sub[(t_sub > window_min) & (t_sub < window_max)]\n",
    "    y = y_sub[(t_sub > window_min) & (t_sub < window_max)]\n",
    "    tmp_img = density_map(x, y, stats=False)\n",
    "    \n",
    "    if idx == 0:\n",
    "        tmp_img1 = tmp_img\n",
    "    else:\n",
    "        tmp_img1 = np.fmax(tmp_img1, tmp_img)\n",
    "\n",
    "x_fit = np.where(tmp_img1 > peak_threshold)[1] * post1_x / nbins\n",
    "y_fit = (\n",
    "    np.where(tmp_img1 > peak_threshold)[0] * (post0_y - post2_y) / nbins\n",
    "    + post2_y\n",
    ")\n",
    "\n",
    "x_fit = x_fit\n",
    "y_fit = np.abs(y_fit)\n",
    "y_fit = y_fit[x_fit > bif_pt]\n",
    "x_fit = x_fit[x_fit > bif_pt]\n",
    "\n",
    "for i in range(0,10):\n",
    "    fit_params, pcov = curve_fit(\n",
    "        fitfunc_vec_self, x_fit, y_fit, p0=params2, maxfev=10000\n",
    "    )\n",
    "    params2 = fit_params"
   ]
  },
  {
   "cell_type": "code",
   "execution_count": 17,
   "metadata": {},
   "outputs": [
    {
     "data": {
      "text/plain": [
       "<matplotlib.collections.PathCollection at 0x17b1e6da0>"
      ]
     },
     "execution_count": 17,
     "metadata": {},
     "output_type": "execute_result"
    },
    {
     "data": {
      "image/png": "[encoded data removed]",
      "text/plain": [
       "<Figure size 432x288 with 1 Axes>"
      ]
     },
     "metadata": {},
     "output_type": "display_data"
    }
   ],
   "source": [
    "plt.imshow(tmp_img1, extent=[r1[0][0], r1[0][1], r1[1][0], r1[1][1]])\n",
    "\n",
    "parameters = params2\n",
    "step_len = 0.01\n",
    "\n",
    "x1 = np.arange(step_len, parameters[0], step_len)\n",
    "y1 = np.zeros(len(x1))\n",
    "\n",
    "x = np.arange(parameters[0], 3, step_len)\n",
    "x2 = np.concatenate((x, x))\n",
    "y2 = np.concatenate(\n",
    "    ((parameters[2] * (x - parameters[0])) ** parameters[1], -(parameters[2] * (x - parameters[0])) ** parameters[1])\n",
    ")\n",
    "\n",
    "plt.scatter(x1, y1, c=\"black\", s=1)\n",
    "plt.scatter(x2, y2, c=\"black\", s=1)"
   ]
  },
  {
   "cell_type": "code",
   "execution_count": 18,
   "metadata": {},
   "outputs": [],
   "source": [
    "bif2 = np.array([params2[0], 0]).reshape(1, -1)\n",
    "ang = angle[0]\n",
    "rmat1 = np.array([[np.cos(ang), -np.sin(ang)], [np.sin(ang), np.cos(ang)]]).T\n",
    "bif2 = parallel_rotate(bif2, rmat).T\n",
    "bif2[0] += params1[0]"
   ]
  },
  {
   "cell_type": "code",
   "execution_count": 19,
   "metadata": {},
   "outputs": [
    {
     "name": "stdout",
     "output_type": "stream",
     "text": [
      "The second bifurcation occurs at angle 94.00805066926203\n"
     ]
    }
   ],
   "source": [
    "print(\n",
    "    \"The second bifurcation occurs at angle\",\n",
    "    (\n",
    "        (\n",
    "            np.arctan2(post2_y - bif2[1], post2_x - bif2[0])\n",
    "            - np.arctan2(bif2[1] - post1_y, post1_x - bif2[0])\n",
    "        )\n",
    "        * 180\n",
    "        / np.pi\n",
    "    )[0],\n",
    ")"
   ]
  },
  {
   "cell_type": "code",
   "execution_count": 20,
   "metadata": {},
   "outputs": [],
   "source": [
    "x1 = np.arange(step_len, parameters[0], step_len)\n",
    "y1 = np.zeros(len(x1))\n",
    "bcxy1 = np.concatenate((x1.reshape(-1, 1), y1.reshape(-1, 1)), axis=1)\n",
    "ang1 = np.full(\n",
    "    x1.shape, -np.arctan2(post2_y, post2_x - params1[0]) / 2\n",
    ")\n",
    "rmat1 = np.array([[np.cos(ang1), -np.sin(ang1)], [np.sin(ang1), np.cos(ang1)]]).T\n",
    "bcx1, bcy1 = parallel_rotate(bcxy1, rmat1).T\n",
    "bx1 = bcx1 + params1[0]"
   ]
  },
  {
   "cell_type": "code",
   "execution_count": 21,
   "metadata": {},
   "outputs": [
    {
     "data": {
      "image/png": "[encoded data removed]",
      "text/plain": [
       "<Figure size 90x137.888 with 1 Axes>"
      ]
     },
     "metadata": {},
     "output_type": "display_data"
    }
   ],
   "source": [
    "fig, ax = plt.subplots(1, 1, figsize=(1.25,post2_x/2))\n",
    "plt.imshow(img, extent=[0, post1_x, post0_y, post2_y])\n",
    "\n",
    "step_len = 0.01\n",
    "parameters = params2\n",
    "\n",
    "x1 = np.arange(5*step_len, parameters[1], step_len)\n",
    "y1 = np.zeros(len(x1))\n",
    "bcxy1 = np.concatenate((x1.reshape(-1, 1), y1.reshape(-1, 1)), axis=1)\n",
    "ang1 = np.full(\n",
    "    x1.shape, -np.arctan2(post2_y, post2_x - params1[0]) / 2\n",
    ")\n",
    "rmat1 = np.array([[np.cos(ang1), -np.sin(ang1)], [np.sin(ang1), np.cos(ang1)]]).T\n",
    "bcx1, bcy1 = parallel_rotate(bcxy1, rmat1).T\n",
    "bx1 = bcx1 + params1[0]\n",
    "\n",
    "x = np.arange(parameters[0], 3.5, step_len) if model == 'neural' else np.arange(parameters[0], 3, step_len)\n",
    "x2 = np.concatenate((x, x))\n",
    "y2 = np.concatenate(\n",
    "    (\n",
    "        (parameters[2] * (x - parameters[0])) ** parameters[1], \n",
    "        -(parameters[2] * (x - parameters[0])) ** parameters[1])\n",
    ") \n",
    "\n",
    "bcxy2 = np.concatenate((x2.reshape(-1, 1), y2.reshape(-1, 1)), axis=1)\n",
    "ang2 = np.full(\n",
    "    x2.shape, -np.arctan2(post2_y, post2_x - params1[0]) / 2\n",
    ")\n",
    "rmat2 = np.array([[np.cos(ang2), -np.sin(ang2)], [np.sin(ang2), np.cos(ang2)]]).T\n",
    "bcx2, bcy2 = parallel_rotate(bcxy2, rmat2).T\n",
    "bx2 = bcx2 + params1[0]\n",
    "\n",
    "bx2 = np.concatenate((bx2, bx2))\n",
    "bcy2 = np.concatenate((bcy2, -bcy2))\n",
    "\n",
    "bcy2 = bcy2[bx2 < post1_x-0.1]\n",
    "bx2 = bx2[bx2 < post1_x-0.1]\n",
    "\n",
    "bx2 = bx2[np.abs(bcy2) < post2_y-0.1]\n",
    "bcy2 = bcy2[np.abs(bcy2) < post2_y-0.1]\n",
    "\n",
    "plt.scatter(bx2, bcy2, c=\"black\", s=0.1)\n",
    "\n",
    "parameters = params1\n",
    "step_len = 0.01\n",
    "\n",
    "x1 = np.arange(5*step_len, parameters[0], step_len)\n",
    "y1 = np.zeros(len(x1))\n",
    "\n",
    "x = np.arange(parameters[0], np.min(bx2), step_len)\n",
    "x2 = np.concatenate((x, x))\n",
    "y2 = np.concatenate(\n",
    "    (\n",
    "        (parameters[2] * (x - parameters[0])) ** parameters[1], \n",
    "        -(parameters[2] * (x - parameters[0])) ** parameters[1],\n",
    "    )\n",
    ")\n",
    "\n",
    "plt.scatter(x1, y1, c=\"black\", s=0.1)\n",
    "plt.scatter(x2, y2, c=\"black\", s=0.1)\n",
    "plt.xticks([0,1,2,3,4,5])\n",
    "    \n",
    "fig.savefig('/Users/vivekhsridhar/Documents/Code/Python/fly-matrix/figures/' + prefix + 'density_n' + str(nPosts) + '.pdf', dpi=600, bbox_inches='tight')"
   ]
  },
  {
   "cell_type": "code",
   "execution_count": null,
   "metadata": {},
   "outputs": [],
   "source": []
  }
 ],
 "metadata": {
  "kernelspec": {
   "display_name": "Python 3",
   "language": "python",
   "name": "python3"
  },
  "language_info": {
   "codemirror_mode": {
    "name": "ipython",
    "version": 3
   },
   "file_extension": ".py",
   "mimetype": "text/x-python",
   "name": "python",
   "nbconvert_exporter": "python",
   "pygments_lexer": "ipython3",
   "version": "3.7.0"
  }
 },
 "nbformat": 4,
 "nbformat_minor": 2
}
