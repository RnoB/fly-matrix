{
 "cells": [
  {
   "cell_type": "code",
   "execution_count": 1,
   "metadata": {},
   "outputs": [
    {
     "data": {
      "application/javascript": [
       "\n",
       "            setTimeout(function() {\n",
       "                var nbb_cell_id = 1;\n",
       "                var nbb_formatted_code = \"%load_ext nb_black\";\n",
       "                var nbb_cells = Jupyter.notebook.get_cells();\n",
       "                for (var i = 0; i < nbb_cells.length; ++i) {\n",
       "                    if (nbb_cells[i].input_prompt_number == nbb_cell_id) {\n",
       "                        nbb_cells[i].set_text(nbb_formatted_code);\n",
       "                        break;\n",
       "                    }\n",
       "                }\n",
       "            }, 500);\n",
       "            "
      ],
      "text/plain": [
       "<IPython.core.display.Javascript object>"
      ]
     },
     "metadata": {},
     "output_type": "display_data"
    }
   ],
   "source": [
    "%load_ext nb_black"
   ]
  },
  {
   "cell_type": "code",
   "execution_count": 2,
   "metadata": {},
   "outputs": [
    {
     "data": {
      "application/javascript": [
       "\n",
       "            setTimeout(function() {\n",
       "                var nbb_cell_id = 2;\n",
       "                var nbb_formatted_code = \"import numpy as np\\nimport pandas as pd\\nimport matplotlib.pyplot as plt\\nimport sqlite3\\nimport glob\\nimport sys\\n\\nsys.path.insert(0, \\\"/mnt/ssd1/Documents/Vivek/MalkoFish/MalkoAnalyzer\\\")\\nimport swarm\\nimport BaseToolbox as bt\\nimport plotBox as pb\\nimport plotter\\nimport copy\\nimport cv2\\nfrom imp import reload\\n\\nreload(pb)\\nreload(plotter)\\nreload(bt)\\n\\nplotter.pb.boxSize.defineBoxSize((-5, 5), (-5, 5), (-1, 1))\\nplotter.pb.boxSizeRelative.defineBoxSize((-10, 10), (-10, 10), (-1, 1))\";\n",
       "                var nbb_cells = Jupyter.notebook.get_cells();\n",
       "                for (var i = 0; i < nbb_cells.length; ++i) {\n",
       "                    if (nbb_cells[i].input_prompt_number == nbb_cell_id) {\n",
       "                        nbb_cells[i].set_text(nbb_formatted_code);\n",
       "                        break;\n",
       "                    }\n",
       "                }\n",
       "            }, 500);\n",
       "            "
      ],
      "text/plain": [
       "<IPython.core.display.Javascript object>"
      ]
     },
     "metadata": {},
     "output_type": "display_data"
    }
   ],
   "source": [
    "import numpy as np\n",
    "import pandas as pd\n",
    "import matplotlib.pyplot as plt\n",
    "import sqlite3\n",
    "import glob\n",
    "import sys\n",
    "\n",
    "sys.path.insert(0, \"/mnt/ssd1/Documents/Vivek/MalkoFish/MalkoAnalyzer\")\n",
    "import swarm\n",
    "import BaseToolbox as bt\n",
    "import plotBox as pb\n",
    "import plotter\n",
    "import copy\n",
    "import cv2\n",
    "from imp import reload\n",
    "\n",
    "reload(pb)\n",
    "reload(plotter)\n",
    "reload(bt)\n",
    "\n",
    "plotter.pb.boxSize.defineBoxSize((-5, 5), (-5, 5), (-1, 1))\n",
    "plotter.pb.boxSizeRelative.defineBoxSize((-10, 10), (-10, 10), (-1, 1))"
   ]
  },
  {
   "cell_type": "code",
   "execution_count": 3,
   "metadata": {},
   "outputs": [
    {
     "data": {
      "application/javascript": [
       "\n",
       "            setTimeout(function() {\n",
       "                var nbb_cell_id = 3;\n",
       "                var nbb_formatted_code = \"dataDIR = \\\"/media/user/Samsung_T3/Work/Documents/Data/flyVR/new_experiments/\\\"\\nprojectDB = \\\"/mnt/ssd1/Documents/Vivek/flyVR/fly-matrix/dbGen/flyProjects.db\\\"\\nexpDB = \\\"/mnt/ssd1/Documents/Vivek/flyVR/fly-matrix/dbGen/flyExperiments.db\\\"\\n\\nnPosts = 2\";\n",
       "                var nbb_cells = Jupyter.notebook.get_cells();\n",
       "                for (var i = 0; i < nbb_cells.length; ++i) {\n",
       "                    if (nbb_cells[i].input_prompt_number == nbb_cell_id) {\n",
       "                        nbb_cells[i].set_text(nbb_formatted_code);\n",
       "                        break;\n",
       "                    }\n",
       "                }\n",
       "            }, 500);\n",
       "            "
      ],
      "text/plain": [
       "<IPython.core.display.Javascript object>"
      ]
     },
     "metadata": {},
     "output_type": "display_data"
    }
   ],
   "source": [
    "dataDIR = \"/media/user/Samsung_T3/Work/Documents/Data/flyVR/new_experiments/\"\n",
    "projectDB = \"/mnt/ssd1/Documents/Vivek/flyVR/fly-matrix/dbGen/flyProjects.db\"\n",
    "expDB = \"/mnt/ssd1/Documents/Vivek/flyVR/fly-matrix/dbGen/flyExperiments.db\"\n",
    "\n",
    "nPosts = 2"
   ]
  },
  {
   "cell_type": "code",
   "execution_count": 4,
   "metadata": {},
   "outputs": [
    {
     "data": {
      "application/javascript": [
       "\n",
       "            setTimeout(function() {\n",
       "                var nbb_cell_id = 4;\n",
       "                var nbb_formatted_code = \"def rotate(xy, radians):\\n    x, y = xy\\n    c, s = np.cos(radians), np.sin(radians)\\n    j = np.matrix([[c, s], [-s, c]])\\n    m = np.dot(j, [x, y])\\n\\n    return m\";\n",
       "                var nbb_cells = Jupyter.notebook.get_cells();\n",
       "                for (var i = 0; i < nbb_cells.length; ++i) {\n",
       "                    if (nbb_cells[i].input_prompt_number == nbb_cell_id) {\n",
       "                        nbb_cells[i].set_text(nbb_formatted_code);\n",
       "                        break;\n",
       "                    }\n",
       "                }\n",
       "            }, 500);\n",
       "            "
      ],
      "text/plain": [
       "<IPython.core.display.Javascript object>"
      ]
     },
     "metadata": {},
     "output_type": "display_data"
    }
   ],
   "source": [
    "def rotate(xy, radians):\n",
    "    x, y = xy\n",
    "    c, s = np.cos(radians), np.sin(radians)\n",
    "    j = np.matrix([[c, s], [-s, c]])\n",
    "    m = np.dot(j, [x, y])\n",
    "\n",
    "    return m"
   ]
  },
  {
   "cell_type": "code",
   "execution_count": 5,
   "metadata": {},
   "outputs": [
    {
     "name": "stdout",
     "output_type": "stream",
     "text": [
      "fetched : [('7b035fd1-bf5d-4b17-b07b-fdce31c00174',), ('0cac2ffa-751c-47e2-a60c-a4394f0c3694',), ('730e9871-40e2-49f2-951e-64ee4c6a264b',), ('14aa360d-a93c-4c1c-bfa4-fe3d46fea4fe',), ('ae62bd32-c787-4ace-af5e-5602fd41c6de',), ('7b78ebae-f5d9-45b1-8a06-64ef4ac1be26',), ('32b3e6c4-0254-4a34-a89f-b4511f867a43',), ('be8d0ed4-cb4d-4be1-9197-ed3070a2d6c0',), ('02729761-34f5-47d3-853d-24d44b95e01a',), ('e5009561-0dc8-45a3-80d9-e23619ae9f63',), ('766cebfa-ec3a-45ae-bee8-c45b9af7e890',), ('811f4e3f-e84a-44fa-9aa2-c4cc5452b6b1',), ('b3122f45-b25b-49ab-994f-de87d61cd420',), ('38940006-4529-46a0-a368-e732cd684c29',), ('e02e2fb4-c50e-4d72-bd5e-f64e24bd718c',), ('4bc09102-9e80-4b75-9162-bfe947b89847',), ('4c934967-64bd-421e-9f00-cc017df1d6cd',), ('a7df1714-2578-469d-afc2-712db8adeac0',), ('d8794167-49af-44a7-8ade-cbe6dafcd718',), ('85e8dae9-3b21-42bb-8d27-b57d411cb94c',), ('eb518d61-f816-488f-98d0-400a5d6778b6',), ('a9ffea1b-5e11-4026-ae8c-3b6e13d52619',), ('33993c50-c962-4e8f-8142-ae85cb2079b1',), ('18b3c12f-6666-4f24-ac70-3535c6b74503',), ('96d07ba4-58d1-44f2-9de4-290bb5bba2c4',), ('fbbf564b-a272-4385-8f7e-2cd1cf8a816a',), ('ee62e70f-80cc-4040-a449-c6f46218c62c',), ('7dc5cf89-2a83-4d39-977c-ec40f24a30c9',), ('a96f8803-cf74-4656-958b-cba8ea3e9945',), ('a9194a47-13ae-4b69-8d5f-50859ce34238',)]\n"
     ]
    },
    {
     "data": {
      "application/javascript": [
       "\n",
       "            setTimeout(function() {\n",
       "                var nbb_cell_id = 5;\n",
       "                var nbb_formatted_code = \"# establish a connecttion to the project database\\nconn = sqlite3.connect(projectDB)\\n# connect a cursor that goes through the project database\\ncursorProject = conn.cursor()\\n# establish a second connecttion to the experiment database\\nconn2 = sqlite3.connect(expDB)\\n# connect a cursor that goes through the experiment database\\ncursorExperiment = conn2.cursor()\\n\\n# pick experiments from specified project\\ncursorExperiment.execute(\\n    \\\"Select expId from experiments where project = ? and exp >= ? and exp < ?\\\",\\n    (\\\"DecisionGeometry\\\", (nPosts - 2) * 10, (nPosts - 1) * 10),\\n)\\nfetched = cursorExperiment.fetchall()\\nprint(\\\"fetched : \\\" + str(fetched))\";\n",
       "                var nbb_cells = Jupyter.notebook.get_cells();\n",
       "                for (var i = 0; i < nbb_cells.length; ++i) {\n",
       "                    if (nbb_cells[i].input_prompt_number == nbb_cell_id) {\n",
       "                        nbb_cells[i].set_text(nbb_formatted_code);\n",
       "                        break;\n",
       "                    }\n",
       "                }\n",
       "            }, 500);\n",
       "            "
      ],
      "text/plain": [
       "<IPython.core.display.Javascript object>"
      ]
     },
     "metadata": {},
     "output_type": "display_data"
    }
   ],
   "source": [
    "# establish a connecttion to the project database\n",
    "conn = sqlite3.connect(projectDB)\n",
    "# connect a cursor that goes through the project database\n",
    "cursorProject = conn.cursor()\n",
    "# establish a second connecttion to the experiment database\n",
    "conn2 = sqlite3.connect(expDB)\n",
    "# connect a cursor that goes through the experiment database\n",
    "cursorExperiment = conn2.cursor()\n",
    "\n",
    "# pick experiments from specified project\n",
    "cursorExperiment.execute(\n",
    "    \"Select expId from experiments where project = ? and exp >= ? and exp < ?\",\n",
    "    (\"DecisionGeometry\", (nPosts - 2) * 10, (nPosts - 1) * 10),\n",
    ")\n",
    "fetched = cursorExperiment.fetchall()\n",
    "print(\"fetched : \" + str(fetched))"
   ]
  },
  {
   "cell_type": "code",
   "execution_count": 6,
   "metadata": {},
   "outputs": [
    {
     "data": {
      "application/javascript": [
       "\n",
       "            setTimeout(function() {\n",
       "                var nbb_cell_id = 6;\n",
       "                var nbb_formatted_code = \"angles = []\\ndataDict0 = []\\ndataDict1 = []\\ndataDict2 = []\\nrot_post0 = []\\nfor uuid in range(0, len(fetched)):\\n    cursorExperiment.execute(\\n        \\\"Select exp from experiments where expId = ?\\\", (fetched[uuid][0],)\\n    )\\n    fetch_exp = cursorExperiment.fetchall()[0][0]\\n    cursorExperiment.execute(\\n        \\\"Select replicate from experiments where expId = ?\\\", (fetched[uuid][0],)\\n    )\\n    fetch_rep = cursorExperiment.fetchall()[0][0]\\n\\n    cursorProject.execute(\\n        \\\"Select post0 from projects where project = ? and exp = ? and replicate = ?\\\",\\n        (\\\"DecisionGeometry\\\", fetch_exp, fetch_rep),\\n    )\\n    dataDict0.append(cursorProject.fetchall())\\n    cursorProject.execute(\\n        \\\"Select post1 from projects where project = ? and exp = ? and replicate = ?\\\",\\n        (\\\"DecisionGeometry\\\", fetch_exp, fetch_rep),\\n    )\\n    dataDict1.append(cursorProject.fetchall())\\n    cursorProject.execute(\\n        \\\"Select post2 from projects where project = ? and exp = ? and replicate = ?\\\",\\n        (\\\"DecisionGeometry\\\", fetch_exp, fetch_rep),\\n    )\\n    dataDict2.append(cursorProject.fetchall())\\n\\n    tmp = pd.read_csv(\\n        dataDIR + fetched[uuid][0] + \\\"/results.csv\\\",\\n        names=[\\\"x\\\", \\\"y\\\", \\\"z\\\", \\\"dir\\\", \\\"event\\\", \\\"t\\\", \\\"nStimuli\\\"],\\n    )\\n    tmp[\\\"uuid\\\"] = uuid\\n    tmp[\\\"post0_x\\\"] = tmp[\\\"post0_y\\\"] = tmp[\\\"post1_x\\\"] = tmp[\\\"post1_y\\\"] = np.nan\\n    if nPosts == 3:\\n        tmp[\\\"post2_x\\\"] = tmp[\\\"post2_y\\\"] = np.nan\\n\\n    df = tmp if uuid == 0 else pd.concat([df, tmp])\\n    rot_post0.append([eval(dataDict0[uuid][1][0])[\\\"distance\\\"], 0.0])\\n\\n    cursorProject.execute(\\n        \\\"Select post1 from projects where project = ? and exp >= ? and exp < ?\\\",\\n        (\\\"DecisionGeometry\\\", (nPosts - 2) * 10, (nPosts - 1) * 10),\\n    )\\n    for a in np.unique(cursorProject.fetchall()):\\n        if a != \\\"None\\\" and eval(a)[\\\"angle\\\"] not in angles:\\n            angles.append(eval(a)[\\\"angle\\\"])\\n\\nangles = np.sort(np.array(angles))\";\n",
       "                var nbb_cells = Jupyter.notebook.get_cells();\n",
       "                for (var i = 0; i < nbb_cells.length; ++i) {\n",
       "                    if (nbb_cells[i].input_prompt_number == nbb_cell_id) {\n",
       "                        nbb_cells[i].set_text(nbb_formatted_code);\n",
       "                        break;\n",
       "                    }\n",
       "                }\n",
       "            }, 500);\n",
       "            "
      ],
      "text/plain": [
       "<IPython.core.display.Javascript object>"
      ]
     },
     "metadata": {},
     "output_type": "display_data"
    }
   ],
   "source": [
    "angles = []\n",
    "dataDict0 = []\n",
    "dataDict1 = []\n",
    "dataDict2 = []\n",
    "rot_post0 = []\n",
    "for uuid in range(0, len(fetched)):\n",
    "    cursorExperiment.execute(\n",
    "        \"Select exp from experiments where expId = ?\", (fetched[uuid][0],)\n",
    "    )\n",
    "    fetch_exp = cursorExperiment.fetchall()[0][0]\n",
    "    cursorExperiment.execute(\n",
    "        \"Select replicate from experiments where expId = ?\", (fetched[uuid][0],)\n",
    "    )\n",
    "    fetch_rep = cursorExperiment.fetchall()[0][0]\n",
    "\n",
    "    cursorProject.execute(\n",
    "        \"Select post0 from projects where project = ? and exp = ? and replicate = ?\",\n",
    "        (\"DecisionGeometry\", fetch_exp, fetch_rep),\n",
    "    )\n",
    "    dataDict0.append(cursorProject.fetchall())\n",
    "    cursorProject.execute(\n",
    "        \"Select post1 from projects where project = ? and exp = ? and replicate = ?\",\n",
    "        (\"DecisionGeometry\", fetch_exp, fetch_rep),\n",
    "    )\n",
    "    dataDict1.append(cursorProject.fetchall())\n",
    "    cursorProject.execute(\n",
    "        \"Select post2 from projects where project = ? and exp = ? and replicate = ?\",\n",
    "        (\"DecisionGeometry\", fetch_exp, fetch_rep),\n",
    "    )\n",
    "    dataDict2.append(cursorProject.fetchall())\n",
    "\n",
    "    tmp = pd.read_csv(\n",
    "        dataDIR + fetched[uuid][0] + \"/results.csv\",\n",
    "        names=[\"x\", \"y\", \"z\", \"dir\", \"event\", \"t\", \"nStimuli\"],\n",
    "    )\n",
    "    tmp[\"uuid\"] = uuid\n",
    "    tmp[\"post0_x\"] = tmp[\"post0_y\"] = tmp[\"post1_x\"] = tmp[\"post1_y\"] = np.nan\n",
    "    if nPosts == 3:\n",
    "        tmp[\"post2_x\"] = tmp[\"post2_y\"] = np.nan\n",
    "\n",
    "    df = tmp if uuid == 0 else pd.concat([df, tmp])\n",
    "    rot_post0.append([eval(dataDict0[uuid][1][0])[\"distance\"], 0.0])\n",
    "\n",
    "    cursorProject.execute(\n",
    "        \"Select post1 from projects where project = ? and exp >= ? and exp < ?\",\n",
    "        (\"DecisionGeometry\", (nPosts - 2) * 10, (nPosts - 1) * 10),\n",
    "    )\n",
    "    for a in np.unique(cursorProject.fetchall()):\n",
    "        if a != \"None\" and eval(a)[\"angle\"] not in angles:\n",
    "            angles.append(eval(a)[\"angle\"])\n",
    "\n",
    "angles = np.sort(np.array(angles))"
   ]
  },
  {
   "cell_type": "code",
   "execution_count": 7,
   "metadata": {},
   "outputs": [
    {
     "data": {
      "application/javascript": [
       "\n",
       "            setTimeout(function() {\n",
       "                var nbb_cell_id = 7;\n",
       "                var nbb_formatted_code = \"# add post positions to dataframe\\nnStimuli = np.unique(df[\\\"nStimuli\\\"])\\nfor uuid in range(0, len(fetched)):\\n    for i in range(0, np.max(nStimuli) + 1):\\n        df.loc[(df[\\\"uuid\\\"] == uuid) & (df[\\\"nStimuli\\\"] == i), \\\"post0_x\\\"] = eval(\\n            dataDict0[uuid][nStimuli[i]][0]\\n        )[\\\"position\\\"][0]\\n        df.loc[(df[\\\"uuid\\\"] == uuid) & (df[\\\"nStimuli\\\"] == i), \\\"post0_y\\\"] = eval(\\n            dataDict0[uuid][nStimuli[i]][0]\\n        )[\\\"position\\\"][1]\\n        if i > 0 and i < np.max(nStimuli):\\n            df.loc[(df[\\\"uuid\\\"] == uuid) & (df[\\\"nStimuli\\\"] == i), \\\"post1_x\\\"] = eval(\\n                dataDict1[uuid][nStimuli[i]][0]\\n            )[\\\"position\\\"][0]\\n            df.loc[(df[\\\"uuid\\\"] == uuid) & (df[\\\"nStimuli\\\"] == i), \\\"post1_y\\\"] = eval(\\n                dataDict1[uuid][nStimuli[i]][0]\\n            )[\\\"position\\\"][1]\\n            if nPosts == 3:\\n                df.loc[(df[\\\"uuid\\\"] == uuid) & (df[\\\"nStimuli\\\"] == i), \\\"post2_x\\\"] = eval(\\n                    dataDict2[uuid][nStimuli[i]][0]\\n                )[\\\"position\\\"][0]\\n                df.loc[(df[\\\"uuid\\\"] == uuid) & (df[\\\"nStimuli\\\"] == i), \\\"post2_y\\\"] = eval(\\n                    dataDict2[uuid][nStimuli[i]][0]\\n                )[\\\"position\\\"][1]\\n\\n# initialise rotation of tracks and posts\\ndf[\\\"rotated_x\\\"] = df[\\\"rotated_y\\\"] = 0.0\\ndf[\\\"rotated_post0_x\\\"] = df[\\\"rotated_post0_y\\\"] = df[\\\"rotated_post1_x\\\"] = df[\\n    \\\"rotated_post1_y\\\"\\n] = 0.0\\nif nPosts == 3:\\n    df[\\\"rotated_post2_x\\\"] = df[\\\"rotated_post2_y\\\"] = 0.0\\ndf[\\\"ang\\\"] = 0.0\\nprerot_idx = 7 + 2 * nPosts\\npostrot_idx = 7 + 2 * nPosts + 2 + 2 * nPosts\";\n",
       "                var nbb_cells = Jupyter.notebook.get_cells();\n",
       "                for (var i = 0; i < nbb_cells.length; ++i) {\n",
       "                    if (nbb_cells[i].input_prompt_number == nbb_cell_id) {\n",
       "                        nbb_cells[i].set_text(nbb_formatted_code);\n",
       "                        break;\n",
       "                    }\n",
       "                }\n",
       "            }, 500);\n",
       "            "
      ],
      "text/plain": [
       "<IPython.core.display.Javascript object>"
      ]
     },
     "metadata": {},
     "output_type": "display_data"
    }
   ],
   "source": [
    "# add post positions to dataframe\n",
    "nStimuli = np.unique(df[\"nStimuli\"])\n",
    "for uuid in range(0, len(fetched)):\n",
    "    for i in range(0, np.max(nStimuli) + 1):\n",
    "        df.loc[(df[\"uuid\"] == uuid) & (df[\"nStimuli\"] == i), \"post0_x\"] = eval(\n",
    "            dataDict0[uuid][nStimuli[i]][0]\n",
    "        )[\"position\"][0]\n",
    "        df.loc[(df[\"uuid\"] == uuid) & (df[\"nStimuli\"] == i), \"post0_y\"] = eval(\n",
    "            dataDict0[uuid][nStimuli[i]][0]\n",
    "        )[\"position\"][1]\n",
    "        if i > 0 and i < np.max(nStimuli):\n",
    "            df.loc[(df[\"uuid\"] == uuid) & (df[\"nStimuli\"] == i), \"post1_x\"] = eval(\n",
    "                dataDict1[uuid][nStimuli[i]][0]\n",
    "            )[\"position\"][0]\n",
    "            df.loc[(df[\"uuid\"] == uuid) & (df[\"nStimuli\"] == i), \"post1_y\"] = eval(\n",
    "                dataDict1[uuid][nStimuli[i]][0]\n",
    "            )[\"position\"][1]\n",
    "            if nPosts == 3:\n",
    "                df.loc[(df[\"uuid\"] == uuid) & (df[\"nStimuli\"] == i), \"post2_x\"] = eval(\n",
    "                    dataDict2[uuid][nStimuli[i]][0]\n",
    "                )[\"position\"][0]\n",
    "                df.loc[(df[\"uuid\"] == uuid) & (df[\"nStimuli\"] == i), \"post2_y\"] = eval(\n",
    "                    dataDict2[uuid][nStimuli[i]][0]\n",
    "                )[\"position\"][1]\n",
    "\n",
    "# initialise rotation of tracks and posts\n",
    "df[\"rotated_x\"] = df[\"rotated_y\"] = 0.0\n",
    "df[\"rotated_post0_x\"] = df[\"rotated_post0_y\"] = df[\"rotated_post1_x\"] = df[\n",
    "    \"rotated_post1_y\"\n",
    "] = 0.0\n",
    "if nPosts == 3:\n",
    "    df[\"rotated_post2_x\"] = df[\"rotated_post2_y\"] = 0.0\n",
    "df[\"ang\"] = 0.0\n",
    "prerot_idx = 7 + 2 * nPosts\n",
    "postrot_idx = 7 + 2 * nPosts + 2 + 2 * nPosts"
   ]
  },
  {
   "cell_type": "code",
   "execution_count": 8,
   "metadata": {},
   "outputs": [
    {
     "data": {
      "application/javascript": [
       "\n",
       "            setTimeout(function() {\n",
       "                var nbb_cell_id = 8;\n",
       "                var nbb_formatted_code = \"# get rotation angle\\nfor uuid in range(0, len(fetched)):\\n    rot_post0_x = rot_post0[uuid][0]\\n    rot_post0_y = rot_post0[uuid][1]\\n    df.iloc[np.where(df[\\\"uuid\\\"] == uuid)[0], postrot_idx + 1] = np.arctan2(\\n        df.iloc[np.where(df[\\\"uuid\\\"] == uuid)[0], 9],\\n        df.iloc[np.where(df[\\\"uuid\\\"] == uuid)[0], 8],\\n    )\\n\\n# rotate tracks and posts (posts are now centred along positive x-axis)\\nfor uuid in range(0, len(fetched)):\\n    for i in range(0, np.max(nStimuli) + 1):\\n        ang = np.unique(df.loc[(df[\\\"uuid\\\"] == uuid) & (df[\\\"nStimuli\\\"] == i), \\\"ang\\\"])[0]\\n        if i > 0 and i < np.max(nStimuli):\\n            ang += (nPosts - 1) * eval(dataDict0[uuid][nStimuli[i]][0])[\\\"angle\\\"] / 2\\n\\n        rx, ry = rotate(\\n            np.array(\\n                (\\n                    df.loc[(df[\\\"uuid\\\"] == uuid) & (df[\\\"nStimuli\\\"] == i), \\\"x\\\"],\\n                    df.loc[(df[\\\"uuid\\\"] == uuid) & (df[\\\"nStimuli\\\"] == i), \\\"y\\\"],\\n                )\\n            ),\\n            ang,\\n        )\\n        df.loc[(df[\\\"uuid\\\"] == uuid) & (df[\\\"nStimuli\\\"] == i), \\\"rotated_x\\\"] = np.squeeze(\\n            np.asarray(rx.T)\\n        )\\n        df.loc[(df[\\\"uuid\\\"] == uuid) & (df[\\\"nStimuli\\\"] == i), \\\"rotated_y\\\"] = np.squeeze(\\n            np.asarray(ry.T)\\n        )\\n\\n        rp0x, rp0y = rotate(\\n            np.array(\\n                (\\n                    df.loc[(df[\\\"uuid\\\"] == uuid) & (df[\\\"nStimuli\\\"] == i), \\\"post0_x\\\"],\\n                    df.loc[(df[\\\"uuid\\\"] == uuid) & (df[\\\"nStimuli\\\"] == i), \\\"post0_y\\\"],\\n                )\\n            ),\\n            ang,\\n        )\\n        df.loc[\\n            (df[\\\"uuid\\\"] == uuid) & (df[\\\"nStimuli\\\"] == i), \\\"rotated_post0_x\\\"\\n        ] = np.squeeze(np.asarray(rp0x.T))\\n        df.loc[\\n            (df[\\\"uuid\\\"] == uuid) & (df[\\\"nStimuli\\\"] == i), \\\"rotated_post0_y\\\"\\n        ] = np.squeeze(np.asarray(rp0y.T))\\n\\n        rp1x, rp1y = rotate(\\n            np.array(\\n                (\\n                    df.loc[(df[\\\"uuid\\\"] == uuid) & (df[\\\"nStimuli\\\"] == i), \\\"post1_x\\\"],\\n                    df.loc[(df[\\\"uuid\\\"] == uuid) & (df[\\\"nStimuli\\\"] == i), \\\"post1_y\\\"],\\n                )\\n            ),\\n            ang,\\n        )\\n        df.loc[\\n            (df[\\\"uuid\\\"] == uuid) & (df[\\\"nStimuli\\\"] == i), \\\"rotated_post1_x\\\"\\n        ] = np.squeeze(np.asarray(rp1x.T))\\n        df.loc[\\n            (df[\\\"uuid\\\"] == uuid) & (df[\\\"nStimuli\\\"] == i), \\\"rotated_post1_y\\\"\\n        ] = np.squeeze(np.asarray(rp1y.T))\\n\\n        if nPosts == 3:\\n            rp2x, rp2y = rotate(\\n                np.array(\\n                    (\\n                        df.loc[(df[\\\"uuid\\\"] == uuid) & (df[\\\"nStimuli\\\"] == i), \\\"post2_x\\\"],\\n                        df.loc[(df[\\\"uuid\\\"] == uuid) & (df[\\\"nStimuli\\\"] == i), \\\"post2_y\\\"],\\n                    )\\n                ),\\n                ang,\\n            )\\n            df.loc[\\n                (df[\\\"uuid\\\"] == uuid) & (df[\\\"nStimuli\\\"] == i), \\\"rotated_post2_x\\\"\\n            ] = np.squeeze(np.asarray(rp2x.T))\\n            df.loc[\\n                (df[\\\"uuid\\\"] == uuid) & (df[\\\"nStimuli\\\"] == i), \\\"rotated_post2_y\\\"\\n            ] = np.squeeze(np.asarray(rp2y.T))\";\n",
       "                var nbb_cells = Jupyter.notebook.get_cells();\n",
       "                for (var i = 0; i < nbb_cells.length; ++i) {\n",
       "                    if (nbb_cells[i].input_prompt_number == nbb_cell_id) {\n",
       "                        nbb_cells[i].set_text(nbb_formatted_code);\n",
       "                        break;\n",
       "                    }\n",
       "                }\n",
       "            }, 500);\n",
       "            "
      ],
      "text/plain": [
       "<IPython.core.display.Javascript object>"
      ]
     },
     "metadata": {},
     "output_type": "display_data"
    }
   ],
   "source": [
    "# get rotation angle\n",
    "for uuid in range(0, len(fetched)):\n",
    "    rot_post0_x = rot_post0[uuid][0]\n",
    "    rot_post0_y = rot_post0[uuid][1]\n",
    "    df.iloc[np.where(df[\"uuid\"] == uuid)[0], postrot_idx + 1] = np.arctan2(\n",
    "        df.iloc[np.where(df[\"uuid\"] == uuid)[0], 9],\n",
    "        df.iloc[np.where(df[\"uuid\"] == uuid)[0], 8],\n",
    "    )\n",
    "\n",
    "# rotate tracks and posts (posts are now centred along positive x-axis)\n",
    "for uuid in range(0, len(fetched)):\n",
    "    for i in range(0, np.max(nStimuli) + 1):\n",
    "        ang = np.unique(df.loc[(df[\"uuid\"] == uuid) & (df[\"nStimuli\"] == i), \"ang\"])[0]\n",
    "        if i > 0 and i < np.max(nStimuli):\n",
    "            ang += (nPosts - 1) * eval(dataDict0[uuid][nStimuli[i]][0])[\"angle\"] / 2\n",
    "\n",
    "        rx, ry = rotate(\n",
    "            np.array(\n",
    "                (\n",
    "                    df.loc[(df[\"uuid\"] == uuid) & (df[\"nStimuli\"] == i), \"x\"],\n",
    "                    df.loc[(df[\"uuid\"] == uuid) & (df[\"nStimuli\"] == i), \"y\"],\n",
    "                )\n",
    "            ),\n",
    "            ang,\n",
    "        )\n",
    "        df.loc[(df[\"uuid\"] == uuid) & (df[\"nStimuli\"] == i), \"rotated_x\"] = np.squeeze(\n",
    "            np.asarray(rx.T)\n",
    "        )\n",
    "        df.loc[(df[\"uuid\"] == uuid) & (df[\"nStimuli\"] == i), \"rotated_y\"] = np.squeeze(\n",
    "            np.asarray(ry.T)\n",
    "        )\n",
    "\n",
    "        rp0x, rp0y = rotate(\n",
    "            np.array(\n",
    "                (\n",
    "                    df.loc[(df[\"uuid\"] == uuid) & (df[\"nStimuli\"] == i), \"post0_x\"],\n",
    "                    df.loc[(df[\"uuid\"] == uuid) & (df[\"nStimuli\"] == i), \"post0_y\"],\n",
    "                )\n",
    "            ),\n",
    "            ang,\n",
    "        )\n",
    "        df.loc[\n",
    "            (df[\"uuid\"] == uuid) & (df[\"nStimuli\"] == i), \"rotated_post0_x\"\n",
    "        ] = np.squeeze(np.asarray(rp0x.T))\n",
    "        df.loc[\n",
    "            (df[\"uuid\"] == uuid) & (df[\"nStimuli\"] == i), \"rotated_post0_y\"\n",
    "        ] = np.squeeze(np.asarray(rp0y.T))\n",
    "\n",
    "        rp1x, rp1y = rotate(\n",
    "            np.array(\n",
    "                (\n",
    "                    df.loc[(df[\"uuid\"] == uuid) & (df[\"nStimuli\"] == i), \"post1_x\"],\n",
    "                    df.loc[(df[\"uuid\"] == uuid) & (df[\"nStimuli\"] == i), \"post1_y\"],\n",
    "                )\n",
    "            ),\n",
    "            ang,\n",
    "        )\n",
    "        df.loc[\n",
    "            (df[\"uuid\"] == uuid) & (df[\"nStimuli\"] == i), \"rotated_post1_x\"\n",
    "        ] = np.squeeze(np.asarray(rp1x.T))\n",
    "        df.loc[\n",
    "            (df[\"uuid\"] == uuid) & (df[\"nStimuli\"] == i), \"rotated_post1_y\"\n",
    "        ] = np.squeeze(np.asarray(rp1y.T))\n",
    "\n",
    "        if nPosts == 3:\n",
    "            rp2x, rp2y = rotate(\n",
    "                np.array(\n",
    "                    (\n",
    "                        df.loc[(df[\"uuid\"] == uuid) & (df[\"nStimuli\"] == i), \"post2_x\"],\n",
    "                        df.loc[(df[\"uuid\"] == uuid) & (df[\"nStimuli\"] == i), \"post2_y\"],\n",
    "                    )\n",
    "                ),\n",
    "                ang,\n",
    "            )\n",
    "            df.loc[\n",
    "                (df[\"uuid\"] == uuid) & (df[\"nStimuli\"] == i), \"rotated_post2_x\"\n",
    "            ] = np.squeeze(np.asarray(rp2x.T))\n",
    "            df.loc[\n",
    "                (df[\"uuid\"] == uuid) & (df[\"nStimuli\"] == i), \"rotated_post2_y\"\n",
    "            ] = np.squeeze(np.asarray(rp2y.T))"
   ]
  },
  {
   "cell_type": "code",
   "execution_count": 9,
   "metadata": {},
   "outputs": [
    {
     "data": {
      "application/javascript": [
       "\n",
       "            setTimeout(function() {\n",
       "                var nbb_cell_id = 9;\n",
       "                var nbb_formatted_code = \"p0_dist = np.sqrt((df[\\\"x\\\"] - df[\\\"post0_x\\\"]) ** 2 + (df[\\\"y\\\"] - df[\\\"post0_y\\\"]) ** 2)\\np1_dist = np.sqrt((df[\\\"x\\\"] - df[\\\"post1_x\\\"]) ** 2 + (df[\\\"y\\\"] - df[\\\"post1_y\\\"]) ** 2)\\nif nPosts == 2:\\n    df[\\\"dmin\\\"] = np.nanmin([p0_dist, p1_dist], axis=0)\\n    df[\\\"post\\\"] = 0\\n    df.loc[p1_dist < p0_dist, \\\"post\\\"] = 1\\nelse:\\n    p2_dist = np.sqrt((df[\\\"x\\\"] - df[\\\"post2_x\\\"]) ** 2 + (df[\\\"y\\\"] - df[\\\"post2_y\\\"]) ** 2)\\n    df[\\\"dmin\\\"] = np.nanmin([p0_dist, p1_dist, p2_dist], axis=0)\\n    df[\\\"post\\\"] = 0\\n    df.loc[(p1_dist < p0_dist) & (p1_dist < p2_dist), \\\"post\\\"] = 1\\n    df.loc[(p2_dist < p0_dist) & (p2_dist < p1_dist), \\\"post\\\"] = 2\";\n",
       "                var nbb_cells = Jupyter.notebook.get_cells();\n",
       "                for (var i = 0; i < nbb_cells.length; ++i) {\n",
       "                    if (nbb_cells[i].input_prompt_number == nbb_cell_id) {\n",
       "                        nbb_cells[i].set_text(nbb_formatted_code);\n",
       "                        break;\n",
       "                    }\n",
       "                }\n",
       "            }, 500);\n",
       "            "
      ],
      "text/plain": [
       "<IPython.core.display.Javascript object>"
      ]
     },
     "metadata": {},
     "output_type": "display_data"
    }
   ],
   "source": [
    "p0_dist = np.sqrt((df[\"x\"] - df[\"post0_x\"]) ** 2 + (df[\"y\"] - df[\"post0_y\"]) ** 2)\n",
    "p1_dist = np.sqrt((df[\"x\"] - df[\"post1_x\"]) ** 2 + (df[\"y\"] - df[\"post1_y\"]) ** 2)\n",
    "if nPosts == 2:\n",
    "    df[\"dmin\"] = np.nanmin([p0_dist, p1_dist], axis=0)\n",
    "    df[\"post\"] = 0\n",
    "    df.loc[p1_dist < p0_dist, \"post\"] = 1\n",
    "else:\n",
    "    p2_dist = np.sqrt((df[\"x\"] - df[\"post2_x\"]) ** 2 + (df[\"y\"] - df[\"post2_y\"]) ** 2)\n",
    "    df[\"dmin\"] = np.nanmin([p0_dist, p1_dist, p2_dist], axis=0)\n",
    "    df[\"post\"] = 0\n",
    "    df.loc[(p1_dist < p0_dist) & (p1_dist < p2_dist), \"post\"] = 1\n",
    "    df.loc[(p2_dist < p0_dist) & (p2_dist < p1_dist), \"post\"] = 2"
   ]
  },
  {
   "cell_type": "code",
   "execution_count": 10,
   "metadata": {},
   "outputs": [
    {
     "data": {
      "application/javascript": [
       "\n",
       "            setTimeout(function() {\n",
       "                var nbb_cell_id = 10;\n",
       "                var nbb_formatted_code = \"tmax = df.loc[:, [\\\"uuid\\\", \\\"nStimuli\\\", \\\"event\\\", \\\"t\\\"]]\\ntmax = tmax.groupby([\\\"uuid\\\", \\\"nStimuli\\\", \\\"event\\\"]).max().reset_index()\\ndmin = df.loc[:, [\\\"uuid\\\", \\\"nStimuli\\\", \\\"event\\\", \\\"t\\\", \\\"dmin\\\", \\\"post\\\"]]\\n\\ndists = pd.merge(tmax, dmin, how=\\\"left\\\")\\ndists = dists[dists[\\\"dmin\\\"] < 0.8]\\ndists = dists.loc[:, [\\\"uuid\\\", \\\"nStimuli\\\", \\\"event\\\"]]\\n\\ndf = pd.merge(dists, df, how=\\\"left\\\")\";\n",
       "                var nbb_cells = Jupyter.notebook.get_cells();\n",
       "                for (var i = 0; i < nbb_cells.length; ++i) {\n",
       "                    if (nbb_cells[i].input_prompt_number == nbb_cell_id) {\n",
       "                        nbb_cells[i].set_text(nbb_formatted_code);\n",
       "                        break;\n",
       "                    }\n",
       "                }\n",
       "            }, 500);\n",
       "            "
      ],
      "text/plain": [
       "<IPython.core.display.Javascript object>"
      ]
     },
     "metadata": {},
     "output_type": "display_data"
    }
   ],
   "source": [
    "tmax = df.loc[:, [\"uuid\", \"nStimuli\", \"event\", \"t\"]]\n",
    "tmax = tmax.groupby([\"uuid\", \"nStimuli\", \"event\"]).max().reset_index()\n",
    "dmin = df.loc[:, [\"uuid\", \"nStimuli\", \"event\", \"t\", \"dmin\", \"post\"]]\n",
    "\n",
    "dists = pd.merge(tmax, dmin, how=\"left\")\n",
    "dists = dists[dists[\"dmin\"] < 0.8]\n",
    "dists = dists.loc[:, [\"uuid\", \"nStimuli\", \"event\"]]\n",
    "\n",
    "df = pd.merge(dists, df, how=\"left\")"
   ]
  },
  {
   "cell_type": "code",
   "execution_count": 11,
   "metadata": {},
   "outputs": [
    {
     "data": {
      "application/javascript": [
       "\n",
       "            setTimeout(function() {\n",
       "                var nbb_cell_id = 11;\n",
       "                var nbb_formatted_code = \"for i1, u in enumerate(np.unique(df[\\\"uuid\\\"])):\\n    tmp = df[df[\\\"uuid\\\"] == u]\\n    for i2, n in enumerate(np.unique(tmp[\\\"nStimuli\\\"])):\\n        tmp2 = tmp[tmp[\\\"nStimuli\\\"] == n]\\n        for i3, e in enumerate(np.unique(tmp2[\\\"event\\\"])):\\n            df.loc[\\n                (df[\\\"uuid\\\"] == u) & (df[\\\"nStimuli\\\"] == n) & (df[\\\"event\\\"] == e), \\\"uuid\\\"\\n            ] = i1\\n            df.loc[\\n                (df[\\\"uuid\\\"] == u) & (df[\\\"nStimuli\\\"] == n) & (df[\\\"event\\\"] == e),\\n                \\\"nStimuli\\\",\\n            ] = i2\\n            df.loc[\\n                (df[\\\"uuid\\\"] == u) & (df[\\\"nStimuli\\\"] == n) & (df[\\\"event\\\"] == e), \\\"event\\\"\\n            ] = i3\";\n",
       "                var nbb_cells = Jupyter.notebook.get_cells();\n",
       "                for (var i = 0; i < nbb_cells.length; ++i) {\n",
       "                    if (nbb_cells[i].input_prompt_number == nbb_cell_id) {\n",
       "                        nbb_cells[i].set_text(nbb_formatted_code);\n",
       "                        break;\n",
       "                    }\n",
       "                }\n",
       "            }, 500);\n",
       "            "
      ],
      "text/plain": [
       "<IPython.core.display.Javascript object>"
      ]
     },
     "metadata": {},
     "output_type": "display_data"
    }
   ],
   "source": [
    "for i1, u in enumerate(np.unique(df[\"uuid\"])):\n",
    "    tmp = df[df[\"uuid\"] == u]\n",
    "    for i2, n in enumerate(np.unique(tmp[\"nStimuli\"])):\n",
    "        tmp2 = tmp[tmp[\"nStimuli\"] == n]\n",
    "        for i3, e in enumerate(np.unique(tmp2[\"event\"])):\n",
    "            df.loc[\n",
    "                (df[\"uuid\"] == u) & (df[\"nStimuli\"] == n) & (df[\"event\"] == e), \"uuid\"\n",
    "            ] = i1\n",
    "            df.loc[\n",
    "                (df[\"uuid\"] == u) & (df[\"nStimuli\"] == n) & (df[\"event\"] == e),\n",
    "                \"nStimuli\",\n",
    "            ] = i2\n",
    "            df.loc[\n",
    "                (df[\"uuid\"] == u) & (df[\"nStimuli\"] == n) & (df[\"event\"] == e), \"event\"\n",
    "            ] = i3"
   ]
  },
  {
   "cell_type": "code",
   "execution_count": 12,
   "metadata": {},
   "outputs": [
    {
     "name": "stdout",
     "output_type": "stream",
     "text": [
      "(3931328, 3)\n"
     ]
    },
    {
     "data": {
      "application/javascript": [
       "\n",
       "            setTimeout(function() {\n",
       "                var nbb_cell_id = 12;\n",
       "                var nbb_formatted_code = \"### establish a connecttion to the project database\\nconn = sqlite3.connect(projectDB)\\n# connect a cursor that goes through the project database\\ncursorProject = conn.cursor()\\n# establish a second connecttion to the experiment database\\nconn2 = sqlite3.connect(expDB)\\n# connect a cursor that goes through the experiment database\\ncursorExperiment = conn2.cursor()\\n\\n\\nx = df[[\\\"rotated_x\\\", \\\"rotated_y\\\"]].values\\nx = np.c_[x, x[:, 0] * 0]\\nx_Post0 = df[[\\\"rotated_post0_x\\\", \\\"rotated_post0_y\\\"]].values\\nx_Post0 = np.c_[x_Post0, x_Post0[:, 0] * 0]\\nx_Post1 = df[[\\\"rotated_post1_x\\\", \\\"rotated_post1_y\\\"]].values\\nx_Post1 = np.c_[x_Post1, x_Post1[:, 0] * 0]\\nif nPosts == 3:\\n    x_Post2 = df[[\\\"rotated_post2_x\\\", \\\"rotated_post2_y\\\"]].values\\n    x_Post2 = np.c_[x_Post2, x_Post2[:, 0] * 0]\\nt = df[\\\"t\\\"].values\\nuuids = df[\\\"uuid\\\"].values\\nnStimuli = df[\\\"nStimuli\\\"].values\\nevents = df[\\\"event\\\"].values\\nprint(x.shape)\";\n",
       "                var nbb_cells = Jupyter.notebook.get_cells();\n",
       "                for (var i = 0; i < nbb_cells.length; ++i) {\n",
       "                    if (nbb_cells[i].input_prompt_number == nbb_cell_id) {\n",
       "                        nbb_cells[i].set_text(nbb_formatted_code);\n",
       "                        break;\n",
       "                    }\n",
       "                }\n",
       "            }, 500);\n",
       "            "
      ],
      "text/plain": [
       "<IPython.core.display.Javascript object>"
      ]
     },
     "metadata": {},
     "output_type": "display_data"
    }
   ],
   "source": [
    "### establish a connecttion to the project database\n",
    "conn = sqlite3.connect(projectDB)\n",
    "# connect a cursor that goes through the project database\n",
    "cursorProject = conn.cursor()\n",
    "# establish a second connecttion to the experiment database\n",
    "conn2 = sqlite3.connect(expDB)\n",
    "# connect a cursor that goes through the experiment database\n",
    "cursorExperiment = conn2.cursor()\n",
    "\n",
    "\n",
    "x = df[[\"rotated_x\", \"rotated_y\"]].values\n",
    "x = np.c_[x, x[:, 0] * 0]\n",
    "x_Post0 = df[[\"rotated_post0_x\", \"rotated_post0_y\"]].values\n",
    "x_Post0 = np.c_[x_Post0, x_Post0[:, 0] * 0]\n",
    "x_Post1 = df[[\"rotated_post1_x\", \"rotated_post1_y\"]].values\n",
    "x_Post1 = np.c_[x_Post1, x_Post1[:, 0] * 0]\n",
    "if nPosts == 3:\n",
    "    x_Post2 = df[[\"rotated_post2_x\", \"rotated_post2_y\"]].values\n",
    "    x_Post2 = np.c_[x_Post2, x_Post2[:, 0] * 0]\n",
    "t = df[\"t\"].values\n",
    "uuids = df[\"uuid\"].values\n",
    "nStimuli = df[\"nStimuli\"].values\n",
    "events = df[\"event\"].values\n",
    "print(x.shape)"
   ]
  },
  {
   "cell_type": "code",
   "execution_count": 13,
   "metadata": {},
   "outputs": [
    {
     "name": "stderr",
     "output_type": "stream",
     "text": [
      "/mnt/ssd1/Documents/Vivek/MalkoFish/MalkoAnalyzer/BaseToolbox.py:313: RuntimeWarning: invalid value encountered in true_divide\n",
      "  v1 = v1 / (np.linalg.norm(v1, axis=1))[:, None]\n",
      "/mnt/ssd1/Documents/Vivek/MalkoFish/MalkoAnalyzer/BaseToolbox.py:314: RuntimeWarning: invalid value encountered in true_divide\n",
      "  v2 = v2 / (np.linalg.norm(v2, axis=1))[:, None]\n"
     ]
    },
    {
     "data": {
      "application/javascript": [
       "\n",
       "            setTimeout(function() {\n",
       "                var nbb_cell_id = 13;\n",
       "                var nbb_formatted_code = \"massive_experiment = swarm.Swarm()\\nfor i in range(0, len(angles) + 2):\\n    massive_experiment.addFish(swarm.Swarm())\\n\\nfor uuid in range(0, len(fetched)):\\n    cursorExperiment.execute(\\n        \\\"Select exp from experiments where expID = ?\\\", (fetched[uuid][0],)\\n    )\\n    exp = cursorExperiment.fetchall()\\n    nSt = len(np.unique(df.loc[df[\\\"uuid\\\"] == uuid, \\\"nStimuli\\\"]))\\n    for n in range(0, nSt):\\n        stimuli = swarm.Swarm()\\n        nEvents = len(\\n            np.unique(df.loc[(df[\\\"uuid\\\"] == uuid) & (df[\\\"nStimuli\\\"] == n), \\\"event\\\"])\\n        )\\n        if nEvents == 0:\\n            print(uuid, n)\\n        for e in range(0, nEvents):\\n            event = swarm.Swarm()\\n            idx = np.where((uuids == uuid) & (nStimuli == n) & (events == e))[0]\\n            if len(idx) > 30:\\n                event.addFish(\\n                    swarm.Fish(x, t, idx=idx, burst=False, fishId=0, virtual=False)\\n                )\\n                event.addFish(\\n                    swarm.Fish(x_Post0, t, idx=idx, burst=False, fishId=1, virtual=True)\\n                )\\n                if n != 0 and n != np.max(nStimuli):\\n                    event.addFish(\\n                        swarm.Fish(\\n                            x_Post1, t, idx=idx, burst=False, fishId=2, virtual=True\\n                        )\\n                    )\\n                    if nPosts > 2:\\n                        event.addFish(\\n                            swarm.Fish(\\n                                x_Post2, t, idx=idx, burst=False, fishId=3, virtual=True\\n                            )\\n                        )\\n                event.fishReferential()\\n                stimuli.addFish(event)\\n        if n == 0:\\n            massive_experiment.swarm[n].addFish(stimuli)\\n        elif n == np.max(nStimuli):\\n            massive_experiment.swarm[len(angles) + 1].addFish(stimuli)\\n        else:\\n            cursorExperiment.execute(\\n                \\\"Select replicate from experiments where expID = ?\\\", (fetched[uuid][0],)\\n            )\\n            rep = cursorExperiment.fetchall()\\n            cursorProject.execute(\\n                \\\"Select post1 from projects where project = ? and exp = ? and replicate = ? and nStimuli = ?\\\",\\n                (\\\"DecisionGeometry\\\", exp[0][0], rep[0][0], n),\\n            )\\n            post = cursorProject.fetchall()\\n            s_number = np.where(angles == eval(post[0][0])[\\\"angle\\\"])[0][0]\\n            massive_experiment.swarm[s_number + 1].addFish(stimuli)\\n\\nfor i in range(0, len(angles) + 2):\\n    massive_experiment.swarm[i].fillMetaFish()\\n\\nall_experiments = swarm.Swarm()\\nall_experiments.addFish(massive_experiment)\";\n",
       "                var nbb_cells = Jupyter.notebook.get_cells();\n",
       "                for (var i = 0; i < nbb_cells.length; ++i) {\n",
       "                    if (nbb_cells[i].input_prompt_number == nbb_cell_id) {\n",
       "                        nbb_cells[i].set_text(nbb_formatted_code);\n",
       "                        break;\n",
       "                    }\n",
       "                }\n",
       "            }, 500);\n",
       "            "
      ],
      "text/plain": [
       "<IPython.core.display.Javascript object>"
      ]
     },
     "metadata": {},
     "output_type": "display_data"
    }
   ],
   "source": [
    "massive_experiment = swarm.Swarm()\n",
    "for i in range(0, len(angles) + 2):\n",
    "    massive_experiment.addFish(swarm.Swarm())\n",
    "\n",
    "for uuid in range(0, len(fetched)):\n",
    "    cursorExperiment.execute(\n",
    "        \"Select exp from experiments where expID = ?\", (fetched[uuid][0],)\n",
    "    )\n",
    "    exp = cursorExperiment.fetchall()\n",
    "    nSt = len(np.unique(df.loc[df[\"uuid\"] == uuid, \"nStimuli\"]))\n",
    "    for n in range(0, nSt):\n",
    "        stimuli = swarm.Swarm()\n",
    "        nEvents = len(\n",
    "            np.unique(df.loc[(df[\"uuid\"] == uuid) & (df[\"nStimuli\"] == n), \"event\"])\n",
    "        )\n",
    "        if nEvents == 0:\n",
    "            print(uuid, n)\n",
    "        for e in range(0, nEvents):\n",
    "            event = swarm.Swarm()\n",
    "            idx = np.where((uuids == uuid) & (nStimuli == n) & (events == e))[0]\n",
    "            if len(idx) > 30:\n",
    "                event.addFish(\n",
    "                    swarm.Fish(x, t, idx=idx, burst=False, fishId=0, virtual=False)\n",
    "                )\n",
    "                event.addFish(\n",
    "                    swarm.Fish(x_Post0, t, idx=idx, burst=False, fishId=1, virtual=True)\n",
    "                )\n",
    "                if n != 0 and n != np.max(nStimuli):\n",
    "                    event.addFish(\n",
    "                        swarm.Fish(\n",
    "                            x_Post1, t, idx=idx, burst=False, fishId=2, virtual=True\n",
    "                        )\n",
    "                    )\n",
    "                    if nPosts > 2:\n",
    "                        event.addFish(\n",
    "                            swarm.Fish(\n",
    "                                x_Post2, t, idx=idx, burst=False, fishId=3, virtual=True\n",
    "                            )\n",
    "                        )\n",
    "                event.fishReferential()\n",
    "                stimuli.addFish(event)\n",
    "        if n == 0:\n",
    "            massive_experiment.swarm[n].addFish(stimuli)\n",
    "        elif n == np.max(nStimuli):\n",
    "            massive_experiment.swarm[len(angles) + 1].addFish(stimuli)\n",
    "        else:\n",
    "            cursorExperiment.execute(\n",
    "                \"Select replicate from experiments where expID = ?\", (fetched[uuid][0],)\n",
    "            )\n",
    "            rep = cursorExperiment.fetchall()\n",
    "            cursorProject.execute(\n",
    "                \"Select post1 from projects where project = ? and exp = ? and replicate = ? and nStimuli = ?\",\n",
    "                (\"DecisionGeometry\", exp[0][0], rep[0][0], n),\n",
    "            )\n",
    "            post = cursorProject.fetchall()\n",
    "            s_number = np.where(angles == eval(post[0][0])[\"angle\"])[0][0]\n",
    "            massive_experiment.swarm[s_number + 1].addFish(stimuli)\n",
    "\n",
    "for i in range(0, len(angles) + 2):\n",
    "    massive_experiment.swarm[i].fillMetaFish()\n",
    "\n",
    "all_experiments = swarm.Swarm()\n",
    "all_experiments.addFish(massive_experiment)"
   ]
  },
  {
   "cell_type": "code",
   "execution_count": 14,
   "metadata": {},
   "outputs": [
    {
     "name": "stdout",
     "output_type": "stream",
     "text": [
      " -- Architecture --\n"
     ]
    },
    {
     "data": {
      "application/javascript": [
       "\n",
       "            setTimeout(function() {\n",
       "                var nbb_cell_id = 14;\n",
       "                var nbb_formatted_code = \"df = pd.DataFrame(\\n    np.concatenate(\\n        (\\n            all_experiments.get((0, 1)).metaFish[\\\"x\\\"][:, 0][:, np.newaxis],\\n            all_experiments.get((0, 1)).metaFish[\\\"x\\\"][:, 1][:, np.newaxis],\\n            all_experiments.get((0, 1)).metaFish[\\\"t\\\"][:, np.newaxis],\\n        ),\\n        axis=1,\\n    ),\\n    columns=[\\\"x\\\", \\\"y\\\", \\\"t\\\"],\\n)\\n\\ndf[\\\"event\\\"] = 0\";\n",
       "                var nbb_cells = Jupyter.notebook.get_cells();\n",
       "                for (var i = 0; i < nbb_cells.length; ++i) {\n",
       "                    if (nbb_cells[i].input_prompt_number == nbb_cell_id) {\n",
       "                        nbb_cells[i].set_text(nbb_formatted_code);\n",
       "                        break;\n",
       "                    }\n",
       "                }\n",
       "            }, 500);\n",
       "            "
      ],
      "text/plain": [
       "<IPython.core.display.Javascript object>"
      ]
     },
     "metadata": {},
     "output_type": "display_data"
    }
   ],
   "source": [
    "df = pd.DataFrame(\n",
    "    np.concatenate(\n",
    "        (\n",
    "            all_experiments.get((0, 1)).metaFish[\"x\"][:, 0][:, np.newaxis],\n",
    "            all_experiments.get((0, 1)).metaFish[\"x\"][:, 1][:, np.newaxis],\n",
    "            all_experiments.get((0, 1)).metaFish[\"t\"][:, np.newaxis],\n",
    "        ),\n",
    "        axis=1,\n",
    "    ),\n",
    "    columns=[\"x\", \"y\", \"t\"],\n",
    ")\n",
    "\n",
    "df[\"event\"] = 0"
   ]
  },
  {
   "cell_type": "code",
   "execution_count": 15,
   "metadata": {
    "scrolled": true
   },
   "outputs": [
    {
     "data": {
      "application/javascript": [
       "\n",
       "            setTimeout(function() {\n",
       "                var nbb_cell_id = 15;\n",
       "                var nbb_formatted_code = \"t = df.loc[0, \\\"t\\\"]\\ndf.loc[0, \\\"t\\\"] = df.loc[0, \\\"t\\\"] - t\\n\\nfor i in range(1, df.shape[0]):\\n    if (\\n        np.sqrt(\\n            (df.loc[i, \\\"x\\\"] - df.loc[i - 1, \\\"x\\\"]) ** 2\\n            + (df.loc[i, \\\"y\\\"] - df.loc[i - 1, \\\"y\\\"]) ** 2\\n        )\\n        < 0.5\\n    ):\\n        df.loc[i, \\\"event\\\"] = df.loc[i - 1, \\\"event\\\"]\\n        df.loc[i, \\\"t\\\"] = df.loc[i, \\\"t\\\"] - t\\n    else:\\n        df.loc[i, \\\"event\\\"] = df.loc[i - 1, \\\"event\\\"] + 1\\n        t = df.loc[i, \\\"t\\\"]\\n        df.loc[i, \\\"t\\\"] = df.loc[i, \\\"t\\\"] - t\";\n",
       "                var nbb_cells = Jupyter.notebook.get_cells();\n",
       "                for (var i = 0; i < nbb_cells.length; ++i) {\n",
       "                    if (nbb_cells[i].input_prompt_number == nbb_cell_id) {\n",
       "                        nbb_cells[i].set_text(nbb_formatted_code);\n",
       "                        break;\n",
       "                    }\n",
       "                }\n",
       "            }, 500);\n",
       "            "
      ],
      "text/plain": [
       "<IPython.core.display.Javascript object>"
      ]
     },
     "metadata": {},
     "output_type": "display_data"
    }
   ],
   "source": [
    "t = df.loc[0, \"t\"]\n",
    "df.loc[0, \"t\"] = df.loc[0, \"t\"] - t\n",
    "\n",
    "for i in range(1, df.shape[0]):\n",
    "    if (\n",
    "        np.sqrt(\n",
    "            (df.loc[i, \"x\"] - df.loc[i - 1, \"x\"]) ** 2\n",
    "            + (df.loc[i, \"y\"] - df.loc[i - 1, \"y\"]) ** 2\n",
    "        )\n",
    "        < 0.5\n",
    "    ):\n",
    "        df.loc[i, \"event\"] = df.loc[i - 1, \"event\"]\n",
    "        df.loc[i, \"t\"] = df.loc[i, \"t\"] - t\n",
    "    else:\n",
    "        df.loc[i, \"event\"] = df.loc[i - 1, \"event\"] + 1\n",
    "        t = df.loc[i, \"t\"]\n",
    "        df.loc[i, \"t\"] = df.loc[i, \"t\"] - t"
   ]
  },
  {
   "cell_type": "code",
   "execution_count": 21,
   "metadata": {},
   "outputs": [
    {
     "data": {
      "application/javascript": [
       "\n",
       "            setTimeout(function() {\n",
       "                var nbb_cell_id = 21;\n",
       "                var nbb_formatted_code = \"df.to_csv(\\\"/mnt/ssd1/Documents/Vivek/flyVR/visualisation_data.csv\\\", mode=\\\"w\\\")\";\n",
       "                var nbb_cells = Jupyter.notebook.get_cells();\n",
       "                for (var i = 0; i < nbb_cells.length; ++i) {\n",
       "                    if (nbb_cells[i].input_prompt_number == nbb_cell_id) {\n",
       "                        nbb_cells[i].set_text(nbb_formatted_code);\n",
       "                        break;\n",
       "                    }\n",
       "                }\n",
       "            }, 500);\n",
       "            "
      ],
      "text/plain": [
       "<IPython.core.display.Javascript object>"
      ]
     },
     "metadata": {},
     "output_type": "display_data"
    }
   ],
   "source": [
    "df.to_csv(\"/mnt/ssd1/Documents/Vivek/flyVR/visualisation_data.csv\", mode=\"w\")"
   ]
  },
  {
   "cell_type": "code",
   "execution_count": 25,
   "metadata": {},
   "outputs": [
    {
     "data": {
      "image/png": "[encoded data removed]",
      "text/plain": [
       "<Figure size 432x288 with 1 Axes>"
      ]
     },
     "metadata": {},
     "output_type": "display_data"
    },
    {
     "data": {
      "application/javascript": [
       "\n",
       "            setTimeout(function() {\n",
       "                var nbb_cell_id = 25;\n",
       "                var nbb_formatted_code = \"t = 21\\ntmp = df[df[\\\"t\\\"] < t]\\n\\nplt.scatter(tmp[\\\"x\\\"], tmp[\\\"y\\\"], c=\\\"black\\\", s=1, alpha=0.01)\\nplt.xlim(0, 5)\\nplt.ylim(-2.5, 2.5)\\nplt.axis(\\\"equal\\\")\\nplt.show()\";\n",
       "                var nbb_cells = Jupyter.notebook.get_cells();\n",
       "                for (var i = 0; i < nbb_cells.length; ++i) {\n",
       "                    if (nbb_cells[i].input_prompt_number == nbb_cell_id) {\n",
       "                        nbb_cells[i].set_text(nbb_formatted_code);\n",
       "                        break;\n",
       "                    }\n",
       "                }\n",
       "            }, 500);\n",
       "            "
      ],
      "text/plain": [
       "<IPython.core.display.Javascript object>"
      ]
     },
     "metadata": {},
     "output_type": "display_data"
    }
   ],
   "source": [
    "t = 21\n",
    "tmp = df[df[\"t\"] < t]\n",
    "\n",
    "plt.scatter(tmp[\"x\"], tmp[\"y\"], c=\"black\", s=1, alpha=0.01)\n",
    "plt.xlim(0, 5)\n",
    "plt.ylim(-2.5, 2.5)\n",
    "plt.axis(\"equal\")\n",
    "plt.show()"
   ]
  },
  {
   "cell_type": "code",
   "execution_count": null,
   "metadata": {},
   "outputs": [],
   "source": []
  }
 ],
 "metadata": {
  "kernelspec": {
   "display_name": "Python 3",
   "language": "python",
   "name": "python3"
  },
  "language_info": {
   "codemirror_mode": {
    "name": "ipython",
    "version": 3
   },
   "file_extension": ".py",
   "mimetype": "text/x-python",
   "name": "python",
   "nbconvert_exporter": "python",
   "pygments_lexer": "ipython3",
   "version": "3.6.3"
  }
 },
 "nbformat": 4,
 "nbformat_minor": 2
}
