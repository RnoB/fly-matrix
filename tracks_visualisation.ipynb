{
 "cells": [
  {
   "cell_type": "code",
   "execution_count": 1,
   "metadata": {},
   "outputs": [
    {
     "data": {
      "application/javascript": [
       "\n",
       "            setTimeout(function() {\n",
       "                var nbb_cell_id = 1;\n",
       "                var nbb_formatted_code = \"%load_ext nb_black\";\n",
       "                var nbb_cells = Jupyter.notebook.get_cells();\n",
       "                for (var i = 0; i < nbb_cells.length; ++i) {\n",
       "                    if (nbb_cells[i].input_prompt_number == nbb_cell_id) {\n",
       "                        nbb_cells[i].set_text(nbb_formatted_code);\n",
       "                        break;\n",
       "                    }\n",
       "                }\n",
       "            }, 500);\n",
       "            "
      ],
      "text/plain": [
       "<IPython.core.display.Javascript object>"
      ]
     },
     "metadata": {},
     "output_type": "display_data"
    }
   ],
   "source": [
    "%load_ext nb_black"
   ]
  },
  {
   "cell_type": "code",
   "execution_count": 2,
   "metadata": {},
   "outputs": [
    {
     "data": {
      "application/javascript": [
       "\n",
       "            setTimeout(function() {\n",
       "                var nbb_cell_id = 2;\n",
       "                var nbb_formatted_code = \"import numpy as np\\nimport pandas as pd\\nimport matplotlib.pyplot as plt\\nimport sqlite3\\nimport numba\\nimport glob\\nimport sys\\nfrom scipy.optimize import curve_fit\\n\\nsys.path.insert(0, \\\"/mnt/ssd1/Documents/Vivek/MalkoFish/MalkoAnalyzer\\\")\\nimport swarm\\nimport BaseToolbox as bt\\nimport plotBox as pb\\nimport plotter\\nimport copy\\nimport cv2\\nfrom imp import reload\\n\\nreload(pb)\\nreload(plotter)\\nreload(bt)\\n\\nplotter.pb.boxSize.defineBoxSize((-5, 5), (-5, 5), (-1, 1))\\nplotter.pb.boxSizeRelative.defineBoxSize((-10, 10), (-10, 10), (-1, 1))\";\n",
       "                var nbb_cells = Jupyter.notebook.get_cells();\n",
       "                for (var i = 0; i < nbb_cells.length; ++i) {\n",
       "                    if (nbb_cells[i].input_prompt_number == nbb_cell_id) {\n",
       "                        nbb_cells[i].set_text(nbb_formatted_code);\n",
       "                        break;\n",
       "                    }\n",
       "                }\n",
       "            }, 500);\n",
       "            "
      ],
      "text/plain": [
       "<IPython.core.display.Javascript object>"
      ]
     },
     "metadata": {},
     "output_type": "display_data"
    }
   ],
   "source": [
    "import numpy as np\n",
    "import pandas as pd\n",
    "import matplotlib.pyplot as plt\n",
    "import sqlite3\n",
    "import numba\n",
    "import glob\n",
    "import sys\n",
    "from scipy.optimize import curve_fit\n",
    "\n",
    "sys.path.insert(0, \"/mnt/ssd1/Documents/Vivek/MalkoFish/MalkoAnalyzer\")\n",
    "import swarm\n",
    "import BaseToolbox as bt\n",
    "import plotBox as pb\n",
    "import plotter\n",
    "import copy\n",
    "import cv2\n",
    "from imp import reload\n",
    "\n",
    "reload(pb)\n",
    "reload(plotter)\n",
    "reload(bt)\n",
    "\n",
    "plotter.pb.boxSize.defineBoxSize((-5, 5), (-5, 5), (-1, 1))\n",
    "plotter.pb.boxSizeRelative.defineBoxSize((-10, 10), (-10, 10), (-1, 1))"
   ]
  },
  {
   "cell_type": "code",
   "execution_count": 3,
   "metadata": {},
   "outputs": [
    {
     "data": {
      "application/javascript": [
       "\n",
       "            setTimeout(function() {\n",
       "                var nbb_cell_id = 3;\n",
       "                var nbb_formatted_code = \"dataDIR = \\\"/media/user/Samsung_T3/Work/Documents/Data/flyVR/new_experiments/\\\"\\nprojectDB = \\\"/mnt/ssd1/Documents/Vivek/flyVR/fly-matrix/dbGen/flyProjects.db\\\"\\nexpDB = \\\"/mnt/ssd1/Documents/Vivek/flyVR/fly-matrix/dbGen/flyExperiments.db\\\"\\n\\n\\nnPosts = 2\\nlong_ev = False\\nwindow_size = 20 if nPosts == 2 else 30\\nspatial_discretisation_step = 0.01\";\n",
       "                var nbb_cells = Jupyter.notebook.get_cells();\n",
       "                for (var i = 0; i < nbb_cells.length; ++i) {\n",
       "                    if (nbb_cells[i].input_prompt_number == nbb_cell_id) {\n",
       "                        nbb_cells[i].set_text(nbb_formatted_code);\n",
       "                        break;\n",
       "                    }\n",
       "                }\n",
       "            }, 500);\n",
       "            "
      ],
      "text/plain": [
       "<IPython.core.display.Javascript object>"
      ]
     },
     "metadata": {},
     "output_type": "display_data"
    }
   ],
   "source": [
    "dataDIR = \"/media/user/Samsung_T3/Work/Documents/Data/flyVR/new_experiments/\"\n",
    "projectDB = \"/mnt/ssd1/Documents/Vivek/flyVR/fly-matrix/dbGen/flyProjects.db\"\n",
    "expDB = \"/mnt/ssd1/Documents/Vivek/flyVR/fly-matrix/dbGen/flyExperiments.db\"\n",
    "\n",
    "\n",
    "nPosts = 2\n",
    "long_ev = False\n",
    "window_size = 20 if nPosts == 2 else 30\n",
    "spatial_discretisation_step = 0.01"
   ]
  },
  {
   "cell_type": "code",
   "execution_count": 4,
   "metadata": {},
   "outputs": [
    {
     "data": {
      "application/javascript": [
       "\n",
       "            setTimeout(function() {\n",
       "                var nbb_cell_id = 4;\n",
       "                var nbb_formatted_code = \"def rotate(xy, radians):\\n    x, y = xy\\n    c, s = np.cos(radians), np.sin(radians)\\n    j = np.matrix([[c, s], [-s, c]])\\n    m = np.dot(j, [x, y])\\n\\n    return m\";\n",
       "                var nbb_cells = Jupyter.notebook.get_cells();\n",
       "                for (var i = 0; i < nbb_cells.length; ++i) {\n",
       "                    if (nbb_cells[i].input_prompt_number == nbb_cell_id) {\n",
       "                        nbb_cells[i].set_text(nbb_formatted_code);\n",
       "                        break;\n",
       "                    }\n",
       "                }\n",
       "            }, 500);\n",
       "            "
      ],
      "text/plain": [
       "<IPython.core.display.Javascript object>"
      ]
     },
     "metadata": {},
     "output_type": "display_data"
    }
   ],
   "source": [
    "def rotate(xy, radians):\n",
    "    x, y = xy\n",
    "    c, s = np.cos(radians), np.sin(radians)\n",
    "    j = np.matrix([[c, s], [-s, c]])\n",
    "    m = np.dot(j, [x, y])\n",
    "\n",
    "    return m"
   ]
  },
  {
   "cell_type": "code",
   "execution_count": 5,
   "metadata": {},
   "outputs": [
    {
     "name": "stdout",
     "output_type": "stream",
     "text": [
      "fetched : [('7b035fd1-bf5d-4b17-b07b-fdce31c00174',), ('0cac2ffa-751c-47e2-a60c-a4394f0c3694',), ('730e9871-40e2-49f2-951e-64ee4c6a264b',), ('14aa360d-a93c-4c1c-bfa4-fe3d46fea4fe',), ('ae62bd32-c787-4ace-af5e-5602fd41c6de',), ('7b78ebae-f5d9-45b1-8a06-64ef4ac1be26',), ('32b3e6c4-0254-4a34-a89f-b4511f867a43',), ('be8d0ed4-cb4d-4be1-9197-ed3070a2d6c0',), ('02729761-34f5-47d3-853d-24d44b95e01a',), ('e5009561-0dc8-45a3-80d9-e23619ae9f63',), ('766cebfa-ec3a-45ae-bee8-c45b9af7e890',), ('811f4e3f-e84a-44fa-9aa2-c4cc5452b6b1',), ('b3122f45-b25b-49ab-994f-de87d61cd420',), ('38940006-4529-46a0-a368-e732cd684c29',), ('e02e2fb4-c50e-4d72-bd5e-f64e24bd718c',), ('4bc09102-9e80-4b75-9162-bfe947b89847',), ('4c934967-64bd-421e-9f00-cc017df1d6cd',), ('a7df1714-2578-469d-afc2-712db8adeac0',), ('d8794167-49af-44a7-8ade-cbe6dafcd718',), ('85e8dae9-3b21-42bb-8d27-b57d411cb94c',), ('eb518d61-f816-488f-98d0-400a5d6778b6',), ('a9ffea1b-5e11-4026-ae8c-3b6e13d52619',), ('33993c50-c962-4e8f-8142-ae85cb2079b1',), ('18b3c12f-6666-4f24-ac70-3535c6b74503',), ('96d07ba4-58d1-44f2-9de4-290bb5bba2c4',), ('fbbf564b-a272-4385-8f7e-2cd1cf8a816a',), ('ee62e70f-80cc-4040-a449-c6f46218c62c',), ('7dc5cf89-2a83-4d39-977c-ec40f24a30c9',), ('a96f8803-cf74-4656-958b-cba8ea3e9945',), ('a9194a47-13ae-4b69-8d5f-50859ce34238',)]\n"
     ]
    },
    {
     "data": {
      "application/javascript": [
       "\n",
       "            setTimeout(function() {\n",
       "                var nbb_cell_id = 5;\n",
       "                var nbb_formatted_code = \"# establish a connecttion to the project database\\nconn = sqlite3.connect(projectDB)\\n# connect a cursor that goes through the project database\\ncursorProject = conn.cursor()\\n# establish a second connecttion to the experiment database\\nconn2 = sqlite3.connect(expDB)\\n# connect a cursor that goes through the experiment database\\ncursorExperiment = conn2.cursor()\\n\\n# pick experiments from specified project\\ncursorExperiment.execute(\\n    \\\"Select expId from experiments where project = ? and exp >= ? and exp < ?\\\",\\n    (\\\"DecisionGeometry\\\", (nPosts - 2) * 10, (nPosts - 1) * 10),\\n)\\nfetched = cursorExperiment.fetchall()\\nprint(\\\"fetched : \\\" + str(fetched))\";\n",
       "                var nbb_cells = Jupyter.notebook.get_cells();\n",
       "                for (var i = 0; i < nbb_cells.length; ++i) {\n",
       "                    if (nbb_cells[i].input_prompt_number == nbb_cell_id) {\n",
       "                        nbb_cells[i].set_text(nbb_formatted_code);\n",
       "                        break;\n",
       "                    }\n",
       "                }\n",
       "            }, 500);\n",
       "            "
      ],
      "text/plain": [
       "<IPython.core.display.Javascript object>"
      ]
     },
     "metadata": {},
     "output_type": "display_data"
    }
   ],
   "source": [
    "# establish a connecttion to the project database\n",
    "conn = sqlite3.connect(projectDB)\n",
    "# connect a cursor that goes through the project database\n",
    "cursorProject = conn.cursor()\n",
    "# establish a second connecttion to the experiment database\n",
    "conn2 = sqlite3.connect(expDB)\n",
    "# connect a cursor that goes through the experiment database\n",
    "cursorExperiment = conn2.cursor()\n",
    "\n",
    "# pick experiments from specified project\n",
    "cursorExperiment.execute(\n",
    "    \"Select expId from experiments where project = ? and exp >= ? and exp < ?\",\n",
    "    (\"DecisionGeometry\", (nPosts - 2) * 10, (nPosts - 1) * 10),\n",
    ")\n",
    "fetched = cursorExperiment.fetchall()\n",
    "print(\"fetched : \" + str(fetched))"
   ]
  },
  {
   "cell_type": "code",
   "execution_count": 6,
   "metadata": {},
   "outputs": [
    {
     "name": "stderr",
     "output_type": "stream",
     "text": [
      "/home/user/.local/lib/python3.6/site-packages/pandas/core/frame.py:6692: FutureWarning: Sorting because non-concatenation axis is not aligned. A future version\n",
      "of pandas will change to not sort by default.\n",
      "\n",
      "To accept the future behavior, pass 'sort=False'.\n",
      "\n",
      "To retain the current behavior and silence the warning, pass 'sort=True'.\n",
      "\n",
      "  sort=sort)\n"
     ]
    },
    {
     "data": {
      "application/javascript": [
       "\n",
       "            setTimeout(function() {\n",
       "                var nbb_cell_id = 6;\n",
       "                var nbb_formatted_code = \"angles = []\\ndataDict0 = []\\ndataDict1 = []\\ndataDict2 = []\\nrot_post0 = []\\nfor uuid in range(0, len(fetched)):\\n    cursorExperiment.execute(\\n        \\\"Select exp from experiments where expId = ?\\\", (fetched[uuid][0],)\\n    )\\n    fetch_exp = cursorExperiment.fetchall()[0][0]\\n    cursorExperiment.execute(\\n        \\\"Select replicate from experiments where expId = ?\\\", (fetched[uuid][0],)\\n    )\\n    fetch_rep = cursorExperiment.fetchall()[0][0]\\n\\n    cursorProject.execute(\\n        \\\"Select post0 from projects where project = ? and exp = ? and replicate = ?\\\",\\n        (\\\"DecisionGeometry\\\", fetch_exp, fetch_rep),\\n    )\\n    dataDict0.append(cursorProject.fetchall())\\n    cursorProject.execute(\\n        \\\"Select post1 from projects where project = ? and exp = ? and replicate = ?\\\",\\n        (\\\"DecisionGeometry\\\", fetch_exp, fetch_rep),\\n    )\\n    dataDict1.append(cursorProject.fetchall())\\n    cursorProject.execute(\\n        \\\"Select post2 from projects where project = ? and exp = ? and replicate = ?\\\",\\n        (\\\"DecisionGeometry\\\", fetch_exp, fetch_rep),\\n    )\\n    dataDict2.append(cursorProject.fetchall())\\n\\n    tmp = pd.read_csv(\\n        dataDIR + fetched[uuid][0] + \\\"/results.csv\\\",\\n        names=[\\\"x\\\", \\\"y\\\", \\\"z\\\", \\\"dir\\\", \\\"event\\\", \\\"t\\\", \\\"nStimuli\\\"],\\n    )\\n    tmp[\\\"uuid\\\"] = uuid\\n    tmp[\\\"post0_x\\\"] = tmp[\\\"post0_y\\\"] = tmp[\\\"post1_x\\\"] = tmp[\\\"post1_y\\\"] = np.nan\\n    if nPosts == 3:\\n        tmp[\\\"post2_x\\\"] = tmp[\\\"post2_y\\\"] = np.nan\\n\\n    tmp3 = pd.DataFrame(\\n        columns=[\\n            \\\"x\\\",\\n            \\\"y\\\",\\n            \\\"z\\\",\\n            \\\"dir\\\",\\n            \\\"event\\\",\\n            \\\"t\\\",\\n            \\\"nStimuli\\\",\\n            \\\"uuid\\\",\\n            \\\"post0_x\\\",\\n            \\\"post0_y\\\",\\n            \\\"post1_x\\\",\\n            \\\"post1_y\\\",\\n        ]\\n    )\\n    for i in np.unique(tmp[\\\"nStimuli\\\"]):\\n        for j in np.unique(tmp.loc[tmp[\\\"nStimuli\\\"] == i, \\\"event\\\"]):\\n            tmp2 = tmp.loc[(tmp[\\\"nStimuli\\\"] == i) & (tmp[\\\"event\\\"] == j), :]\\n            tmp2 = tmp2.reset_index()\\n            tmp2[\\\"selected\\\"] = 0\\n\\n            start_x = tmp2.loc[0, \\\"x\\\"]\\n            start_y = tmp2.loc[0, \\\"y\\\"]\\n            for k in range(1, len(tmp2)):\\n                x = tmp2.loc[k, \\\"x\\\"]\\n                y = tmp2.loc[k, \\\"y\\\"]\\n                dist = np.sqrt((start_x - x) ** 2 + (start_y - y) ** 2)\\n                if dist > spatial_discretisation_step:\\n                    tmp2.loc[k, \\\"selected\\\"] = 1\\n                    start_x = x\\n                    start_y = y\\n            tmp3 = tmp3.append(tmp2[tmp2[\\\"selected\\\"] == 1])\\n\\n    df = tmp3 if uuid == 0 else pd.concat([df, tmp3])\\n    rot_post0.append([eval(dataDict0[uuid][1][0])[\\\"distance\\\"], 0.0])\\n\\n    cursorProject.execute(\\n        \\\"Select post1 from projects where project = ? and exp >= ? and exp < ?\\\",\\n        (\\\"DecisionGeometry\\\", (nPosts - 2) * 10, (nPosts - 1) * 10),\\n    )\\n    for a in np.unique(cursorProject.fetchall()):\\n        if a != \\\"None\\\" and eval(a)[\\\"angle\\\"] not in angles:\\n            angles.append(eval(a)[\\\"angle\\\"])\\n\\nangles = np.sort(np.array(angles))\";\n",
       "                var nbb_cells = Jupyter.notebook.get_cells();\n",
       "                for (var i = 0; i < nbb_cells.length; ++i) {\n",
       "                    if (nbb_cells[i].input_prompt_number == nbb_cell_id) {\n",
       "                        nbb_cells[i].set_text(nbb_formatted_code);\n",
       "                        break;\n",
       "                    }\n",
       "                }\n",
       "            }, 500);\n",
       "            "
      ],
      "text/plain": [
       "<IPython.core.display.Javascript object>"
      ]
     },
     "metadata": {},
     "output_type": "display_data"
    }
   ],
   "source": [
    "angles = []\n",
    "dataDict0 = []\n",
    "dataDict1 = []\n",
    "dataDict2 = []\n",
    "rot_post0 = []\n",
    "for uuid in range(0, len(fetched)):\n",
    "    cursorExperiment.execute(\n",
    "        \"Select exp from experiments where expId = ?\", (fetched[uuid][0],)\n",
    "    )\n",
    "    fetch_exp = cursorExperiment.fetchall()[0][0]\n",
    "    cursorExperiment.execute(\n",
    "        \"Select replicate from experiments where expId = ?\", (fetched[uuid][0],)\n",
    "    )\n",
    "    fetch_rep = cursorExperiment.fetchall()[0][0]\n",
    "\n",
    "    cursorProject.execute(\n",
    "        \"Select post0 from projects where project = ? and exp = ? and replicate = ?\",\n",
    "        (\"DecisionGeometry\", fetch_exp, fetch_rep),\n",
    "    )\n",
    "    dataDict0.append(cursorProject.fetchall())\n",
    "    cursorProject.execute(\n",
    "        \"Select post1 from projects where project = ? and exp = ? and replicate = ?\",\n",
    "        (\"DecisionGeometry\", fetch_exp, fetch_rep),\n",
    "    )\n",
    "    dataDict1.append(cursorProject.fetchall())\n",
    "    cursorProject.execute(\n",
    "        \"Select post2 from projects where project = ? and exp = ? and replicate = ?\",\n",
    "        (\"DecisionGeometry\", fetch_exp, fetch_rep),\n",
    "    )\n",
    "    dataDict2.append(cursorProject.fetchall())\n",
    "\n",
    "    tmp = pd.read_csv(\n",
    "        dataDIR + fetched[uuid][0] + \"/results.csv\",\n",
    "        names=[\"x\", \"y\", \"z\", \"dir\", \"event\", \"t\", \"nStimuli\"],\n",
    "    )\n",
    "    tmp[\"uuid\"] = uuid\n",
    "    tmp[\"post0_x\"] = tmp[\"post0_y\"] = tmp[\"post1_x\"] = tmp[\"post1_y\"] = np.nan\n",
    "    if nPosts == 3:\n",
    "        tmp[\"post2_x\"] = tmp[\"post2_y\"] = np.nan\n",
    "\n",
    "    tmp3 = pd.DataFrame(\n",
    "        columns=[\n",
    "            \"x\",\n",
    "            \"y\",\n",
    "            \"z\",\n",
    "            \"dir\",\n",
    "            \"event\",\n",
    "            \"t\",\n",
    "            \"nStimuli\",\n",
    "            \"uuid\",\n",
    "            \"post0_x\",\n",
    "            \"post0_y\",\n",
    "            \"post1_x\",\n",
    "            \"post1_y\",\n",
    "        ]\n",
    "    )\n",
    "    for i in np.unique(tmp[\"nStimuli\"]):\n",
    "        for j in np.unique(tmp.loc[tmp[\"nStimuli\"] == i, \"event\"]):\n",
    "            tmp2 = tmp.loc[(tmp[\"nStimuli\"] == i) & (tmp[\"event\"] == j), :]\n",
    "            tmp2 = tmp2.reset_index()\n",
    "            tmp2[\"selected\"] = 0\n",
    "\n",
    "            start_x = tmp2.loc[0, \"x\"]\n",
    "            start_y = tmp2.loc[0, \"y\"]\n",
    "            for k in range(1, len(tmp2)):\n",
    "                x = tmp2.loc[k, \"x\"]\n",
    "                y = tmp2.loc[k, \"y\"]\n",
    "                dist = np.sqrt((start_x - x) ** 2 + (start_y - y) ** 2)\n",
    "                if dist > spatial_discretisation_step:\n",
    "                    tmp2.loc[k, \"selected\"] = 1\n",
    "                    start_x = x\n",
    "                    start_y = y\n",
    "            tmp3 = tmp3.append(tmp2[tmp2[\"selected\"] == 1])\n",
    "\n",
    "    df = tmp3 if uuid == 0 else pd.concat([df, tmp3])\n",
    "    rot_post0.append([eval(dataDict0[uuid][1][0])[\"distance\"], 0.0])\n",
    "\n",
    "    cursorProject.execute(\n",
    "        \"Select post1 from projects where project = ? and exp >= ? and exp < ?\",\n",
    "        (\"DecisionGeometry\", (nPosts - 2) * 10, (nPosts - 1) * 10),\n",
    "    )\n",
    "    for a in np.unique(cursorProject.fetchall()):\n",
    "        if a != \"None\" and eval(a)[\"angle\"] not in angles:\n",
    "            angles.append(eval(a)[\"angle\"])\n",
    "\n",
    "angles = np.sort(np.array(angles))"
   ]
  },
  {
   "cell_type": "code",
   "execution_count": 7,
   "metadata": {},
   "outputs": [
    {
     "data": {
      "application/javascript": [
       "\n",
       "            setTimeout(function() {\n",
       "                var nbb_cell_id = 7;\n",
       "                var nbb_formatted_code = \"# add post positions to dataframe\\nnStimuli = np.unique(df[\\\"nStimuli\\\"])\\nfor uuid in range(0, len(fetched)):\\n    for i in range(0, np.max(nStimuli) + 1):\\n        df.loc[(df[\\\"uuid\\\"] == uuid) & (df[\\\"nStimuli\\\"] == i), \\\"post0_x\\\"] = eval(\\n            dataDict0[uuid][nStimuli[i]][0]\\n        )[\\\"position\\\"][0]\\n        df.loc[(df[\\\"uuid\\\"] == uuid) & (df[\\\"nStimuli\\\"] == i), \\\"post0_y\\\"] = eval(\\n            dataDict0[uuid][nStimuli[i]][0]\\n        )[\\\"position\\\"][1]\\n        if i > 0 and i < np.max(nStimuli):\\n            df.loc[(df[\\\"uuid\\\"] == uuid) & (df[\\\"nStimuli\\\"] == i), \\\"post1_x\\\"] = eval(\\n                dataDict1[uuid][nStimuli[i]][0]\\n            )[\\\"position\\\"][0]\\n            df.loc[(df[\\\"uuid\\\"] == uuid) & (df[\\\"nStimuli\\\"] == i), \\\"post1_y\\\"] = eval(\\n                dataDict1[uuid][nStimuli[i]][0]\\n            )[\\\"position\\\"][1]\\n            if nPosts == 3:\\n                df.loc[(df[\\\"uuid\\\"] == uuid) & (df[\\\"nStimuli\\\"] == i), \\\"post2_x\\\"] = eval(\\n                    dataDict2[uuid][nStimuli[i]][0]\\n                )[\\\"position\\\"][0]\\n                df.loc[(df[\\\"uuid\\\"] == uuid) & (df[\\\"nStimuli\\\"] == i), \\\"post2_y\\\"] = eval(\\n                    dataDict2[uuid][nStimuli[i]][0]\\n                )[\\\"position\\\"][1]\\n\\n# initialise rotation of tracks and posts\\ndf[\\\"rotated_x\\\"] = df[\\\"rotated_y\\\"] = 0.0\\ndf[\\\"rotated_post0_x\\\"] = df[\\\"rotated_post0_y\\\"] = df[\\\"rotated_post1_x\\\"] = df[\\n    \\\"rotated_post1_y\\\"\\n] = 0.0\\nif nPosts == 3:\\n    df[\\\"rotated_post2_x\\\"] = df[\\\"rotated_post2_y\\\"] = 0.0\\ndf[\\\"ang\\\"] = 0.0\";\n",
       "                var nbb_cells = Jupyter.notebook.get_cells();\n",
       "                for (var i = 0; i < nbb_cells.length; ++i) {\n",
       "                    if (nbb_cells[i].input_prompt_number == nbb_cell_id) {\n",
       "                        nbb_cells[i].set_text(nbb_formatted_code);\n",
       "                        break;\n",
       "                    }\n",
       "                }\n",
       "            }, 500);\n",
       "            "
      ],
      "text/plain": [
       "<IPython.core.display.Javascript object>"
      ]
     },
     "metadata": {},
     "output_type": "display_data"
    }
   ],
   "source": [
    "# add post positions to dataframe\n",
    "nStimuli = np.unique(df[\"nStimuli\"])\n",
    "for uuid in range(0, len(fetched)):\n",
    "    for i in range(0, np.max(nStimuli) + 1):\n",
    "        df.loc[(df[\"uuid\"] == uuid) & (df[\"nStimuli\"] == i), \"post0_x\"] = eval(\n",
    "            dataDict0[uuid][nStimuli[i]][0]\n",
    "        )[\"position\"][0]\n",
    "        df.loc[(df[\"uuid\"] == uuid) & (df[\"nStimuli\"] == i), \"post0_y\"] = eval(\n",
    "            dataDict0[uuid][nStimuli[i]][0]\n",
    "        )[\"position\"][1]\n",
    "        if i > 0 and i < np.max(nStimuli):\n",
    "            df.loc[(df[\"uuid\"] == uuid) & (df[\"nStimuli\"] == i), \"post1_x\"] = eval(\n",
    "                dataDict1[uuid][nStimuli[i]][0]\n",
    "            )[\"position\"][0]\n",
    "            df.loc[(df[\"uuid\"] == uuid) & (df[\"nStimuli\"] == i), \"post1_y\"] = eval(\n",
    "                dataDict1[uuid][nStimuli[i]][0]\n",
    "            )[\"position\"][1]\n",
    "            if nPosts == 3:\n",
    "                df.loc[(df[\"uuid\"] == uuid) & (df[\"nStimuli\"] == i), \"post2_x\"] = eval(\n",
    "                    dataDict2[uuid][nStimuli[i]][0]\n",
    "                )[\"position\"][0]\n",
    "                df.loc[(df[\"uuid\"] == uuid) & (df[\"nStimuli\"] == i), \"post2_y\"] = eval(\n",
    "                    dataDict2[uuid][nStimuli[i]][0]\n",
    "                )[\"position\"][1]\n",
    "\n",
    "# initialise rotation of tracks and posts\n",
    "df[\"rotated_x\"] = df[\"rotated_y\"] = 0.0\n",
    "df[\"rotated_post0_x\"] = df[\"rotated_post0_y\"] = df[\"rotated_post1_x\"] = df[\n",
    "    \"rotated_post1_y\"\n",
    "] = 0.0\n",
    "if nPosts == 3:\n",
    "    df[\"rotated_post2_x\"] = df[\"rotated_post2_y\"] = 0.0\n",
    "df[\"ang\"] = 0.0"
   ]
  },
  {
   "cell_type": "code",
   "execution_count": 8,
   "metadata": {},
   "outputs": [
    {
     "data": {
      "application/javascript": [
       "\n",
       "            setTimeout(function() {\n",
       "                var nbb_cell_id = 8;\n",
       "                var nbb_formatted_code = \"# get rotation angle\\nfor uuid in range(0, len(fetched)):\\n    rot_post0_x = rot_post0[uuid][0]\\n    rot_post0_y = rot_post0[uuid][1]\\n    df.loc[df[\\\"uuid\\\"] == uuid, \\\"ang\\\"] = np.arctan2(\\n        df.loc[df[\\\"uuid\\\"] == uuid, \\\"post0_y\\\"], df.loc[df[\\\"uuid\\\"] == uuid, \\\"post0_x\\\"]\\n    )\\n\\n# rotate tracks and posts (posts are now centred along positive x-axis)\\nfor uuid in range(0, len(fetched)):\\n    for i in range(0, np.max(nStimuli) + 1):\\n        ang = np.unique(df.loc[(df[\\\"uuid\\\"] == uuid) & (df[\\\"nStimuli\\\"] == i), \\\"ang\\\"])[0]\\n        if i > 0 and i < np.max(nStimuli):\\n            ang += (nPosts - 1) * eval(dataDict0[uuid][nStimuli[i]][0])[\\\"angle\\\"] / 2\\n\\n        rx, ry = rotate(\\n            np.array(\\n                (\\n                    df.loc[(df[\\\"uuid\\\"] == uuid) & (df[\\\"nStimuli\\\"] == i), \\\"x\\\"],\\n                    df.loc[(df[\\\"uuid\\\"] == uuid) & (df[\\\"nStimuli\\\"] == i), \\\"y\\\"],\\n                )\\n            ),\\n            ang,\\n        )\\n        df.loc[(df[\\\"uuid\\\"] == uuid) & (df[\\\"nStimuli\\\"] == i), \\\"rotated_x\\\"] = np.squeeze(\\n            np.asarray(rx.T)\\n        )\\n        df.loc[(df[\\\"uuid\\\"] == uuid) & (df[\\\"nStimuli\\\"] == i), \\\"rotated_y\\\"] = np.squeeze(\\n            np.asarray(ry.T)\\n        )\\n\\n        rp0x, rp0y = rotate(\\n            np.array(\\n                (\\n                    df.loc[(df[\\\"uuid\\\"] == uuid) & (df[\\\"nStimuli\\\"] == i), \\\"post0_x\\\"],\\n                    df.loc[(df[\\\"uuid\\\"] == uuid) & (df[\\\"nStimuli\\\"] == i), \\\"post0_y\\\"],\\n                )\\n            ),\\n            ang,\\n        )\\n        df.loc[\\n            (df[\\\"uuid\\\"] == uuid) & (df[\\\"nStimuli\\\"] == i), \\\"rotated_post0_x\\\"\\n        ] = np.squeeze(np.asarray(rp0x.T))\\n        df.loc[\\n            (df[\\\"uuid\\\"] == uuid) & (df[\\\"nStimuli\\\"] == i), \\\"rotated_post0_y\\\"\\n        ] = np.squeeze(np.asarray(rp0y.T))\\n\\n        rp1x, rp1y = rotate(\\n            np.array(\\n                (\\n                    df.loc[(df[\\\"uuid\\\"] == uuid) & (df[\\\"nStimuli\\\"] == i), \\\"post1_x\\\"],\\n                    df.loc[(df[\\\"uuid\\\"] == uuid) & (df[\\\"nStimuli\\\"] == i), \\\"post1_y\\\"],\\n                )\\n            ),\\n            ang,\\n        )\\n        df.loc[\\n            (df[\\\"uuid\\\"] == uuid) & (df[\\\"nStimuli\\\"] == i), \\\"rotated_post1_x\\\"\\n        ] = np.squeeze(np.asarray(rp1x.T))\\n        df.loc[\\n            (df[\\\"uuid\\\"] == uuid) & (df[\\\"nStimuli\\\"] == i), \\\"rotated_post1_y\\\"\\n        ] = np.squeeze(np.asarray(rp1y.T))\\n\\n        if nPosts == 3:\\n            rp2x, rp2y = rotate(\\n                np.array(\\n                    (\\n                        df.loc[(df[\\\"uuid\\\"] == uuid) & (df[\\\"nStimuli\\\"] == i), \\\"post2_x\\\"],\\n                        df.loc[(df[\\\"uuid\\\"] == uuid) & (df[\\\"nStimuli\\\"] == i), \\\"post2_y\\\"],\\n                    )\\n                ),\\n                ang,\\n            )\\n            df.loc[\\n                (df[\\\"uuid\\\"] == uuid) & (df[\\\"nStimuli\\\"] == i), \\\"rotated_post2_x\\\"\\n            ] = np.squeeze(np.asarray(rp2x.T))\\n            df.loc[\\n                (df[\\\"uuid\\\"] == uuid) & (df[\\\"nStimuli\\\"] == i), \\\"rotated_post2_y\\\"\\n            ] = np.squeeze(np.asarray(rp2y.T))\";\n",
       "                var nbb_cells = Jupyter.notebook.get_cells();\n",
       "                for (var i = 0; i < nbb_cells.length; ++i) {\n",
       "                    if (nbb_cells[i].input_prompt_number == nbb_cell_id) {\n",
       "                        nbb_cells[i].set_text(nbb_formatted_code);\n",
       "                        break;\n",
       "                    }\n",
       "                }\n",
       "            }, 500);\n",
       "            "
      ],
      "text/plain": [
       "<IPython.core.display.Javascript object>"
      ]
     },
     "metadata": {},
     "output_type": "display_data"
    }
   ],
   "source": [
    "# get rotation angle\n",
    "for uuid in range(0, len(fetched)):\n",
    "    rot_post0_x = rot_post0[uuid][0]\n",
    "    rot_post0_y = rot_post0[uuid][1]\n",
    "    df.loc[df[\"uuid\"] == uuid, \"ang\"] = np.arctan2(\n",
    "        df.loc[df[\"uuid\"] == uuid, \"post0_y\"], df.loc[df[\"uuid\"] == uuid, \"post0_x\"]\n",
    "    )\n",
    "\n",
    "# rotate tracks and posts (posts are now centred along positive x-axis)\n",
    "for uuid in range(0, len(fetched)):\n",
    "    for i in range(0, np.max(nStimuli) + 1):\n",
    "        ang = np.unique(df.loc[(df[\"uuid\"] == uuid) & (df[\"nStimuli\"] == i), \"ang\"])[0]\n",
    "        if i > 0 and i < np.max(nStimuli):\n",
    "            ang += (nPosts - 1) * eval(dataDict0[uuid][nStimuli[i]][0])[\"angle\"] / 2\n",
    "\n",
    "        rx, ry = rotate(\n",
    "            np.array(\n",
    "                (\n",
    "                    df.loc[(df[\"uuid\"] == uuid) & (df[\"nStimuli\"] == i), \"x\"],\n",
    "                    df.loc[(df[\"uuid\"] == uuid) & (df[\"nStimuli\"] == i), \"y\"],\n",
    "                )\n",
    "            ),\n",
    "            ang,\n",
    "        )\n",
    "        df.loc[(df[\"uuid\"] == uuid) & (df[\"nStimuli\"] == i), \"rotated_x\"] = np.squeeze(\n",
    "            np.asarray(rx.T)\n",
    "        )\n",
    "        df.loc[(df[\"uuid\"] == uuid) & (df[\"nStimuli\"] == i), \"rotated_y\"] = np.squeeze(\n",
    "            np.asarray(ry.T)\n",
    "        )\n",
    "\n",
    "        rp0x, rp0y = rotate(\n",
    "            np.array(\n",
    "                (\n",
    "                    df.loc[(df[\"uuid\"] == uuid) & (df[\"nStimuli\"] == i), \"post0_x\"],\n",
    "                    df.loc[(df[\"uuid\"] == uuid) & (df[\"nStimuli\"] == i), \"post0_y\"],\n",
    "                )\n",
    "            ),\n",
    "            ang,\n",
    "        )\n",
    "        df.loc[\n",
    "            (df[\"uuid\"] == uuid) & (df[\"nStimuli\"] == i), \"rotated_post0_x\"\n",
    "        ] = np.squeeze(np.asarray(rp0x.T))\n",
    "        df.loc[\n",
    "            (df[\"uuid\"] == uuid) & (df[\"nStimuli\"] == i), \"rotated_post0_y\"\n",
    "        ] = np.squeeze(np.asarray(rp0y.T))\n",
    "\n",
    "        rp1x, rp1y = rotate(\n",
    "            np.array(\n",
    "                (\n",
    "                    df.loc[(df[\"uuid\"] == uuid) & (df[\"nStimuli\"] == i), \"post1_x\"],\n",
    "                    df.loc[(df[\"uuid\"] == uuid) & (df[\"nStimuli\"] == i), \"post1_y\"],\n",
    "                )\n",
    "            ),\n",
    "            ang,\n",
    "        )\n",
    "        df.loc[\n",
    "            (df[\"uuid\"] == uuid) & (df[\"nStimuli\"] == i), \"rotated_post1_x\"\n",
    "        ] = np.squeeze(np.asarray(rp1x.T))\n",
    "        df.loc[\n",
    "            (df[\"uuid\"] == uuid) & (df[\"nStimuli\"] == i), \"rotated_post1_y\"\n",
    "        ] = np.squeeze(np.asarray(rp1y.T))\n",
    "\n",
    "        if nPosts == 3:\n",
    "            rp2x, rp2y = rotate(\n",
    "                np.array(\n",
    "                    (\n",
    "                        df.loc[(df[\"uuid\"] == uuid) & (df[\"nStimuli\"] == i), \"post2_x\"],\n",
    "                        df.loc[(df[\"uuid\"] == uuid) & (df[\"nStimuli\"] == i), \"post2_y\"],\n",
    "                    )\n",
    "                ),\n",
    "                ang,\n",
    "            )\n",
    "            df.loc[\n",
    "                (df[\"uuid\"] == uuid) & (df[\"nStimuli\"] == i), \"rotated_post2_x\"\n",
    "            ] = np.squeeze(np.asarray(rp2x.T))\n",
    "            df.loc[\n",
    "                (df[\"uuid\"] == uuid) & (df[\"nStimuli\"] == i), \"rotated_post2_y\"\n",
    "            ] = np.squeeze(np.asarray(rp2y.T))"
   ]
  },
  {
   "cell_type": "code",
   "execution_count": 9,
   "metadata": {},
   "outputs": [
    {
     "data": {
      "application/javascript": [
       "\n",
       "            setTimeout(function() {\n",
       "                var nbb_cell_id = 9;\n",
       "                var nbb_formatted_code = \"p0_dist = np.sqrt((df[\\\"x\\\"] - df[\\\"post0_x\\\"]) ** 2 + (df[\\\"y\\\"] - df[\\\"post0_y\\\"]) ** 2)\\np1_dist = np.sqrt((df[\\\"x\\\"] - df[\\\"post1_x\\\"]) ** 2 + (df[\\\"y\\\"] - df[\\\"post1_y\\\"]) ** 2)\\nif nPosts == 2:\\n    df[\\\"dmin\\\"] = np.nanmin([p0_dist, p1_dist], axis=0)\\n    df[\\\"post\\\"] = 0\\n    df.loc[p1_dist < p0_dist, \\\"post\\\"] = 1\\nelse:\\n    p2_dist = np.sqrt((df[\\\"x\\\"] - df[\\\"post2_x\\\"]) ** 2 + (df[\\\"y\\\"] - df[\\\"post2_y\\\"]) ** 2)\\n    df[\\\"dmin\\\"] = np.nanmin([p0_dist, p1_dist, p2_dist], axis=0)\\n    df[\\\"post\\\"] = 0\\n    df.loc[(p1_dist < p0_dist) & (p1_dist < p2_dist), \\\"post\\\"] = 1\\n    df.loc[(p2_dist < p0_dist) & (p2_dist < p1_dist), \\\"post\\\"] = 2\";\n",
       "                var nbb_cells = Jupyter.notebook.get_cells();\n",
       "                for (var i = 0; i < nbb_cells.length; ++i) {\n",
       "                    if (nbb_cells[i].input_prompt_number == nbb_cell_id) {\n",
       "                        nbb_cells[i].set_text(nbb_formatted_code);\n",
       "                        break;\n",
       "                    }\n",
       "                }\n",
       "            }, 500);\n",
       "            "
      ],
      "text/plain": [
       "<IPython.core.display.Javascript object>"
      ]
     },
     "metadata": {},
     "output_type": "display_data"
    }
   ],
   "source": [
    "p0_dist = np.sqrt((df[\"x\"] - df[\"post0_x\"]) ** 2 + (df[\"y\"] - df[\"post0_y\"]) ** 2)\n",
    "p1_dist = np.sqrt((df[\"x\"] - df[\"post1_x\"]) ** 2 + (df[\"y\"] - df[\"post1_y\"]) ** 2)\n",
    "if nPosts == 2:\n",
    "    df[\"dmin\"] = np.nanmin([p0_dist, p1_dist], axis=0)\n",
    "    df[\"post\"] = 0\n",
    "    df.loc[p1_dist < p0_dist, \"post\"] = 1\n",
    "else:\n",
    "    p2_dist = np.sqrt((df[\"x\"] - df[\"post2_x\"]) ** 2 + (df[\"y\"] - df[\"post2_y\"]) ** 2)\n",
    "    df[\"dmin\"] = np.nanmin([p0_dist, p1_dist, p2_dist], axis=0)\n",
    "    df[\"post\"] = 0\n",
    "    df.loc[(p1_dist < p0_dist) & (p1_dist < p2_dist), \"post\"] = 1\n",
    "    df.loc[(p2_dist < p0_dist) & (p2_dist < p1_dist), \"post\"] = 2"
   ]
  },
  {
   "cell_type": "code",
   "execution_count": 10,
   "metadata": {},
   "outputs": [
    {
     "data": {
      "application/javascript": [
       "\n",
       "            setTimeout(function() {\n",
       "                var nbb_cell_id = 10;\n",
       "                var nbb_formatted_code = \"tmax = df.loc[:, [\\\"uuid\\\", \\\"nStimuli\\\", \\\"event\\\", \\\"t\\\"]]\\ntmax = tmax.groupby([\\\"uuid\\\", \\\"nStimuli\\\", \\\"event\\\"]).max().reset_index()\\ndmin = df.loc[:, [\\\"uuid\\\", \\\"nStimuli\\\", \\\"event\\\", \\\"t\\\", \\\"dmin\\\", \\\"post\\\"]]\\n\\ndists = pd.merge(tmax, dmin, how=\\\"left\\\")\\ndists = dists[dists[\\\"dmin\\\"] < 0.8]\\ndists = dists.loc[:, [\\\"uuid\\\", \\\"nStimuli\\\", \\\"event\\\"]]\\n\\ndf = pd.merge(dists, df, how=\\\"left\\\")\";\n",
       "                var nbb_cells = Jupyter.notebook.get_cells();\n",
       "                for (var i = 0; i < nbb_cells.length; ++i) {\n",
       "                    if (nbb_cells[i].input_prompt_number == nbb_cell_id) {\n",
       "                        nbb_cells[i].set_text(nbb_formatted_code);\n",
       "                        break;\n",
       "                    }\n",
       "                }\n",
       "            }, 500);\n",
       "            "
      ],
      "text/plain": [
       "<IPython.core.display.Javascript object>"
      ]
     },
     "metadata": {},
     "output_type": "display_data"
    }
   ],
   "source": [
    "tmax = df.loc[:, [\"uuid\", \"nStimuli\", \"event\", \"t\"]]\n",
    "tmax = tmax.groupby([\"uuid\", \"nStimuli\", \"event\"]).max().reset_index()\n",
    "dmin = df.loc[:, [\"uuid\", \"nStimuli\", \"event\", \"t\", \"dmin\", \"post\"]]\n",
    "\n",
    "dists = pd.merge(tmax, dmin, how=\"left\")\n",
    "dists = dists[dists[\"dmin\"] < 0.8]\n",
    "dists = dists.loc[:, [\"uuid\", \"nStimuli\", \"event\"]]\n",
    "\n",
    "df = pd.merge(dists, df, how=\"left\")"
   ]
  },
  {
   "cell_type": "code",
   "execution_count": 11,
   "metadata": {},
   "outputs": [
    {
     "data": {
      "application/javascript": [
       "\n",
       "            setTimeout(function() {\n",
       "                var nbb_cell_id = 11;\n",
       "                var nbb_formatted_code = \"for i1, u in enumerate(np.unique(df[\\\"uuid\\\"])):\\n    tmp = df[df[\\\"uuid\\\"] == u]\\n    for i2, n in enumerate(np.unique(tmp[\\\"nStimuli\\\"])):\\n        tmp2 = tmp[tmp[\\\"nStimuli\\\"] == n]\\n        for i3, e in enumerate(np.unique(tmp2[\\\"event\\\"])):\\n            df.loc[\\n                (df[\\\"uuid\\\"] == u) & (df[\\\"nStimuli\\\"] == n) & (df[\\\"event\\\"] == e), \\\"uuid\\\"\\n            ] = i1\\n            df.loc[\\n                (df[\\\"uuid\\\"] == u) & (df[\\\"nStimuli\\\"] == n) & (df[\\\"event\\\"] == e),\\n                \\\"nStimuli\\\",\\n            ] = i2\\n            df.loc[\\n                (df[\\\"uuid\\\"] == u) & (df[\\\"nStimuli\\\"] == n) & (df[\\\"event\\\"] == e), \\\"event\\\"\\n            ] = i3\";\n",
       "                var nbb_cells = Jupyter.notebook.get_cells();\n",
       "                for (var i = 0; i < nbb_cells.length; ++i) {\n",
       "                    if (nbb_cells[i].input_prompt_number == nbb_cell_id) {\n",
       "                        nbb_cells[i].set_text(nbb_formatted_code);\n",
       "                        break;\n",
       "                    }\n",
       "                }\n",
       "            }, 500);\n",
       "            "
      ],
      "text/plain": [
       "<IPython.core.display.Javascript object>"
      ]
     },
     "metadata": {},
     "output_type": "display_data"
    }
   ],
   "source": [
    "for i1, u in enumerate(np.unique(df[\"uuid\"])):\n",
    "    tmp = df[df[\"uuid\"] == u]\n",
    "    for i2, n in enumerate(np.unique(tmp[\"nStimuli\"])):\n",
    "        tmp2 = tmp[tmp[\"nStimuli\"] == n]\n",
    "        for i3, e in enumerate(np.unique(tmp2[\"event\"])):\n",
    "            df.loc[\n",
    "                (df[\"uuid\"] == u) & (df[\"nStimuli\"] == n) & (df[\"event\"] == e), \"uuid\"\n",
    "            ] = i1\n",
    "            df.loc[\n",
    "                (df[\"uuid\"] == u) & (df[\"nStimuli\"] == n) & (df[\"event\"] == e),\n",
    "                \"nStimuli\",\n",
    "            ] = i2\n",
    "            df.loc[\n",
    "                (df[\"uuid\"] == u) & (df[\"nStimuli\"] == n) & (df[\"event\"] == e), \"event\"\n",
    "            ] = i3"
   ]
  },
  {
   "cell_type": "code",
   "execution_count": 12,
   "metadata": {},
   "outputs": [
    {
     "name": "stdout",
     "output_type": "stream",
     "text": [
      "(311341, 3)\n"
     ]
    },
    {
     "data": {
      "application/javascript": [
       "\n",
       "            setTimeout(function() {\n",
       "                var nbb_cell_id = 12;\n",
       "                var nbb_formatted_code = \"### establish a connecttion to the project database\\nconn = sqlite3.connect(projectDB)\\n# connect a cursor that goes through the project database\\ncursorProject = conn.cursor()\\n# establish a second connecttion to the experiment database\\nconn2 = sqlite3.connect(expDB)\\n# connect a cursor that goes through the experiment database\\ncursorExperiment = conn2.cursor()\\n\\n\\nx = df[[\\\"rotated_x\\\", \\\"rotated_y\\\"]].values\\nx = np.c_[x, x[:, 0] * 0]\\nx_Post0 = df[[\\\"rotated_post0_x\\\", \\\"rotated_post0_y\\\"]].values\\nx_Post0 = np.c_[x_Post0, x_Post0[:, 0] * 0]\\nx_Post1 = df[[\\\"rotated_post1_x\\\", \\\"rotated_post1_y\\\"]].values\\nx_Post1 = np.c_[x_Post1, x_Post1[:, 0] * 0]\\nif nPosts == 3:\\n    x_Post2 = df[[\\\"rotated_post2_x\\\", \\\"rotated_post2_y\\\"]].values\\n    x_Post2 = np.c_[x_Post2, x_Post2[:, 0] * 0]\\nt = df[\\\"t\\\"].values\\nuuids = df[\\\"uuid\\\"].values\\nnStimuli = df[\\\"nStimuli\\\"].values\\nevents = df[\\\"event\\\"].values\\nprint(x.shape)\";\n",
       "                var nbb_cells = Jupyter.notebook.get_cells();\n",
       "                for (var i = 0; i < nbb_cells.length; ++i) {\n",
       "                    if (nbb_cells[i].input_prompt_number == nbb_cell_id) {\n",
       "                        nbb_cells[i].set_text(nbb_formatted_code);\n",
       "                        break;\n",
       "                    }\n",
       "                }\n",
       "            }, 500);\n",
       "            "
      ],
      "text/plain": [
       "<IPython.core.display.Javascript object>"
      ]
     },
     "metadata": {},
     "output_type": "display_data"
    }
   ],
   "source": [
    "### establish a connecttion to the project database\n",
    "conn = sqlite3.connect(projectDB)\n",
    "# connect a cursor that goes through the project database\n",
    "cursorProject = conn.cursor()\n",
    "# establish a second connecttion to the experiment database\n",
    "conn2 = sqlite3.connect(expDB)\n",
    "# connect a cursor that goes through the experiment database\n",
    "cursorExperiment = conn2.cursor()\n",
    "\n",
    "\n",
    "x = df[[\"rotated_x\", \"rotated_y\"]].values\n",
    "x = np.c_[x, x[:, 0] * 0]\n",
    "x_Post0 = df[[\"rotated_post0_x\", \"rotated_post0_y\"]].values\n",
    "x_Post0 = np.c_[x_Post0, x_Post0[:, 0] * 0]\n",
    "x_Post1 = df[[\"rotated_post1_x\", \"rotated_post1_y\"]].values\n",
    "x_Post1 = np.c_[x_Post1, x_Post1[:, 0] * 0]\n",
    "if nPosts == 3:\n",
    "    x_Post2 = df[[\"rotated_post2_x\", \"rotated_post2_y\"]].values\n",
    "    x_Post2 = np.c_[x_Post2, x_Post2[:, 0] * 0]\n",
    "t = df[\"t\"].values\n",
    "uuids = df[\"uuid\"].values\n",
    "nStimuli = df[\"nStimuli\"].values\n",
    "events = df[\"event\"].values\n",
    "print(x.shape)"
   ]
  },
  {
   "cell_type": "code",
   "execution_count": 13,
   "metadata": {},
   "outputs": [
    {
     "name": "stderr",
     "output_type": "stream",
     "text": [
      "/mnt/ssd1/Documents/Vivek/MalkoFish/MalkoAnalyzer/BaseToolbox.py:314: RuntimeWarning: invalid value encountered in true_divide\n",
      "  v2 = v2 / (np.linalg.norm(v2, axis=1))[:, None]\n",
      "/mnt/ssd1/Documents/Vivek/MalkoFish/MalkoAnalyzer/BaseToolbox.py:313: RuntimeWarning: invalid value encountered in true_divide\n",
      "  v1 = v1 / (np.linalg.norm(v1, axis=1))[:, None]\n"
     ]
    },
    {
     "data": {
      "application/javascript": [
       "\n",
       "            setTimeout(function() {\n",
       "                var nbb_cell_id = 13;\n",
       "                var nbb_formatted_code = \"massive_experiment = swarm.Swarm()\\nfor i in range(0, len(angles) + 2):\\n    massive_experiment.addFish(swarm.Swarm())\\n\\nfor uuid in range(0, len(fetched)):\\n    cursorExperiment.execute(\\n        \\\"Select exp from experiments where expID = ?\\\", (fetched[uuid][0],)\\n    )\\n    exp = cursorExperiment.fetchall()\\n    nSt = len(np.unique(df.loc[df[\\\"uuid\\\"] == uuid, \\\"nStimuli\\\"]))\\n    for n in range(0, nSt):\\n        stimuli = swarm.Swarm()\\n        nEvents = len(\\n            np.unique(df.loc[(df[\\\"uuid\\\"] == uuid) & (df[\\\"nStimuli\\\"] == n), \\\"event\\\"])\\n        )\\n        if nEvents == 0:\\n            print(uuid, n)\\n        for e in range(0, nEvents):\\n            event = swarm.Swarm()\\n            idx = np.where((uuids == uuid) & (nStimuli == n) & (events == e))[0]\\n            if len(idx) > 30:\\n                event.addFish(\\n                    swarm.Fish(x, t, idx=idx, burst=False, fishId=0, virtual=False)\\n                )\\n                event.addFish(\\n                    swarm.Fish(x_Post0, t, idx=idx, burst=False, fishId=1, virtual=True)\\n                )\\n                if n != 0 and n != np.max(nStimuli):\\n                    event.addFish(\\n                        swarm.Fish(\\n                            x_Post1, t, idx=idx, burst=False, fishId=2, virtual=True\\n                        )\\n                    )\\n                    if nPosts > 2:\\n                        event.addFish(\\n                            swarm.Fish(\\n                                x_Post2, t, idx=idx, burst=False, fishId=3, virtual=True\\n                            )\\n                        )\\n                event.fishReferential()\\n                stimuli.addFish(event)\\n        if n == 0:\\n            massive_experiment.swarm[n].addFish(stimuli)\\n        elif n == np.max(nStimuli):\\n            massive_experiment.swarm[len(angles) + 1].addFish(stimuli)\\n        else:\\n            cursorExperiment.execute(\\n                \\\"Select replicate from experiments where expID = ?\\\", (fetched[uuid][0],)\\n            )\\n            rep = cursorExperiment.fetchall()\\n            cursorProject.execute(\\n                \\\"Select post1 from projects where project = ? and exp = ? and replicate = ? and nStimuli = ?\\\",\\n                (\\\"DecisionGeometry\\\", exp[0][0], rep[0][0], n),\\n            )\\n            post = cursorProject.fetchall()\\n            s_number = np.where(angles == eval(post[0][0])[\\\"angle\\\"])[0][0]\\n            massive_experiment.swarm[s_number + 1].addFish(stimuli)\\n\\nfor i in range(0, len(angles) + 2):\\n    massive_experiment.swarm[i].fillMetaFish()\\n\\nall_experiments = swarm.Swarm()\\nall_experiments.addFish(massive_experiment)\";\n",
       "                var nbb_cells = Jupyter.notebook.get_cells();\n",
       "                for (var i = 0; i < nbb_cells.length; ++i) {\n",
       "                    if (nbb_cells[i].input_prompt_number == nbb_cell_id) {\n",
       "                        nbb_cells[i].set_text(nbb_formatted_code);\n",
       "                        break;\n",
       "                    }\n",
       "                }\n",
       "            }, 500);\n",
       "            "
      ],
      "text/plain": [
       "<IPython.core.display.Javascript object>"
      ]
     },
     "metadata": {},
     "output_type": "display_data"
    }
   ],
   "source": [
    "massive_experiment = swarm.Swarm()\n",
    "for i in range(0, len(angles) + 2):\n",
    "    massive_experiment.addFish(swarm.Swarm())\n",
    "\n",
    "for uuid in range(0, len(fetched)):\n",
    "    cursorExperiment.execute(\n",
    "        \"Select exp from experiments where expID = ?\", (fetched[uuid][0],)\n",
    "    )\n",
    "    exp = cursorExperiment.fetchall()\n",
    "    nSt = len(np.unique(df.loc[df[\"uuid\"] == uuid, \"nStimuli\"]))\n",
    "    for n in range(0, nSt):\n",
    "        stimuli = swarm.Swarm()\n",
    "        nEvents = len(\n",
    "            np.unique(df.loc[(df[\"uuid\"] == uuid) & (df[\"nStimuli\"] == n), \"event\"])\n",
    "        )\n",
    "        if nEvents == 0:\n",
    "            print(uuid, n)\n",
    "        for e in range(0, nEvents):\n",
    "            event = swarm.Swarm()\n",
    "            idx = np.where((uuids == uuid) & (nStimuli == n) & (events == e))[0]\n",
    "            if len(idx) > 30:\n",
    "                event.addFish(\n",
    "                    swarm.Fish(x, t, idx=idx, burst=False, fishId=0, virtual=False)\n",
    "                )\n",
    "                event.addFish(\n",
    "                    swarm.Fish(x_Post0, t, idx=idx, burst=False, fishId=1, virtual=True)\n",
    "                )\n",
    "                if n != 0 and n != np.max(nStimuli):\n",
    "                    event.addFish(\n",
    "                        swarm.Fish(\n",
    "                            x_Post1, t, idx=idx, burst=False, fishId=2, virtual=True\n",
    "                        )\n",
    "                    )\n",
    "                    if nPosts > 2:\n",
    "                        event.addFish(\n",
    "                            swarm.Fish(\n",
    "                                x_Post2, t, idx=idx, burst=False, fishId=3, virtual=True\n",
    "                            )\n",
    "                        )\n",
    "                event.fishReferential()\n",
    "                stimuli.addFish(event)\n",
    "        if n == 0:\n",
    "            massive_experiment.swarm[n].addFish(stimuli)\n",
    "        elif n == np.max(nStimuli):\n",
    "            massive_experiment.swarm[len(angles) + 1].addFish(stimuli)\n",
    "        else:\n",
    "            cursorExperiment.execute(\n",
    "                \"Select replicate from experiments where expID = ?\", (fetched[uuid][0],)\n",
    "            )\n",
    "            rep = cursorExperiment.fetchall()\n",
    "            cursorProject.execute(\n",
    "                \"Select post1 from projects where project = ? and exp = ? and replicate = ? and nStimuli = ?\",\n",
    "                (\"DecisionGeometry\", exp[0][0], rep[0][0], n),\n",
    "            )\n",
    "            post = cursorProject.fetchall()\n",
    "            s_number = np.where(angles == eval(post[0][0])[\"angle\"])[0][0]\n",
    "            massive_experiment.swarm[s_number + 1].addFish(stimuli)\n",
    "\n",
    "for i in range(0, len(angles) + 2):\n",
    "    massive_experiment.swarm[i].fillMetaFish()\n",
    "\n",
    "all_experiments = swarm.Swarm()\n",
    "all_experiments.addFish(massive_experiment)"
   ]
  },
  {
   "cell_type": "code",
   "execution_count": 14,
   "metadata": {},
   "outputs": [
    {
     "name": "stdout",
     "output_type": "stream",
     "text": [
      " -- Architecture --\n"
     ]
    },
    {
     "data": {
      "application/javascript": [
       "\n",
       "            setTimeout(function() {\n",
       "                var nbb_cell_id = 14;\n",
       "                var nbb_formatted_code = \"if nPosts == 2:\\n    df = pd.DataFrame(\\n        np.concatenate(\\n            (\\n                all_experiments.get((0, 1)).metaFish[\\\"x\\\"][:, 0][:, np.newaxis],\\n                all_experiments.get((0, 1)).metaFish[\\\"x\\\"][:, 1][:, np.newaxis],\\n                all_experiments.get((0, 1)).metaFish[\\\"t\\\"][:, np.newaxis],\\n            ),\\n            axis=1,\\n        ),\\n        columns=[\\\"x\\\", \\\"y\\\", \\\"t\\\"],\\n    )\\nelse:\\n    df = pd.DataFrame(\\n        np.concatenate(\\n            (\\n                all_experiments.get((0, 2)).metaFish[\\\"x\\\"][:, 0][:, np.newaxis],\\n                all_experiments.get((0, 2)).metaFish[\\\"x\\\"][:, 1][:, np.newaxis],\\n                all_experiments.get((0, 2)).metaFish[\\\"t\\\"][:, np.newaxis],\\n            ),\\n            axis=1,\\n        ),\\n        columns=[\\\"x\\\", \\\"y\\\", \\\"t\\\"],\\n    )\\n\\ndf[\\\"event\\\"] = 0\";\n",
       "                var nbb_cells = Jupyter.notebook.get_cells();\n",
       "                for (var i = 0; i < nbb_cells.length; ++i) {\n",
       "                    if (nbb_cells[i].input_prompt_number == nbb_cell_id) {\n",
       "                        nbb_cells[i].set_text(nbb_formatted_code);\n",
       "                        break;\n",
       "                    }\n",
       "                }\n",
       "            }, 500);\n",
       "            "
      ],
      "text/plain": [
       "<IPython.core.display.Javascript object>"
      ]
     },
     "metadata": {},
     "output_type": "display_data"
    }
   ],
   "source": [
    "if nPosts == 2:\n",
    "    df = pd.DataFrame(\n",
    "        np.concatenate(\n",
    "            (\n",
    "                all_experiments.get((0, 1)).metaFish[\"x\"][:, 0][:, np.newaxis],\n",
    "                all_experiments.get((0, 1)).metaFish[\"x\"][:, 1][:, np.newaxis],\n",
    "                all_experiments.get((0, 1)).metaFish[\"t\"][:, np.newaxis],\n",
    "            ),\n",
    "            axis=1,\n",
    "        ),\n",
    "        columns=[\"x\", \"y\", \"t\"],\n",
    "    )\n",
    "else:\n",
    "    df = pd.DataFrame(\n",
    "        np.concatenate(\n",
    "            (\n",
    "                all_experiments.get((0, 2)).metaFish[\"x\"][:, 0][:, np.newaxis],\n",
    "                all_experiments.get((0, 2)).metaFish[\"x\"][:, 1][:, np.newaxis],\n",
    "                all_experiments.get((0, 2)).metaFish[\"t\"][:, np.newaxis],\n",
    "            ),\n",
    "            axis=1,\n",
    "        ),\n",
    "        columns=[\"x\", \"y\", \"t\"],\n",
    "    )\n",
    "\n",
    "df[\"event\"] = 0"
   ]
  },
  {
   "cell_type": "code",
   "execution_count": 15,
   "metadata": {
    "scrolled": true
   },
   "outputs": [
    {
     "data": {
      "application/javascript": [
       "\n",
       "            setTimeout(function() {\n",
       "                var nbb_cell_id = 15;\n",
       "                var nbb_formatted_code = \"t = df.loc[0, \\\"t\\\"]\\ndf.loc[0, \\\"t\\\"] = df.loc[0, \\\"t\\\"] - t\\n\\nfor i in range(1, df.shape[0]):\\n    if (\\n        np.sqrt(\\n            (df.loc[i, \\\"x\\\"] - df.loc[i - 1, \\\"x\\\"]) ** 2\\n            + (df.loc[i, \\\"y\\\"] - df.loc[i - 1, \\\"y\\\"]) ** 2\\n        )\\n        < 0.5\\n    ):\\n        df.loc[i, \\\"event\\\"] = df.loc[i - 1, \\\"event\\\"]\\n        df.loc[i, \\\"t\\\"] = df.loc[i, \\\"t\\\"] - t\\n    else:\\n        df.loc[i, \\\"event\\\"] = df.loc[i - 1, \\\"event\\\"] + 1\\n        t = df.loc[i, \\\"t\\\"]\\n        df.loc[i, \\\"t\\\"] = df.loc[i, \\\"t\\\"] - t\";\n",
       "                var nbb_cells = Jupyter.notebook.get_cells();\n",
       "                for (var i = 0; i < nbb_cells.length; ++i) {\n",
       "                    if (nbb_cells[i].input_prompt_number == nbb_cell_id) {\n",
       "                        nbb_cells[i].set_text(nbb_formatted_code);\n",
       "                        break;\n",
       "                    }\n",
       "                }\n",
       "            }, 500);\n",
       "            "
      ],
      "text/plain": [
       "<IPython.core.display.Javascript object>"
      ]
     },
     "metadata": {},
     "output_type": "display_data"
    }
   ],
   "source": [
    "t = df.loc[0, \"t\"]\n",
    "df.loc[0, \"t\"] = df.loc[0, \"t\"] - t\n",
    "\n",
    "for i in range(1, df.shape[0]):\n",
    "    if (\n",
    "        np.sqrt(\n",
    "            (df.loc[i, \"x\"] - df.loc[i - 1, \"x\"]) ** 2\n",
    "            + (df.loc[i, \"y\"] - df.loc[i - 1, \"y\"]) ** 2\n",
    "        )\n",
    "        < 0.5\n",
    "    ):\n",
    "        df.loc[i, \"event\"] = df.loc[i - 1, \"event\"]\n",
    "        df.loc[i, \"t\"] = df.loc[i, \"t\"] - t\n",
    "    else:\n",
    "        df.loc[i, \"event\"] = df.loc[i - 1, \"event\"] + 1\n",
    "        t = df.loc[i, \"t\"]\n",
    "        df.loc[i, \"t\"] = df.loc[i, \"t\"] - t"
   ]
  },
  {
   "cell_type": "code",
   "execution_count": 16,
   "metadata": {},
   "outputs": [
    {
     "data": {
      "application/javascript": [
       "\n",
       "            setTimeout(function() {\n",
       "                var nbb_cell_id = 16;\n",
       "                var nbb_formatted_code = \"if nPosts == 2:\\n    long_events = list(np.unique(df.loc[df[\\\"t\\\"] > 26.5, \\\"event\\\"]))\\nelse:\\n    long_events = list(np.unique(df.loc[df[\\\"t\\\"] > 24.5, \\\"event\\\"]))\\n\\ndf_short = df[~df[\\\"event\\\"].isin(long_events)]\\ndf_long = df[df[\\\"event\\\"].isin(long_events)]\";\n",
       "                var nbb_cells = Jupyter.notebook.get_cells();\n",
       "                for (var i = 0; i < nbb_cells.length; ++i) {\n",
       "                    if (nbb_cells[i].input_prompt_number == nbb_cell_id) {\n",
       "                        nbb_cells[i].set_text(nbb_formatted_code);\n",
       "                        break;\n",
       "                    }\n",
       "                }\n",
       "            }, 500);\n",
       "            "
      ],
      "text/plain": [
       "<IPython.core.display.Javascript object>"
      ]
     },
     "metadata": {},
     "output_type": "display_data"
    }
   ],
   "source": [
    "if nPosts == 2:\n",
    "    long_events = list(np.unique(df.loc[df[\"t\"] > 26.5, \"event\"]))\n",
    "else:\n",
    "    long_events = list(np.unique(df.loc[df[\"t\"] > 24.5, \"event\"]))\n",
    "\n",
    "df_short = df[~df[\"event\"].isin(long_events)]\n",
    "df_long = df[df[\"event\"].isin(long_events)]"
   ]
  },
  {
   "cell_type": "code",
   "execution_count": 17,
   "metadata": {},
   "outputs": [
    {
     "data": {
      "application/javascript": [
       "\n",
       "            setTimeout(function() {\n",
       "                var nbb_cell_id = 17;\n",
       "                var nbb_formatted_code = \"if long_ev == False:\\n    xs = np.array(df_short[\\\"x\\\"])\\n    ys = np.array(df_short[\\\"y\\\"])\\n    ts = np.uint8(np.array(df_short[\\\"t\\\"]))\\nelse:\\n    xs = np.array(df_long[\\\"x\\\"])\\n    ys = np.array(df_long[\\\"y\\\"])\\n    ts = np.uint8(np.array(df_long[\\\"t\\\"]))\\n\\nif nPosts == 2:\\n    post0_x = 5.0 * np.cos(np.pi / 6)\\n    post0_y = -5.0 * np.sin(np.pi / 6)\\n\\n    post1_x = 5.0 * np.cos(np.pi / 6)\\n    post1_y = 5.0 * np.sin(np.pi / 6)\\nelse:\\n    xs = np.concatenate((xs, xs))\\n    ys = np.concatenate((ys, -ys))\\n    ts = np.concatenate((ts, ts))\\n\\n    post0_x = 5.0 * np.cos(2 * np.pi / 9)\\n    post0_y = -5.0 * np.sin(2 * np.pi / 9)\\n\\n    post1_x = 5.0\\n    post1_y = 0.0\\n\\n    post2_x = 5.0 * np.cos(2 * np.pi / 9)\\n    post2_y = 5.0 * np.sin(2 * np.pi / 9)\";\n",
       "                var nbb_cells = Jupyter.notebook.get_cells();\n",
       "                for (var i = 0; i < nbb_cells.length; ++i) {\n",
       "                    if (nbb_cells[i].input_prompt_number == nbb_cell_id) {\n",
       "                        nbb_cells[i].set_text(nbb_formatted_code);\n",
       "                        break;\n",
       "                    }\n",
       "                }\n",
       "            }, 500);\n",
       "            "
      ],
      "text/plain": [
       "<IPython.core.display.Javascript object>"
      ]
     },
     "metadata": {},
     "output_type": "display_data"
    }
   ],
   "source": [
    "if long_ev == False:\n",
    "    xs = np.array(df_short[\"x\"])\n",
    "    ys = np.array(df_short[\"y\"])\n",
    "    ts = np.uint8(np.array(df_short[\"t\"]))\n",
    "else:\n",
    "    xs = np.array(df_long[\"x\"])\n",
    "    ys = np.array(df_long[\"y\"])\n",
    "    ts = np.uint8(np.array(df_long[\"t\"]))\n",
    "\n",
    "if nPosts == 2:\n",
    "    post0_x = 5.0 * np.cos(np.pi / 6)\n",
    "    post0_y = -5.0 * np.sin(np.pi / 6)\n",
    "\n",
    "    post1_x = 5.0 * np.cos(np.pi / 6)\n",
    "    post1_y = 5.0 * np.sin(np.pi / 6)\n",
    "else:\n",
    "    xs = np.concatenate((xs, xs))\n",
    "    ys = np.concatenate((ys, -ys))\n",
    "    ts = np.concatenate((ts, ts))\n",
    "\n",
    "    post0_x = 5.0 * np.cos(2 * np.pi / 9)\n",
    "    post0_y = -5.0 * np.sin(2 * np.pi / 9)\n",
    "\n",
    "    post1_x = 5.0\n",
    "    post1_y = 0.0\n",
    "\n",
    "    post2_x = 5.0 * np.cos(2 * np.pi / 9)\n",
    "    post2_y = 5.0 * np.sin(2 * np.pi / 9)"
   ]
  },
  {
   "cell_type": "code",
   "execution_count": 18,
   "metadata": {},
   "outputs": [
    {
     "name": "stderr",
     "output_type": "stream",
     "text": [
      "findfont: Font family ['Glacial Indifference'] not found. Falling back to DejaVu Sans.\n"
     ]
    },
    {
     "data": {
      "image/png": "[encoded data removed]",
      "text/plain": [
       "<Figure size 124.708x144 with 1 Axes>"
      ]
     },
     "metadata": {},
     "output_type": "display_data"
    },
    {
     "data": {
      "application/javascript": [
       "\n",
       "            setTimeout(function() {\n",
       "                var nbb_cell_id = 18;\n",
       "                var nbb_formatted_code = \"if nPosts == 2:\\n    fig, ax = plt.subplots(1, 1, figsize=(post0_x / 2.5, post1_y / 1.25))\\nelse:\\n    fig, ax = plt.subplots(1, 1, figsize=(2.5, post2_x / 1))\\n\\nax.scatter(xs, ys, alpha=0.02, c=\\\"black\\\", s=1)\\nax.set_aspect(\\\"equal\\\")\\nif nPosts == 2:\\n    ax.set_xticks([0, 1, 2, 3, 4])\\n    ax.set_yticks([-2, -1, 0, 1, 2])\\nelse:\\n    ax.set_xticks([0, 1, 2, 3, 4, 5])\\n    ax.set_yticks([-3, -2, -1, 0, 1, 2, 3])\\n    ax.set_xlim(0, 5)\\n    ax.set_ylim(post0_y, post2_y)\\n\\nif long_ev == True:\\n    plt.savefig(\\n        \\\"/mnt/ssd1/Documents/Vivek/flyVR/fly-matrix/figures/\\\"\\n        + str(nPosts)\\n        + \\\"_direct_trajectories.pdf\\\",\\n        dpi=600,\\n        bbox_inches=\\\"tight\\\",\\n    )\\nelse:\\n    plt.savefig(\\n        \\\"/mnt/ssd1/Documents/Vivek/flyVR/fly-matrix/figures/\\\"\\n        + str(nPosts)\\n        + \\\"_bifurcation_trajectories.pdf\\\",\\n        dpi=600,\\n        bbox_inches=\\\"tight\\\",\\n    )\";\n",
       "                var nbb_cells = Jupyter.notebook.get_cells();\n",
       "                for (var i = 0; i < nbb_cells.length; ++i) {\n",
       "                    if (nbb_cells[i].input_prompt_number == nbb_cell_id) {\n",
       "                        nbb_cells[i].set_text(nbb_formatted_code);\n",
       "                        break;\n",
       "                    }\n",
       "                }\n",
       "            }, 500);\n",
       "            "
      ],
      "text/plain": [
       "<IPython.core.display.Javascript object>"
      ]
     },
     "metadata": {},
     "output_type": "display_data"
    }
   ],
   "source": [
    "if nPosts == 2:\n",
    "    fig, ax = plt.subplots(1, 1, figsize=(post0_x / 2.5, post1_y / 1.25))\n",
    "else:\n",
    "    fig, ax = plt.subplots(1, 1, figsize=(2.5, post2_x / 1))\n",
    "\n",
    "ax.scatter(xs, ys, alpha=0.02, c=\"black\", s=1)\n",
    "ax.set_aspect(\"equal\")\n",
    "if nPosts == 2:\n",
    "    ax.set_xticks([0, 1, 2, 3, 4])\n",
    "    ax.set_yticks([-2, -1, 0, 1, 2])\n",
    "else:\n",
    "    ax.set_xticks([0, 1, 2, 3, 4, 5])\n",
    "    ax.set_yticks([-3, -2, -1, 0, 1, 2, 3])\n",
    "    ax.set_xlim(0, 5)\n",
    "    ax.set_ylim(post0_y, post2_y)\n",
    "\n",
    "if long_ev == True:\n",
    "    plt.savefig(\n",
    "        \"/mnt/ssd1/Documents/Vivek/flyVR/fly-matrix/figures/\"\n",
    "        + str(nPosts)\n",
    "        + \"_direct_trajectories.pdf\",\n",
    "        dpi=600,\n",
    "        bbox_inches=\"tight\",\n",
    "    )\n",
    "else:\n",
    "    plt.savefig(\n",
    "        \"/mnt/ssd1/Documents/Vivek/flyVR/fly-matrix/figures/\"\n",
    "        + str(nPosts)\n",
    "        + \"_bifurcation_trajectories.pdf\",\n",
    "        dpi=600,\n",
    "        bbox_inches=\"tight\",\n",
    "    )"
   ]
  },
  {
   "cell_type": "code",
   "execution_count": 19,
   "metadata": {},
   "outputs": [
    {
     "data": {
      "application/javascript": [
       "\n",
       "            setTimeout(function() {\n",
       "                var nbb_cell_id = 19;\n",
       "                var nbb_formatted_code = \"nbins = 500\\npeak_threshold = 0.9\\n\\n\\ndef density_map(x, y, stats=True):\\n    if nPosts == 2:\\n        val = 201\\n\\n        blur = (11, 11) if stats == True else (val, val)\\n        r = [[0, post0_x], [post0_y, post1_y]]\\n    else:\\n        val = 101\\n\\n        blur = (11, 11) if stats == True else (val, val)\\n        r = [[0, post1_x], [post0_y, post2_y]]\\n    h, xedge, yedge, image = plt.hist2d(x, y, bins=nbins, normed=True, range=r)\\n\\n    if nPosts == 2:\\n        tmp_img = np.rot90(cv2.GaussianBlur(h, blur, 0))\\n    else:\\n        tmp_img = np.rot90(cv2.GaussianBlur(h, blur, 0))\\n\\n    tmp_img /= np.max(tmp_img)\\n\\n    return tmp_img\";\n",
       "                var nbb_cells = Jupyter.notebook.get_cells();\n",
       "                for (var i = 0; i < nbb_cells.length; ++i) {\n",
       "                    if (nbb_cells[i].input_prompt_number == nbb_cell_id) {\n",
       "                        nbb_cells[i].set_text(nbb_formatted_code);\n",
       "                        break;\n",
       "                    }\n",
       "                }\n",
       "            }, 500);\n",
       "            "
      ],
      "text/plain": [
       "<IPython.core.display.Javascript object>"
      ]
     },
     "metadata": {},
     "output_type": "display_data"
    }
   ],
   "source": [
    "nbins = 500\n",
    "peak_threshold = 0.9\n",
    "\n",
    "\n",
    "def density_map(x, y, stats=True):\n",
    "    if nPosts == 2:\n",
    "        val = 201\n",
    "\n",
    "        blur = (11, 11) if stats == True else (val, val)\n",
    "        r = [[0, post0_x], [post0_y, post1_y]]\n",
    "    else:\n",
    "        val = 101\n",
    "\n",
    "        blur = (11, 11) if stats == True else (val, val)\n",
    "        r = [[0, post1_x], [post0_y, post2_y]]\n",
    "    h, xedge, yedge, image = plt.hist2d(x, y, bins=nbins, normed=True, range=r)\n",
    "\n",
    "    if nPosts == 2:\n",
    "        tmp_img = np.rot90(cv2.GaussianBlur(h, blur, 0))\n",
    "    else:\n",
    "        tmp_img = np.rot90(cv2.GaussianBlur(h, blur, 0))\n",
    "\n",
    "    tmp_img /= np.max(tmp_img)\n",
    "\n",
    "    return tmp_img"
   ]
  },
  {
   "cell_type": "code",
   "execution_count": 20,
   "metadata": {},
   "outputs": [
    {
     "name": "stderr",
     "output_type": "stream",
     "text": [
      "/home/user/.local/lib/python3.6/site-packages/ipykernel_launcher.py:16: MatplotlibDeprecationWarning: The 'normed' parameter of hist2d() has been renamed 'density' since Matplotlib 3.1; support for the old name will be dropped in 3.3.\n",
      "  app.launch_new_instance()\n",
      "/home/user/.local/lib/python3.6/site-packages/numpy/lib/histograms.py:1097: RuntimeWarning: invalid value encountered in true_divide\n",
      "  hist /= s\n",
      "/home/user/.local/lib/python3.6/site-packages/matplotlib/colors.py:885: UserWarning: Warning: converting a masked element to nan.\n",
      "  dtype = np.min_scalar_type(value)\n",
      "/home/user/.local/lib/python3.6/site-packages/numpy/ma/core.py:713: UserWarning: Warning: converting a masked element to nan.\n",
      "  data = np.array(a, copy=False, subok=subok)\n"
     ]
    },
    {
     "data": {
      "image/png": "[encoded data removed]",
      "text/plain": [
       "<Figure size 432x288 with 1 Axes>"
      ]
     },
     "metadata": {},
     "output_type": "display_data"
    },
    {
     "data": {
      "application/javascript": [
       "\n",
       "            setTimeout(function() {\n",
       "                var nbb_cell_id = 20;\n",
       "                var nbb_formatted_code = \"tmin = 0\\nif nPosts == 2:\\n    tmax = 50\\nelse:\\n    tmax = 60 if long_ev == True else 40\\nfor idx, t in enumerate(range(tmin, tmax - window_size)):\\n    window_min = t\\n    window_max = t + window_size\\n\\n    x = xs[(ts > window_min) & (ts < window_max)]\\n    y = ys[(ts > window_min) & (ts < window_max)]\\n    tmp_img = density_map(x, y, stats=False)\\n\\n    if idx == 0:\\n        img = tmp_img\\n    else:\\n        img = np.fmax(tmp_img, img)\\n\\nif nPosts == 2:\\n    x_peaks = np.where(img > peak_threshold)[1] * post0_x / nbins\\n    y_peaks = np.where(img > peak_threshold)[0] * (post0_y - post1_y) / nbins + post1_y\\nelse:\\n    x_peaks = np.where(img > peak_threshold)[1] * post1_x / nbins\\n    y_peaks = np.where(img > peak_threshold)[0] * (post0_y - post2_y) / nbins + post2_y\";\n",
       "                var nbb_cells = Jupyter.notebook.get_cells();\n",
       "                for (var i = 0; i < nbb_cells.length; ++i) {\n",
       "                    if (nbb_cells[i].input_prompt_number == nbb_cell_id) {\n",
       "                        nbb_cells[i].set_text(nbb_formatted_code);\n",
       "                        break;\n",
       "                    }\n",
       "                }\n",
       "            }, 500);\n",
       "            "
      ],
      "text/plain": [
       "<IPython.core.display.Javascript object>"
      ]
     },
     "metadata": {},
     "output_type": "display_data"
    }
   ],
   "source": [
    "tmin = 0\n",
    "if nPosts == 2:\n",
    "    tmax = 50\n",
    "else:\n",
    "    tmax = 60 if long_ev == True else 40\n",
    "for idx, t in enumerate(range(tmin, tmax - window_size)):\n",
    "    window_min = t\n",
    "    window_max = t + window_size\n",
    "\n",
    "    x = xs[(ts > window_min) & (ts < window_max)]\n",
    "    y = ys[(ts > window_min) & (ts < window_max)]\n",
    "    tmp_img = density_map(x, y, stats=False)\n",
    "\n",
    "    if idx == 0:\n",
    "        img = tmp_img\n",
    "    else:\n",
    "        img = np.fmax(tmp_img, img)\n",
    "\n",
    "if nPosts == 2:\n",
    "    x_peaks = np.where(img > peak_threshold)[1] * post0_x / nbins\n",
    "    y_peaks = np.where(img > peak_threshold)[0] * (post0_y - post1_y) / nbins + post1_y\n",
    "else:\n",
    "    x_peaks = np.where(img > peak_threshold)[1] * post1_x / nbins\n",
    "    y_peaks = np.where(img > peak_threshold)[0] * (post0_y - post2_y) / nbins + post2_y"
   ]
  },
  {
   "cell_type": "code",
   "execution_count": 21,
   "metadata": {},
   "outputs": [
    {
     "data": {
      "image/png": "[encoded data removed]",
      "text/plain": [
       "<Figure size 124.708x144 with 1 Axes>"
      ]
     },
     "metadata": {},
     "output_type": "display_data"
    },
    {
     "data": {
      "application/javascript": [
       "\n",
       "            setTimeout(function() {\n",
       "                var nbb_cell_id = 21;\n",
       "                var nbb_formatted_code = \"if nPosts == 2:\\n    fig, ax = plt.subplots(1, 1, figsize=(post0_x / 2.5, post1_y / 1.25))\\n    if long_ev == False:\\n        plt.imshow(\\n            img,\\n            extent=[0, post0_x, post0_y, post1_y],\\n            vmax=len(np.unique(df_long[\\\"event\\\"])) / len(np.unique(df_short[\\\"event\\\"])),\\n        )\\n    else:\\n        plt.imshow(img, extent=[0, post0_x, post0_y, post1_y])\\n    plt.xticks([0, 1, 2, 3, 4])\\nelse:\\n    fig, ax = plt.subplots(1, 1, figsize=(2.5, post2_x / 1))\\n    if long_ev == False:\\n        plt.imshow(\\n            img,\\n            extent=[0, post1_x, post0_y, post2_y],\\n            vmax=len(np.unique(df_long[\\\"event\\\"])) / len(np.unique(df_short[\\\"event\\\"])),\\n        )\\n    else:\\n        plt.imshow(img, extent=[0, post1_x, post0_y, post2_y])\\n    plt.xticks([0, 1, 2, 3, 4, 5])\\n\\nif long_ev == False:\\n    plt.savefig(\\n        \\\"/mnt/ssd1/Documents/Vivek/flyVR/fly-matrix/figures/\\\"\\n        + str(nPosts)\\n        + \\\"_post_direct_tracks.pdf\\\",\\n        dpi=600,\\n        bbox_inches=\\\"tight\\\",\\n    )\\nelse:\\n    plt.savefig(\\n        \\\"/mnt/ssd1/Documents/Vivek/flyVR/fly-matrix/figures/\\\"\\n        + str(nPosts)\\n        + \\\"_post_bifurcation_tracks.pdf\\\",\\n        dpi=600,\\n        bbox_inches=\\\"tight\\\",\\n    )\";\n",
       "                var nbb_cells = Jupyter.notebook.get_cells();\n",
       "                for (var i = 0; i < nbb_cells.length; ++i) {\n",
       "                    if (nbb_cells[i].input_prompt_number == nbb_cell_id) {\n",
       "                        nbb_cells[i].set_text(nbb_formatted_code);\n",
       "                        break;\n",
       "                    }\n",
       "                }\n",
       "            }, 500);\n",
       "            "
      ],
      "text/plain": [
       "<IPython.core.display.Javascript object>"
      ]
     },
     "metadata": {},
     "output_type": "display_data"
    }
   ],
   "source": [
    "if nPosts == 2:\n",
    "    fig, ax = plt.subplots(1, 1, figsize=(post0_x / 2.5, post1_y / 1.25))\n",
    "    if long_ev == False:\n",
    "        plt.imshow(\n",
    "            img,\n",
    "            extent=[0, post0_x, post0_y, post1_y],\n",
    "            vmax=len(np.unique(df_long[\"event\"])) / len(np.unique(df_short[\"event\"])),\n",
    "        )\n",
    "    else:\n",
    "        plt.imshow(img, extent=[0, post0_x, post0_y, post1_y])\n",
    "    plt.xticks([0, 1, 2, 3, 4])\n",
    "else:\n",
    "    fig, ax = plt.subplots(1, 1, figsize=(2.5, post2_x / 1))\n",
    "    if long_ev == False:\n",
    "        plt.imshow(\n",
    "            img,\n",
    "            extent=[0, post1_x, post0_y, post2_y],\n",
    "            vmax=len(np.unique(df_long[\"event\"])) / len(np.unique(df_short[\"event\"])),\n",
    "        )\n",
    "    else:\n",
    "        plt.imshow(img, extent=[0, post1_x, post0_y, post2_y])\n",
    "    plt.xticks([0, 1, 2, 3, 4, 5])\n",
    "\n",
    "if long_ev == False:\n",
    "    plt.savefig(\n",
    "        \"/mnt/ssd1/Documents/Vivek/flyVR/fly-matrix/figures/\"\n",
    "        + str(nPosts)\n",
    "        + \"_post_direct_tracks.pdf\",\n",
    "        dpi=600,\n",
    "        bbox_inches=\"tight\",\n",
    "    )\n",
    "else:\n",
    "    plt.savefig(\n",
    "        \"/mnt/ssd1/Documents/Vivek/flyVR/fly-matrix/figures/\"\n",
    "        + str(nPosts)\n",
    "        + \"_post_bifurcation_tracks.pdf\",\n",
    "        dpi=600,\n",
    "        bbox_inches=\"tight\",\n",
    "    )"
   ]
  },
  {
   "cell_type": "markdown",
   "metadata": {},
   "source": [
    "### Identify bifurcation point using a piecewise phase-transition function"
   ]
  },
  {
   "cell_type": "markdown",
   "metadata": {},
   "source": [
    "#### Get first bifurcation point\n",
    "Once you have this, you can draw a line segment bisecting the angle between the point and two targets. This will be the line about which you symmetrise to get the second bifurcation point"
   ]
  },
  {
   "cell_type": "code",
   "execution_count": 22,
   "metadata": {},
   "outputs": [
    {
     "data": {
      "application/javascript": [
       "\n",
       "            setTimeout(function() {\n",
       "                var nbb_cell_id = 22;\n",
       "                var nbb_formatted_code = \"def fitfunc(x, p, q, r):\\n    return r * (np.abs((x - p)) ** q)\\n\\n\\ndef fitfunc_vec_self(x, p, q, r):\\n    y = np.zeros(x.shape)\\n    for i in range(len(y)):\\n        y[i] = fitfunc(x[i], p, q, r)\\n    return y\";\n",
       "                var nbb_cells = Jupyter.notebook.get_cells();\n",
       "                for (var i = 0; i < nbb_cells.length; ++i) {\n",
       "                    if (nbb_cells[i].input_prompt_number == nbb_cell_id) {\n",
       "                        nbb_cells[i].set_text(nbb_formatted_code);\n",
       "                        break;\n",
       "                    }\n",
       "                }\n",
       "            }, 500);\n",
       "            "
      ],
      "text/plain": [
       "<IPython.core.display.Javascript object>"
      ]
     },
     "metadata": {},
     "output_type": "display_data"
    }
   ],
   "source": [
    "def fitfunc(x, p, q, r):\n",
    "    return r * (np.abs((x - p)) ** q)\n",
    "\n",
    "\n",
    "def fitfunc_vec_self(x, p, q, r):\n",
    "    y = np.zeros(x.shape)\n",
    "    for i in range(len(y)):\n",
    "        y[i] = fitfunc(x[i], p, q, r)\n",
    "    return y"
   ]
  },
  {
   "cell_type": "code",
   "execution_count": 23,
   "metadata": {},
   "outputs": [
    {
     "name": "stderr",
     "output_type": "stream",
     "text": [
      "/home/user/.local/lib/python3.6/site-packages/ipykernel_launcher.py:16: MatplotlibDeprecationWarning: The 'normed' parameter of hist2d() has been renamed 'density' since Matplotlib 3.1; support for the old name will be dropped in 3.3.\n",
      "  app.launch_new_instance()\n"
     ]
    },
    {
     "data": {
      "image/png": "[encoded data removed]",
      "text/plain": [
       "<Figure size 432x288 with 1 Axes>"
      ]
     },
     "metadata": {},
     "output_type": "display_data"
    },
    {
     "data": {
      "application/javascript": [
       "\n",
       "            setTimeout(function() {\n",
       "                var nbb_cell_id = 23;\n",
       "                var nbb_formatted_code = \"x_fit = []\\ny_fit = []\\n\\nif nPosts == 2:\\n    bif_pt = 2.5\\n    params1 = [3, 1, 1]\\n\\n    x_sub = np.concatenate((xs, xs))\\n    y_sub = np.concatenate((ys, -ys))\\n    t_sub = np.concatenate((ts, ts))\\n\\n    tmin = 0\\n    tmax = 30\\n    for idx, t in enumerate(range(tmin, tmax)):\\n        window_min = t\\n        window_max = t + window_size\\n\\n        x = x_sub[(t_sub > window_min) & (t_sub < window_max)]\\n        y = y_sub[(t_sub > window_min) & (t_sub < window_max)]\\n        tmp_img2 = density_map(x, y, stats=True)\\n\\n        if idx == 0:\\n            tmp_img = tmp_img2\\n        else:\\n            tmp_img = np.fmax(tmp_img2, tmp_img)\\n\\n    x_fit = np.where(tmp_img > peak_threshold)[1] * post0_x / nbins\\n    y_fit = (\\n        np.where(tmp_img > peak_threshold)[0] * (post0_y - post1_y) / nbins + post1_y\\n    )\\n\\n    x_fit = x_fit\\n    y_fit = np.abs(y_fit)\\n    y_fit = y_fit[x_fit > bif_pt]\\n    x_fit = x_fit[x_fit > bif_pt]\\n\\n    for i in range(0, 10):\\n        fit_params, pcov = curve_fit(\\n            fitfunc_vec_self, x_fit, y_fit, p0=params1, maxfev=10000\\n        )\\n        params1 = fit_params\\n\\nelse:\\n    bif_pt = 0.8\\n    params1 = [1, 1, 0.5]\\n\\n    xs1 = xs[xs < 2.9]\\n    ys1 = ys[xs < 2.9]\\n    ts1 = ts[xs < 2.9]\\n\\n    x_sub = np.concatenate((xs1, xs1))\\n    y_sub = np.concatenate((ys1, -ys1))\\n    t_sub = np.concatenate((ts1, ts1))\\n\\n    tmin = 0\\n    tmax = 25\\n    for idx, t in enumerate(range(tmin, tmax)):\\n        window_min = t\\n        window_max = t + window_size\\n\\n        x = x_sub[(t_sub > window_min) & (t_sub < window_max)]\\n        y = y_sub[(t_sub > window_min) & (t_sub < window_max)]\\n        tmp_img2 = density_map(x, y, stats=True)\\n\\n        if idx == 0:\\n            tmp_img = tmp_img2\\n        else:\\n            tmp_img = np.fmax(tmp_img2, tmp_img)\\n\\n    x_fit = np.where(tmp_img > peak_threshold)[1] * post1_x / nbins\\n    y_fit = (\\n        np.where(tmp_img > peak_threshold)[0] * (post0_y - post2_y) / nbins + post2_y\\n    )\\n\\n    x_fit = x_fit\\n    y_fit = np.abs(y_fit)\\n    y_fit = y_fit[x_fit > bif_pt]\\n    x_fit = x_fit[x_fit > bif_pt]\\n\\n    for i in range(0, 10):\\n        fit_params, pcov = curve_fit(\\n            fitfunc_vec_self, x_fit, y_fit, p0=params1, maxfev=10000\\n        )\\n        params1 = fit_params\";\n",
       "                var nbb_cells = Jupyter.notebook.get_cells();\n",
       "                for (var i = 0; i < nbb_cells.length; ++i) {\n",
       "                    if (nbb_cells[i].input_prompt_number == nbb_cell_id) {\n",
       "                        nbb_cells[i].set_text(nbb_formatted_code);\n",
       "                        break;\n",
       "                    }\n",
       "                }\n",
       "            }, 500);\n",
       "            "
      ],
      "text/plain": [
       "<IPython.core.display.Javascript object>"
      ]
     },
     "metadata": {},
     "output_type": "display_data"
    }
   ],
   "source": [
    "x_fit = []\n",
    "y_fit = []\n",
    "\n",
    "if nPosts == 2:\n",
    "    bif_pt = 2.5\n",
    "    params1 = [3, 1, 1]\n",
    "\n",
    "    x_sub = np.concatenate((xs, xs))\n",
    "    y_sub = np.concatenate((ys, -ys))\n",
    "    t_sub = np.concatenate((ts, ts))\n",
    "\n",
    "    tmin = 0\n",
    "    tmax = 30\n",
    "    for idx, t in enumerate(range(tmin, tmax)):\n",
    "        window_min = t\n",
    "        window_max = t + window_size\n",
    "\n",
    "        x = x_sub[(t_sub > window_min) & (t_sub < window_max)]\n",
    "        y = y_sub[(t_sub > window_min) & (t_sub < window_max)]\n",
    "        tmp_img2 = density_map(x, y, stats=True)\n",
    "\n",
    "        if idx == 0:\n",
    "            tmp_img = tmp_img2\n",
    "        else:\n",
    "            tmp_img = np.fmax(tmp_img2, tmp_img)\n",
    "\n",
    "    x_fit = np.where(tmp_img > peak_threshold)[1] * post0_x / nbins\n",
    "    y_fit = (\n",
    "        np.where(tmp_img > peak_threshold)[0] * (post0_y - post1_y) / nbins + post1_y\n",
    "    )\n",
    "\n",
    "    x_fit = x_fit\n",
    "    y_fit = np.abs(y_fit)\n",
    "    y_fit = y_fit[x_fit > bif_pt]\n",
    "    x_fit = x_fit[x_fit > bif_pt]\n",
    "\n",
    "    for i in range(0, 10):\n",
    "        fit_params, pcov = curve_fit(\n",
    "            fitfunc_vec_self, x_fit, y_fit, p0=params1, maxfev=10000\n",
    "        )\n",
    "        params1 = fit_params\n",
    "\n",
    "else:\n",
    "    bif_pt = 0.8\n",
    "    params1 = [1, 1, 0.5]\n",
    "\n",
    "    xs1 = xs[xs < 2.9]\n",
    "    ys1 = ys[xs < 2.9]\n",
    "    ts1 = ts[xs < 2.9]\n",
    "\n",
    "    x_sub = np.concatenate((xs1, xs1))\n",
    "    y_sub = np.concatenate((ys1, -ys1))\n",
    "    t_sub = np.concatenate((ts1, ts1))\n",
    "\n",
    "    tmin = 0\n",
    "    tmax = 25\n",
    "    for idx, t in enumerate(range(tmin, tmax)):\n",
    "        window_min = t\n",
    "        window_max = t + window_size\n",
    "\n",
    "        x = x_sub[(t_sub > window_min) & (t_sub < window_max)]\n",
    "        y = y_sub[(t_sub > window_min) & (t_sub < window_max)]\n",
    "        tmp_img2 = density_map(x, y, stats=True)\n",
    "\n",
    "        if idx == 0:\n",
    "            tmp_img = tmp_img2\n",
    "        else:\n",
    "            tmp_img = np.fmax(tmp_img2, tmp_img)\n",
    "\n",
    "    x_fit = np.where(tmp_img > peak_threshold)[1] * post1_x / nbins\n",
    "    y_fit = (\n",
    "        np.where(tmp_img > peak_threshold)[0] * (post0_y - post2_y) / nbins + post2_y\n",
    "    )\n",
    "\n",
    "    x_fit = x_fit\n",
    "    y_fit = np.abs(y_fit)\n",
    "    y_fit = y_fit[x_fit > bif_pt]\n",
    "    x_fit = x_fit[x_fit > bif_pt]\n",
    "\n",
    "    for i in range(0, 10):\n",
    "        fit_params, pcov = curve_fit(\n",
    "            fitfunc_vec_self, x_fit, y_fit, p0=params1, maxfev=10000\n",
    "        )\n",
    "        params1 = fit_params"
   ]
  },
  {
   "cell_type": "code",
   "execution_count": 24,
   "metadata": {},
   "outputs": [
    {
     "data": {
      "image/png": "[encoded data removed]",
      "text/plain": [
       "<Figure size 124.708x144 with 1 Axes>"
      ]
     },
     "metadata": {},
     "output_type": "display_data"
    },
    {
     "data": {
      "application/javascript": [
       "\n",
       "            setTimeout(function() {\n",
       "                var nbb_cell_id = 24;\n",
       "                var nbb_formatted_code = \"if nPosts == 2:\\n    fig, ax = plt.subplots(1, 1, figsize=(post0_x / 2.5, post1_y / 1.25))\\n    plt.imshow(img ** 2, extent=[0, post0_x, post0_y, post1_y])\\nelse:\\n    plt.imshow(img ** 2, extent=[0, post1_x, post0_y, post2_y])\\n\\nparameters = params1\\nstep_len = 0.01\\n\\nx1 = np.arange(step_len, parameters[0], step_len)\\ny1 = np.zeros(len(x1))\\n\\nx = (\\n    np.arange(parameters[0], post0_x - step_len, step_len)\\n    if nPosts == 2\\n    else np.arange(parameters[0], 3.2, step_len)\\n)\\nx2 = np.concatenate((x, x))\\ny2 = np.concatenate(\\n    (\\n        (parameters[2] * (x - parameters[0])) ** parameters[1],\\n        -(parameters[2] * (x - parameters[0])) ** parameters[1],\\n    )\\n)\\n\\nif nPosts != 2:\\n    bisector_xs = [params1[0], post2_x]\\n    bisector_ys = [\\n        0,\\n        np.tan(np.arctan2(post2_y, post2_x - params1[0]) / 2) * (post2_x - params1[0]),\\n    ]\\n\\nplt.scatter(x1, y1, c=\\\"black\\\", s=0.1)\\nplt.scatter(x2, y2, c=\\\"black\\\", s=0.1)\\nplt.xticks([0, 1, 2, 3, 4])\\n\\nif nPosts == 2:\\n    fig.savefig(\\n        \\\"/mnt/ssd1/Documents/Vivek/flyVR/fly-matrix/figures/\\\"\\n        + str(nPosts)\\n        + \\\"_post_bifurcation_quantified.pdf\\\",\\n        dpi=600,\\n        bbox_inches=\\\"tight\\\",\\n    )\";\n",
       "                var nbb_cells = Jupyter.notebook.get_cells();\n",
       "                for (var i = 0; i < nbb_cells.length; ++i) {\n",
       "                    if (nbb_cells[i].input_prompt_number == nbb_cell_id) {\n",
       "                        nbb_cells[i].set_text(nbb_formatted_code);\n",
       "                        break;\n",
       "                    }\n",
       "                }\n",
       "            }, 500);\n",
       "            "
      ],
      "text/plain": [
       "<IPython.core.display.Javascript object>"
      ]
     },
     "metadata": {},
     "output_type": "display_data"
    }
   ],
   "source": [
    "if nPosts == 2:\n",
    "    fig, ax = plt.subplots(1, 1, figsize=(post0_x / 2.5, post1_y / 1.25))\n",
    "    plt.imshow(img ** 2, extent=[0, post0_x, post0_y, post1_y])\n",
    "else:\n",
    "    plt.imshow(img ** 2, extent=[0, post1_x, post0_y, post2_y])\n",
    "\n",
    "parameters = params1\n",
    "step_len = 0.01\n",
    "\n",
    "x1 = np.arange(step_len, parameters[0], step_len)\n",
    "y1 = np.zeros(len(x1))\n",
    "\n",
    "x = (\n",
    "    np.arange(parameters[0], post0_x - step_len, step_len)\n",
    "    if nPosts == 2\n",
    "    else np.arange(parameters[0], 3.2, step_len)\n",
    ")\n",
    "x2 = np.concatenate((x, x))\n",
    "y2 = np.concatenate(\n",
    "    (\n",
    "        (parameters[2] * (x - parameters[0])) ** parameters[1],\n",
    "        -(parameters[2] * (x - parameters[0])) ** parameters[1],\n",
    "    )\n",
    ")\n",
    "\n",
    "if nPosts != 2:\n",
    "    bisector_xs = [params1[0], post2_x]\n",
    "    bisector_ys = [\n",
    "        0,\n",
    "        np.tan(np.arctan2(post2_y, post2_x - params1[0]) / 2) * (post2_x - params1[0]),\n",
    "    ]\n",
    "\n",
    "plt.scatter(x1, y1, c=\"black\", s=0.1)\n",
    "plt.scatter(x2, y2, c=\"black\", s=0.1)\n",
    "plt.xticks([0, 1, 2, 3, 4])\n",
    "\n",
    "if nPosts == 2:\n",
    "    fig.savefig(\n",
    "        \"/mnt/ssd1/Documents/Vivek/flyVR/fly-matrix/figures/\"\n",
    "        + str(nPosts)\n",
    "        + \"_post_bifurcation_quantified.pdf\",\n",
    "        dpi=600,\n",
    "        bbox_inches=\"tight\",\n",
    "    )"
   ]
  },
  {
   "cell_type": "code",
   "execution_count": 25,
   "metadata": {},
   "outputs": [
    {
     "name": "stdout",
     "output_type": "stream",
     "text": [
      "The bifurcation occurs at an angle 115.50199596624392\n"
     ]
    },
    {
     "data": {
      "application/javascript": [
       "\n",
       "            setTimeout(function() {\n",
       "                var nbb_cell_id = 25;\n",
       "                var nbb_formatted_code = \"if nPosts == 2:\\n    print(\\n        \\\"The bifurcation occurs at an angle\\\",\\n        2 * np.arctan2(post1_y, post1_x - params1[0]) * 180 / np.pi,\\n    )\\nelse:\\n    print(\\n        \\\"The first bifurcation occurs at an angle\\\",\\n        2 * np.arctan2(post2_y, post2_x - params1[0]) * 180 / np.pi,\\n    )\";\n",
       "                var nbb_cells = Jupyter.notebook.get_cells();\n",
       "                for (var i = 0; i < nbb_cells.length; ++i) {\n",
       "                    if (nbb_cells[i].input_prompt_number == nbb_cell_id) {\n",
       "                        nbb_cells[i].set_text(nbb_formatted_code);\n",
       "                        break;\n",
       "                    }\n",
       "                }\n",
       "            }, 500);\n",
       "            "
      ],
      "text/plain": [
       "<IPython.core.display.Javascript object>"
      ]
     },
     "metadata": {},
     "output_type": "display_data"
    }
   ],
   "source": [
    "if nPosts == 2:\n",
    "    print(\n",
    "        \"The bifurcation occurs at an angle\",\n",
    "        2 * np.arctan2(post1_y, post1_x - params1[0]) * 180 / np.pi,\n",
    "    )\n",
    "else:\n",
    "    print(\n",
    "        \"The first bifurcation occurs at an angle\",\n",
    "        2 * np.arctan2(post2_y, post2_x - params1[0]) * 180 / np.pi,\n",
    "    )"
   ]
  },
  {
   "cell_type": "markdown",
   "metadata": {},
   "source": [
    "#### Get the second bifurcation point\n",
    "For this, you must center the trajectories about the bifurcation point, get a new heatmap and rotate this by the angle of the bisector line"
   ]
  },
  {
   "cell_type": "code",
   "execution_count": 46,
   "metadata": {},
   "outputs": [
    {
     "data": {
      "application/javascript": [
       "\n",
       "            setTimeout(function() {\n",
       "                var nbb_cell_id = 46;\n",
       "                var nbb_formatted_code = \"# center points about the first bifurcation\\ncxs = xs - params1[0]\\ncys = ys\\ncts = ts\\n\\ncpost0_x = post0_x - params1[0]\\ncpost1_x = post1_x - params1[0]\\ncpost2_x = post2_x - params1[0]\";\n",
       "                var nbb_cells = Jupyter.notebook.get_cells();\n",
       "                for (var i = 0; i < nbb_cells.length; ++i) {\n",
       "                    if (nbb_cells[i].input_prompt_number == nbb_cell_id) {\n",
       "                        nbb_cells[i].set_text(nbb_formatted_code);\n",
       "                        break;\n",
       "                    }\n",
       "                }\n",
       "            }, 500);\n",
       "            "
      ],
      "text/plain": [
       "<IPython.core.display.Javascript object>"
      ]
     },
     "metadata": {},
     "output_type": "display_data"
    }
   ],
   "source": [
    "# center points about the first bifurcation\n",
    "cxs = xs - params1[0]\n",
    "cys = ys\n",
    "cts = ts\n",
    "\n",
    "cpost0_x = post0_x - params1[0]\n",
    "cpost1_x = post1_x - params1[0]\n",
    "cpost2_x = post2_x - params1[0]"
   ]
  },
  {
   "cell_type": "code",
   "execution_count": 47,
   "metadata": {},
   "outputs": [
    {
     "data": {
      "application/javascript": [
       "\n",
       "            setTimeout(function() {\n",
       "                var nbb_cell_id = 47;\n",
       "                var nbb_formatted_code = \"@numba.njit(fastmath=True, parallel=True)\\ndef parallel_rotate(xy, rmat):\\n    out = np.zeros(xy.shape)\\n    for idx in numba.prange(xy.shape[0]):\\n        out[idx] = np.dot(rmat[idx], xy[idx])\\n    return out\";\n",
       "                var nbb_cells = Jupyter.notebook.get_cells();\n",
       "                for (var i = 0; i < nbb_cells.length; ++i) {\n",
       "                    if (nbb_cells[i].input_prompt_number == nbb_cell_id) {\n",
       "                        nbb_cells[i].set_text(nbb_formatted_code);\n",
       "                        break;\n",
       "                    }\n",
       "                }\n",
       "            }, 500);\n",
       "            "
      ],
      "text/plain": [
       "<IPython.core.display.Javascript object>"
      ]
     },
     "metadata": {},
     "output_type": "display_data"
    }
   ],
   "source": [
    "@numba.njit(fastmath=True, parallel=True)\n",
    "def parallel_rotate(xy, rmat):\n",
    "    out = np.zeros(xy.shape)\n",
    "    for idx in numba.prange(xy.shape[0]):\n",
    "        out[idx] = np.dot(rmat[idx], xy[idx])\n",
    "    return out"
   ]
  },
  {
   "cell_type": "code",
   "execution_count": 48,
   "metadata": {},
   "outputs": [
    {
     "name": "stderr",
     "output_type": "stream",
     "text": [
      "/home/user/.local/lib/python3.6/site-packages/ipykernel_launcher.py:16: MatplotlibDeprecationWarning: The 'normed' parameter of hist2d() has been renamed 'density' since Matplotlib 3.1; support for the old name will be dropped in 3.3.\n",
      "  app.launch_new_instance()\n"
     ]
    },
    {
     "data": {
      "image/png": "[encoded data removed]",
      "text/plain": [
       "<Figure size 432x288 with 1 Axes>"
      ]
     },
     "metadata": {},
     "output_type": "display_data"
    },
    {
     "data": {
      "application/javascript": [
       "\n",
       "            setTimeout(function() {\n",
       "                var nbb_cell_id = 48;\n",
       "                var nbb_formatted_code = \"# clip all points to the left of and below 0 and points beyond post centers\\nccxs = cxs[cxs > 0]\\nccys = cys[cxs > 0]\\nccts = cts[cxs > 0]\\nccxs = ccxs[ccys > 0]\\nccts = ccts[ccys > 0]\\nccys = ccys[ccys > 0]\\n\\nxy = np.concatenate((ccxs.reshape(-1, 1), ccys.reshape(-1, 1)), axis=1)\\nangle = np.full(ccxs.shape, np.arctan2(post2_y, post2_x - params1[0]) / 2)\\nrmat = np.array([[np.cos(angle), -np.sin(angle)], [np.sin(angle), np.cos(angle)]]).T\\nrx, ry = parallel_rotate(xy, rmat).T\\n\\nblur = (101, 101)\\n\\nr1 = [[0, post1_x], [post0_y, post2_y]]\\n\\ntmin = 0\\ntmax = 25\\nfor idx, t in enumerate(range(tmin, tmax)):\\n    window_min = t\\n    window_max = t + window_size\\n\\n    x = rx[(ccts > window_min) & (ccts < window_max)]\\n    y = ry[(ccts > window_min) & (ccts < window_max)]\\n    tmp_img = density_map(x, y, stats=False)\\n\\n    if idx == 0:\\n        tmp_img1 = tmp_img\\n    else:\\n        tmp_img1 = np.fmax(tmp_img1, tmp_img)\";\n",
       "                var nbb_cells = Jupyter.notebook.get_cells();\n",
       "                for (var i = 0; i < nbb_cells.length; ++i) {\n",
       "                    if (nbb_cells[i].input_prompt_number == nbb_cell_id) {\n",
       "                        nbb_cells[i].set_text(nbb_formatted_code);\n",
       "                        break;\n",
       "                    }\n",
       "                }\n",
       "            }, 500);\n",
       "            "
      ],
      "text/plain": [
       "<IPython.core.display.Javascript object>"
      ]
     },
     "metadata": {},
     "output_type": "display_data"
    }
   ],
   "source": [
    "# clip all points to the left of and below 0 and points beyond post centers\n",
    "ccxs = cxs[cxs > 0]\n",
    "ccys = cys[cxs > 0]\n",
    "ccts = cts[cxs > 0]\n",
    "ccxs = ccxs[ccys > 0]\n",
    "ccts = ccts[ccys > 0]\n",
    "ccys = ccys[ccys > 0]\n",
    "\n",
    "xy = np.concatenate((ccxs.reshape(-1, 1), ccys.reshape(-1, 1)), axis=1)\n",
    "angle = np.full(ccxs.shape, np.arctan2(post2_y, post2_x - params1[0]) / 2)\n",
    "rmat = np.array([[np.cos(angle), -np.sin(angle)], [np.sin(angle), np.cos(angle)]]).T\n",
    "rx, ry = parallel_rotate(xy, rmat).T\n",
    "\n",
    "blur = (101, 101)\n",
    "\n",
    "r1 = [[0, post1_x], [post0_y, post2_y]]\n",
    "\n",
    "tmin = 0\n",
    "tmax = 25\n",
    "for idx, t in enumerate(range(tmin, tmax)):\n",
    "    window_min = t\n",
    "    window_max = t + window_size\n",
    "\n",
    "    x = rx[(ccts > window_min) & (ccts < window_max)]\n",
    "    y = ry[(ccts > window_min) & (ccts < window_max)]\n",
    "    tmp_img = density_map(x, y, stats=False)\n",
    "\n",
    "    if idx == 0:\n",
    "        tmp_img1 = tmp_img\n",
    "    else:\n",
    "        tmp_img1 = np.fmax(tmp_img1, tmp_img)"
   ]
  },
  {
   "cell_type": "code",
   "execution_count": 49,
   "metadata": {},
   "outputs": [
    {
     "data": {
      "text/plain": [
       "<matplotlib.image.AxesImage at 0x7fc99a9995f8>"
      ]
     },
     "execution_count": 49,
     "metadata": {},
     "output_type": "execute_result"
    },
    {
     "data": {
      "image/png": "[encoded data removed]",
      "text/plain": [
       "<Figure size 432x288 with 1 Axes>"
      ]
     },
     "metadata": {},
     "output_type": "display_data"
    },
    {
     "data": {
      "application/javascript": [
       "\n",
       "            setTimeout(function() {\n",
       "                var nbb_cell_id = 49;\n",
       "                var nbb_formatted_code = \"plt.imshow(tmp_img1, extent=[r1[0][0], r1[0][1], r1[1][0], r1[1][1]])\";\n",
       "                var nbb_cells = Jupyter.notebook.get_cells();\n",
       "                for (var i = 0; i < nbb_cells.length; ++i) {\n",
       "                    if (nbb_cells[i].input_prompt_number == nbb_cell_id) {\n",
       "                        nbb_cells[i].set_text(nbb_formatted_code);\n",
       "                        break;\n",
       "                    }\n",
       "                }\n",
       "            }, 500);\n",
       "            "
      ],
      "text/plain": [
       "<IPython.core.display.Javascript object>"
      ]
     },
     "metadata": {},
     "output_type": "display_data"
    }
   ],
   "source": [
    "plt.imshow(tmp_img1, extent=[r1[0][0], r1[0][1], r1[1][0], r1[1][1]])"
   ]
  },
  {
   "cell_type": "code",
   "execution_count": 50,
   "metadata": {},
   "outputs": [
    {
     "name": "stderr",
     "output_type": "stream",
     "text": [
      "/home/user/.local/lib/python3.6/site-packages/ipykernel_launcher.py:16: MatplotlibDeprecationWarning: The 'normed' parameter of hist2d() has been renamed 'density' since Matplotlib 3.1; support for the old name will be dropped in 3.3.\n",
      "  app.launch_new_instance()\n"
     ]
    },
    {
     "data": {
      "image/png": "[encoded data removed]",
      "text/plain": [
       "<Figure size 432x288 with 1 Axes>"
      ]
     },
     "metadata": {},
     "output_type": "display_data"
    },
    {
     "data": {
      "application/javascript": [
       "\n",
       "            setTimeout(function() {\n",
       "                var nbb_cell_id = 50;\n",
       "                var nbb_formatted_code = \"bif_pt = 2\\nparams2 = [2.5, 1, 0.5]\\n\\nx_sub = np.concatenate((rx, rx))\\ny_sub = np.concatenate((ry, -ry))\\nt_sub = np.concatenate((ccts, ccts))\\n\\ntmin = 0\\ntmax = 25\\nfor idx, t in enumerate(range(tmin, tmax)):\\n    window_min = t\\n    window_max = t + window_size\\n\\n    x = x_sub[(t_sub > window_min) & (t_sub < window_max)]\\n    y = y_sub[(t_sub > window_min) & (t_sub < window_max)]\\n    tmp_img = density_map(x, y, stats=False)\\n\\n    if idx == 0:\\n        tmp_img1 = tmp_img\\n    else:\\n        tmp_img1 = np.fmax(tmp_img1, tmp_img)\\n\\nx_fit = np.where(tmp_img1 > peak_threshold)[1] * post1_x / nbins\\ny_fit = np.where(tmp_img1 > peak_threshold)[0] * (post0_y - post2_y) / nbins + post2_y\\n\\nx_fit = x_fit\\ny_fit = np.abs(y_fit)\\ny_fit = y_fit[x_fit > bif_pt]\\nx_fit = x_fit[x_fit > bif_pt]\\n\\nfor i in range(0, 10):\\n    fit_params, pcov = curve_fit(\\n        fitfunc_vec_self, x_fit, y_fit, p0=params2, maxfev=10000\\n    )\\n    params2 = fit_params\";\n",
       "                var nbb_cells = Jupyter.notebook.get_cells();\n",
       "                for (var i = 0; i < nbb_cells.length; ++i) {\n",
       "                    if (nbb_cells[i].input_prompt_number == nbb_cell_id) {\n",
       "                        nbb_cells[i].set_text(nbb_formatted_code);\n",
       "                        break;\n",
       "                    }\n",
       "                }\n",
       "            }, 500);\n",
       "            "
      ],
      "text/plain": [
       "<IPython.core.display.Javascript object>"
      ]
     },
     "metadata": {},
     "output_type": "display_data"
    }
   ],
   "source": [
    "bif_pt = 2\n",
    "params2 = [2.5, 1, 0.5]\n",
    "\n",
    "x_sub = np.concatenate((rx, rx))\n",
    "y_sub = np.concatenate((ry, -ry))\n",
    "t_sub = np.concatenate((ccts, ccts))\n",
    "\n",
    "tmin = 0\n",
    "tmax = 25\n",
    "for idx, t in enumerate(range(tmin, tmax)):\n",
    "    window_min = t\n",
    "    window_max = t + window_size\n",
    "\n",
    "    x = x_sub[(t_sub > window_min) & (t_sub < window_max)]\n",
    "    y = y_sub[(t_sub > window_min) & (t_sub < window_max)]\n",
    "    tmp_img = density_map(x, y, stats=False)\n",
    "\n",
    "    if idx == 0:\n",
    "        tmp_img1 = tmp_img\n",
    "    else:\n",
    "        tmp_img1 = np.fmax(tmp_img1, tmp_img)\n",
    "\n",
    "x_fit = np.where(tmp_img1 > peak_threshold)[1] * post1_x / nbins\n",
    "y_fit = np.where(tmp_img1 > peak_threshold)[0] * (post0_y - post2_y) / nbins + post2_y\n",
    "\n",
    "x_fit = x_fit\n",
    "y_fit = np.abs(y_fit)\n",
    "y_fit = y_fit[x_fit > bif_pt]\n",
    "x_fit = x_fit[x_fit > bif_pt]\n",
    "\n",
    "for i in range(0, 10):\n",
    "    fit_params, pcov = curve_fit(\n",
    "        fitfunc_vec_self, x_fit, y_fit, p0=params2, maxfev=10000\n",
    "    )\n",
    "    params2 = fit_params"
   ]
  },
  {
   "cell_type": "code",
   "execution_count": 51,
   "metadata": {},
   "outputs": [
    {
     "data": {
      "text/plain": [
       "<matplotlib.collections.PathCollection at 0x7fc9963ee128>"
      ]
     },
     "execution_count": 51,
     "metadata": {},
     "output_type": "execute_result"
    },
    {
     "data": {
      "image/png": "[encoded data removed]",
      "text/plain": [
       "<Figure size 432x288 with 1 Axes>"
      ]
     },
     "metadata": {},
     "output_type": "display_data"
    },
    {
     "data": {
      "application/javascript": [
       "\n",
       "            setTimeout(function() {\n",
       "                var nbb_cell_id = 51;\n",
       "                var nbb_formatted_code = \"plt.imshow(tmp_img1, extent=[r1[0][0], r1[0][1], r1[1][0], r1[1][1]])\\n\\nparameters = params2\\nstep_len = 0.01\\n\\nx1 = np.arange(step_len, parameters[0], step_len)\\ny1 = np.zeros(len(x1))\\n\\nx = np.arange(parameters[0], 3, step_len)\\nx2 = np.concatenate((x, x))\\ny2 = np.concatenate(\\n    (\\n        (parameters[2] * (x - parameters[0])) ** parameters[1],\\n        -(parameters[2] * (x - parameters[0])) ** parameters[1],\\n    )\\n)\\n\\nplt.scatter(x1, y1, c=\\\"black\\\", s=1)\\nplt.scatter(x2, y2, c=\\\"black\\\", s=1)\";\n",
       "                var nbb_cells = Jupyter.notebook.get_cells();\n",
       "                for (var i = 0; i < nbb_cells.length; ++i) {\n",
       "                    if (nbb_cells[i].input_prompt_number == nbb_cell_id) {\n",
       "                        nbb_cells[i].set_text(nbb_formatted_code);\n",
       "                        break;\n",
       "                    }\n",
       "                }\n",
       "            }, 500);\n",
       "            "
      ],
      "text/plain": [
       "<IPython.core.display.Javascript object>"
      ]
     },
     "metadata": {},
     "output_type": "display_data"
    }
   ],
   "source": [
    "plt.imshow(tmp_img1, extent=[r1[0][0], r1[0][1], r1[1][0], r1[1][1]])\n",
    "\n",
    "parameters = params2\n",
    "step_len = 0.01\n",
    "\n",
    "x1 = np.arange(step_len, parameters[0], step_len)\n",
    "y1 = np.zeros(len(x1))\n",
    "\n",
    "x = np.arange(parameters[0], 3, step_len)\n",
    "x2 = np.concatenate((x, x))\n",
    "y2 = np.concatenate(\n",
    "    (\n",
    "        (parameters[2] * (x - parameters[0])) ** parameters[1],\n",
    "        -(parameters[2] * (x - parameters[0])) ** parameters[1],\n",
    "    )\n",
    ")\n",
    "\n",
    "plt.scatter(x1, y1, c=\"black\", s=1)\n",
    "plt.scatter(x2, y2, c=\"black\", s=1)"
   ]
  },
  {
   "cell_type": "code",
   "execution_count": 52,
   "metadata": {},
   "outputs": [
    {
     "data": {
      "application/javascript": [
       "\n",
       "            setTimeout(function() {\n",
       "                var nbb_cell_id = 52;\n",
       "                var nbb_formatted_code = \"bif2 = np.array([params2[0], 0]).reshape(1, -1)\\nang = angle[0]\\nrmat1 = np.array([[np.cos(ang), -np.sin(ang)], [np.sin(ang), np.cos(ang)]]).T\\nbif2 = parallel_rotate(bif2, rmat).T\\nbif2[0] += params1[0]\";\n",
       "                var nbb_cells = Jupyter.notebook.get_cells();\n",
       "                for (var i = 0; i < nbb_cells.length; ++i) {\n",
       "                    if (nbb_cells[i].input_prompt_number == nbb_cell_id) {\n",
       "                        nbb_cells[i].set_text(nbb_formatted_code);\n",
       "                        break;\n",
       "                    }\n",
       "                }\n",
       "            }, 500);\n",
       "            "
      ],
      "text/plain": [
       "<IPython.core.display.Javascript object>"
      ]
     },
     "metadata": {},
     "output_type": "display_data"
    }
   ],
   "source": [
    "bif2 = np.array([params2[0], 0]).reshape(1, -1)\n",
    "ang = angle[0]\n",
    "rmat1 = np.array([[np.cos(ang), -np.sin(ang)], [np.sin(ang), np.cos(ang)]]).T\n",
    "bif2 = parallel_rotate(bif2, rmat).T\n",
    "bif2[0] += params1[0]"
   ]
  },
  {
   "cell_type": "code",
   "execution_count": 53,
   "metadata": {},
   "outputs": [
    {
     "name": "stdout",
     "output_type": "stream",
     "text": [
      "The second bifurcation occurs at angle 118.56719052496604\n"
     ]
    },
    {
     "data": {
      "application/javascript": [
       "\n",
       "            setTimeout(function() {\n",
       "                var nbb_cell_id = 53;\n",
       "                var nbb_formatted_code = \"print(\\n    \\\"The second bifurcation occurs at angle\\\",\\n    (\\n        (\\n            np.arctan2(post2_y - bif2[1], post2_x - bif2[0])\\n            - np.arctan2(bif2[1] - post1_y, post1_x - bif2[0])\\n        )\\n        * 180\\n        / np.pi\\n    )[0],\\n)\";\n",
       "                var nbb_cells = Jupyter.notebook.get_cells();\n",
       "                for (var i = 0; i < nbb_cells.length; ++i) {\n",
       "                    if (nbb_cells[i].input_prompt_number == nbb_cell_id) {\n",
       "                        nbb_cells[i].set_text(nbb_formatted_code);\n",
       "                        break;\n",
       "                    }\n",
       "                }\n",
       "            }, 500);\n",
       "            "
      ],
      "text/plain": [
       "<IPython.core.display.Javascript object>"
      ]
     },
     "metadata": {},
     "output_type": "display_data"
    }
   ],
   "source": [
    "print(\n",
    "    \"The second bifurcation occurs at angle\",\n",
    "    (\n",
    "        (\n",
    "            np.arctan2(post2_y - bif2[1], post2_x - bif2[0])\n",
    "            - np.arctan2(bif2[1] - post1_y, post1_x - bif2[0])\n",
    "        )\n",
    "        * 180\n",
    "        / np.pi\n",
    "    )[0],\n",
    ")"
   ]
  },
  {
   "cell_type": "code",
   "execution_count": 54,
   "metadata": {},
   "outputs": [
    {
     "data": {
      "application/javascript": [
       "\n",
       "            setTimeout(function() {\n",
       "                var nbb_cell_id = 54;\n",
       "                var nbb_formatted_code = \"x1 = np.arange(step_len, parameters[0], step_len)\\ny1 = np.zeros(len(x1))\\nbcxy1 = np.concatenate((x1.reshape(-1, 1), y1.reshape(-1, 1)), axis=1)\\nang1 = np.full(x1.shape, -np.arctan2(post2_y, post2_x - params1[0]) / 2)\\nrmat1 = np.array([[np.cos(ang1), -np.sin(ang1)], [np.sin(ang1), np.cos(ang1)]]).T\\nbcx1, bcy1 = parallel_rotate(bcxy1, rmat1).T\\nbx1 = bcx1 + params1[0]\";\n",
       "                var nbb_cells = Jupyter.notebook.get_cells();\n",
       "                for (var i = 0; i < nbb_cells.length; ++i) {\n",
       "                    if (nbb_cells[i].input_prompt_number == nbb_cell_id) {\n",
       "                        nbb_cells[i].set_text(nbb_formatted_code);\n",
       "                        break;\n",
       "                    }\n",
       "                }\n",
       "            }, 500);\n",
       "            "
      ],
      "text/plain": [
       "<IPython.core.display.Javascript object>"
      ]
     },
     "metadata": {},
     "output_type": "display_data"
    }
   ],
   "source": [
    "x1 = np.arange(step_len, parameters[0], step_len)\n",
    "y1 = np.zeros(len(x1))\n",
    "bcxy1 = np.concatenate((x1.reshape(-1, 1), y1.reshape(-1, 1)), axis=1)\n",
    "ang1 = np.full(x1.shape, -np.arctan2(post2_y, post2_x - params1[0]) / 2)\n",
    "rmat1 = np.array([[np.cos(ang1), -np.sin(ang1)], [np.sin(ang1), np.cos(ang1)]]).T\n",
    "bcx1, bcy1 = parallel_rotate(bcxy1, rmat1).T\n",
    "bx1 = bcx1 + params1[0]"
   ]
  },
  {
   "cell_type": "code",
   "execution_count": 55,
   "metadata": {},
   "outputs": [
    {
     "data": {
      "image/png": "[encoded data removed]",
      "text/plain": [
       "<Figure size 90x137.888 with 1 Axes>"
      ]
     },
     "metadata": {},
     "output_type": "display_data"
    },
    {
     "data": {
      "application/javascript": [
       "\n",
       "            setTimeout(function() {\n",
       "                var nbb_cell_id = 55;\n",
       "                var nbb_formatted_code = \"fig, ax = plt.subplots(1, 1, figsize=(1.25, post2_x / 2))\\nplt.imshow(img, extent=[0, post1_x, post0_y, post2_y])\\n\\nstep_len = 0.01\\nparameters = params2\\n\\nx1 = np.arange(5 * step_len, parameters[1], step_len)\\ny1 = np.zeros(len(x1))\\nbcxy1 = np.concatenate((x1.reshape(-1, 1), y1.reshape(-1, 1)), axis=1)\\nang1 = np.full(x1.shape, -np.arctan2(post2_y, post2_x - params1[0]) / 2)\\nrmat1 = np.array([[np.cos(ang1), -np.sin(ang1)], [np.sin(ang1), np.cos(ang1)]]).T\\nbcx1, bcy1 = parallel_rotate(bcxy1, rmat1).T\\nbx1 = bcx1 + params1[0]\\n\\nx = np.arange(parameters[0], 3.5, step_len)\\nx2 = np.concatenate((x, x))\\ny2 = np.concatenate(\\n    (\\n        (parameters[2] * (x - parameters[0])) ** parameters[1],\\n        -(parameters[2] * (x - parameters[0])) ** parameters[1],\\n    )\\n)\\n\\nbcxy2 = np.concatenate((x2.reshape(-1, 1), y2.reshape(-1, 1)), axis=1)\\nang2 = np.full(x2.shape, -np.arctan2(post2_y, post2_x - params1[0]) / 2)\\nrmat2 = np.array([[np.cos(ang2), -np.sin(ang2)], [np.sin(ang2), np.cos(ang2)]]).T\\nbcx2, bcy2 = parallel_rotate(bcxy2, rmat2).T\\nbx2 = bcx2 + params1[0]\\n\\nbx2 = np.concatenate((bx2, bx2))\\nbcy2 = np.concatenate((bcy2, -bcy2))\\n\\nbcy2 = bcy2[bx2 < post1_x - 0.1]\\nbx2 = bx2[bx2 < post1_x - 0.1]\\n\\nbx2 = bx2[np.abs(bcy2) < post2_y - 0.1]\\nbcy2 = bcy2[np.abs(bcy2) < post2_y - 0.1]\\n\\nplt.scatter(bx2, bcy2, c=\\\"black\\\", s=0.1)\\n\\nparameters = params1\\nstep_len = 0.01\\n\\nx1 = np.arange(5 * step_len, parameters[0], step_len)\\ny1 = np.zeros(len(x1))\\n\\nx = np.arange(parameters[0], np.min(bx2), step_len)\\nx2 = np.concatenate((x, x))\\ny2 = np.concatenate(\\n    (\\n        (parameters[2] * (x - parameters[0])) ** parameters[1],\\n        -(parameters[2] * (x - parameters[0])) ** parameters[1],\\n    )\\n)\\n\\nplt.scatter(x1, y1, c=\\\"black\\\", s=0.1)\\nplt.scatter(x2, y2, c=\\\"black\\\", s=0.1)\\nplt.xticks([0, 1, 2, 3, 4, 5])\\n\\nfig.savefig(\\n    \\\"/mnt/ssd1/Documents/Vivek/flyVR/fly-matrix/figures/\\\"\\n    + str(nPosts)\\n    + \\\"_post_bifurcation_quantified.pdf\\\",\\n    dpi=300,\\n    bbox_inches=\\\"tight\\\",\\n)\";\n",
       "                var nbb_cells = Jupyter.notebook.get_cells();\n",
       "                for (var i = 0; i < nbb_cells.length; ++i) {\n",
       "                    if (nbb_cells[i].input_prompt_number == nbb_cell_id) {\n",
       "                        nbb_cells[i].set_text(nbb_formatted_code);\n",
       "                        break;\n",
       "                    }\n",
       "                }\n",
       "            }, 500);\n",
       "            "
      ],
      "text/plain": [
       "<IPython.core.display.Javascript object>"
      ]
     },
     "metadata": {},
     "output_type": "display_data"
    }
   ],
   "source": [
    "fig, ax = plt.subplots(1, 1, figsize=(1.25, post2_x / 2))\n",
    "plt.imshow(img, extent=[0, post1_x, post0_y, post2_y])\n",
    "\n",
    "step_len = 0.01\n",
    "parameters = params2\n",
    "\n",
    "x1 = np.arange(5 * step_len, parameters[1], step_len)\n",
    "y1 = np.zeros(len(x1))\n",
    "bcxy1 = np.concatenate((x1.reshape(-1, 1), y1.reshape(-1, 1)), axis=1)\n",
    "ang1 = np.full(x1.shape, -np.arctan2(post2_y, post2_x - params1[0]) / 2)\n",
    "rmat1 = np.array([[np.cos(ang1), -np.sin(ang1)], [np.sin(ang1), np.cos(ang1)]]).T\n",
    "bcx1, bcy1 = parallel_rotate(bcxy1, rmat1).T\n",
    "bx1 = bcx1 + params1[0]\n",
    "\n",
    "x = np.arange(parameters[0], 3.5, step_len)\n",
    "x2 = np.concatenate((x, x))\n",
    "y2 = np.concatenate(\n",
    "    (\n",
    "        (parameters[2] * (x - parameters[0])) ** parameters[1],\n",
    "        -(parameters[2] * (x - parameters[0])) ** parameters[1],\n",
    "    )\n",
    ")\n",
    "\n",
    "bcxy2 = np.concatenate((x2.reshape(-1, 1), y2.reshape(-1, 1)), axis=1)\n",
    "ang2 = np.full(x2.shape, -np.arctan2(post2_y, post2_x - params1[0]) / 2)\n",
    "rmat2 = np.array([[np.cos(ang2), -np.sin(ang2)], [np.sin(ang2), np.cos(ang2)]]).T\n",
    "bcx2, bcy2 = parallel_rotate(bcxy2, rmat2).T\n",
    "bx2 = bcx2 + params1[0]\n",
    "\n",
    "bx2 = np.concatenate((bx2, bx2))\n",
    "bcy2 = np.concatenate((bcy2, -bcy2))\n",
    "\n",
    "bcy2 = bcy2[bx2 < post1_x - 0.1]\n",
    "bx2 = bx2[bx2 < post1_x - 0.1]\n",
    "\n",
    "bx2 = bx2[np.abs(bcy2) < post2_y - 0.1]\n",
    "bcy2 = bcy2[np.abs(bcy2) < post2_y - 0.1]\n",
    "\n",
    "plt.scatter(bx2, bcy2, c=\"black\", s=0.1)\n",
    "\n",
    "parameters = params1\n",
    "step_len = 0.01\n",
    "\n",
    "x1 = np.arange(5 * step_len, parameters[0], step_len)\n",
    "y1 = np.zeros(len(x1))\n",
    "\n",
    "x = np.arange(parameters[0], np.min(bx2), step_len)\n",
    "x2 = np.concatenate((x, x))\n",
    "y2 = np.concatenate(\n",
    "    (\n",
    "        (parameters[2] * (x - parameters[0])) ** parameters[1],\n",
    "        -(parameters[2] * (x - parameters[0])) ** parameters[1],\n",
    "    )\n",
    ")\n",
    "\n",
    "plt.scatter(x1, y1, c=\"black\", s=0.1)\n",
    "plt.scatter(x2, y2, c=\"black\", s=0.1)\n",
    "plt.xticks([0, 1, 2, 3, 4, 5])\n",
    "\n",
    "fig.savefig(\n",
    "    \"/mnt/ssd1/Documents/Vivek/flyVR/fly-matrix/figures/\"\n",
    "    + str(nPosts)\n",
    "    + \"_post_bifurcation_quantified.pdf\",\n",
    "    dpi=300,\n",
    "    bbox_inches=\"tight\",\n",
    ")"
   ]
  },
  {
   "cell_type": "code",
   "execution_count": null,
   "metadata": {},
   "outputs": [],
   "source": []
  }
 ],
 "metadata": {
  "kernelspec": {
   "display_name": "Python 3",
   "language": "python",
   "name": "python3"
  },
  "language_info": {
   "codemirror_mode": {
    "name": "ipython",
    "version": 3
   },
   "file_extension": ".py",
   "mimetype": "text/x-python",
   "name": "python",
   "nbconvert_exporter": "python",
   "pygments_lexer": "ipython3",
   "version": "3.6.3"
  }
 },
 "nbformat": 4,
 "nbformat_minor": 2
}
