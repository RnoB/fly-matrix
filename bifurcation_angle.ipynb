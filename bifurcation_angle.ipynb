{
 "cells": [
  {
   "cell_type": "code",
   "execution_count": 1,
   "metadata": {},
   "outputs": [],
   "source": [
    "import cv2\n",
    "import math\n",
    "import numpy as np\n",
    "import pandas as pd\n",
    "import matplotlib.pyplot as plt\n",
    "from scipy.optimize import curve_fit"
   ]
  },
  {
   "cell_type": "code",
   "execution_count": 2,
   "metadata": {},
   "outputs": [],
   "source": [
    "model = 0     # spin model - 0; schooling model - 1\n",
    "mod = 'NN' if model == 0 else 'SPP'\n",
    "\n",
    "distances = [200, 400, 1000, 2000, 4000, 10000, 20000, 40000, 100000]\n",
    "neurons = [6, 12, 24, 60, 120, 240, 600]\n",
    "nus = [0.2, 0.3, 0.4, 0.5, 0.6, 0.7, 0.8, 0.9, 1.0]"
   ]
  },
  {
   "cell_type": "code",
   "execution_count": 3,
   "metadata": {},
   "outputs": [],
   "source": [
    "nbins = 500\n",
    "peak_threshold = 0.95\n",
    "\n",
    "\n",
    "def density_map(x, y, stats=True):\n",
    "    blur = (11, 11) if stats == True else (71, 71)\n",
    "    r = [[0, post0_x], [post0_y, post1_y]]\n",
    "    h, xedge, yedge, image = plt.hist2d(x, y, bins=nbins, normed=True, range=r)\n",
    "\n",
    "    tmp_img = np.flipud(np.rot90(cv2.GaussianBlur(h, blur, 0)))\n",
    "\n",
    "    for i in range(0, nbins):\n",
    "        max_val = np.nanmax(tmp_img[:, i])\n",
    "        tmp_img[:, i] = tmp_img[:, i] / max_val if max_val > 0 else tmp_img[:, i]\n",
    "\n",
    "    return tmp_img\n",
    "\n",
    "def fitfunc(x, p, q):\n",
    "    if x < p:\n",
    "        return 0\n",
    "    else:\n",
    "        return np.abs(x - p) ** q\n",
    "\n",
    "def fitfunc_vec_self(x, p, q):\n",
    "    y = np.zeros(x.shape)\n",
    "    for i in range(len(y)):\n",
    "        y[i] = fitfunc(x[i], p, q)\n",
    "    return y\n",
    "\n",
    "def exponenial_func(x, a, b, c):\n",
    "    return a * np.exp(-b * x) + c"
   ]
  },
  {
   "cell_type": "markdown",
   "metadata": {},
   "source": [
    "### Visualise change in bifurcation point based on distance to target"
   ]
  },
  {
   "cell_type": "code",
   "execution_count": 4,
   "metadata": {},
   "outputs": [
    {
     "name": "stdout",
     "output_type": "stream",
     "text": [
      "200\n",
      "400\n",
      "1000\n",
      "2000\n",
      "4000\n",
      "10000\n",
      "20000\n",
      "40000\n",
      "100000\n"
     ]
    },
    {
     "data": {
      "image/png": "[encoded data removed]",
      "text/plain": [
       "<Figure size 432x288 with 1 Axes>"
      ]
     },
     "metadata": {},
     "output_type": "display_data"
    }
   ],
   "source": [
    "n_iters = 100\n",
    "b_angles = []\n",
    "\n",
    "for d in distances:\n",
    "    df = pd.read_csv(\"/Users/vivekhsridhar/Documents/Work/Results/decision_geometry/Data/Theory/NN/distance/distance\" + str(d) + \".csv\")\n",
    "\n",
    "    xs = np.array(df[' x'])\n",
    "    ys = np.array(df[' y'] - 500)\n",
    "    \n",
    "    post0_x = d*np.cos(np.pi/6)\n",
    "    post0_y = -d*np.sin(np.pi/6)\n",
    "    post1_x = d*np.cos(np.pi/6)\n",
    "    post1_y = d*np.sin(np.pi/6)\n",
    "    \n",
    "    img = density_map(xs, ys, stats=False)\n",
    "    x_peaks = np.where(img > peak_threshold)[1] * post0_x / nbins\n",
    "    y_peaks = np.where(img > peak_threshold)[0] * (post0_y - post1_y) / nbins + post1_y\n",
    "    \n",
    "    params1 = np.zeros((n_iters, 2))\n",
    "    \n",
    "    for i in range(n_iters):\n",
    "        x_fit = []\n",
    "        y_fit = []\n",
    "\n",
    "        indices = np.random.choice(len(xs), size=10000, replace=True)\n",
    "        x_fit = xs[indices]\n",
    "        y_fit = np.abs(ys[indices])\n",
    "\n",
    "        fit_params, pcov = curve_fit(\n",
    "            fitfunc_vec_self, x_fit, y_fit, p0=[3, 1], maxfev=10000\n",
    "        )\n",
    "        params1[i, :] = fit_params\n",
    "    \n",
    "    bif_angle = 2 * np.arctan2(post1_y, post1_x - np.median(params1, axis=0)[0]) * 180 / np.pi\n",
    "    b_angles.append(bif_angle)\n",
    "    print(d)"
   ]
  },
  {
   "cell_type": "code",
   "execution_count": 5,
   "metadata": {
    "scrolled": false
   },
   "outputs": [],
   "source": [
    "popt, pcov = curve_fit(exponenial_func, np.log10(distances), b_angles, p0=(100, 1, 100), maxfev=10000)\n",
    "\n",
    "fit_x = np.linspace(2, 5, 1000)\n",
    "fit_y = exponenial_func(fit_x, *popt)"
   ]
  },
  {
   "cell_type": "code",
   "execution_count": 6,
   "metadata": {},
   "outputs": [
    {
     "data": {
      "text/plain": [
       "array([259.18825459,   0.85592643,  84.89669489])"
      ]
     },
     "execution_count": 6,
     "metadata": {},
     "output_type": "execute_result"
    }
   ],
   "source": [
    "popt"
   ]
  },
  {
   "cell_type": "code",
   "execution_count": 12,
   "metadata": {},
   "outputs": [
    {
     "data": {
      "image/png": "[encoded data removed]",
      "text/plain": [
       "<Figure size 216x144 with 1 Axes>"
      ]
     },
     "metadata": {},
     "output_type": "display_data"
    }
   ],
   "source": [
    "fig, ax = plt.subplots(1,1, figsize=(3,2))\n",
    "plt.scatter(distances, b_angles, c='red')\n",
    "plt.plot(10**(fit_x), fit_y, c='black')\n",
    "plt.hlines(popt[2], xmin=1e2, xmax=1e5, linestyles='dotted')\n",
    "plt.yticks([90,110,130])\n",
    "plt.xscale('log')\n",
    "plt.xlabel('Distance')\n",
    "plt.ylabel('Bifurcation angle ($^\\circ$)')\n",
    "plt.savefig('/Users/vivekhsridhar/Documents/Code/Python/fly-matrix/figures/angle_vs_distance.pdf', dpi=600, bbox_inches='tight')"
   ]
  },
  {
   "cell_type": "markdown",
   "metadata": {},
   "source": [
    "### Visualise change in bifurcation point based on number of neurons in the decision ensemble"
   ]
  },
  {
   "cell_type": "code",
   "execution_count": 13,
   "metadata": {},
   "outputs": [
    {
     "name": "stdout",
     "output_type": "stream",
     "text": [
      "6\n",
      "12\n",
      "24\n",
      "60\n",
      "120\n",
      "240\n",
      "600\n"
     ]
    },
    {
     "data": {
      "image/png": "[encoded data removed]",
      "text/plain": [
       "<Figure size 432x288 with 1 Axes>"
      ]
     },
     "metadata": {},
     "output_type": "display_data"
    }
   ],
   "source": [
    "n_iters = 100\n",
    "d = 500\n",
    "b_angles = []\n",
    "\n",
    "for n in neurons:\n",
    "    df = pd.read_csv(\"/Users/vivekhsridhar/Documents/Work/Results/decision_geometry/Data/Theory/NN/neurons/neurons\" + str(n) + \".csv\")\n",
    "\n",
    "    xs = np.array(df[' x'])\n",
    "    ys = np.array(df[' y'] - 500)\n",
    "    \n",
    "    post0_x = d*np.cos(np.pi/6)\n",
    "    post0_y = -d*np.sin(np.pi/6)\n",
    "    post1_x = d*np.cos(np.pi/6)\n",
    "    post1_y = d*np.sin(np.pi/6)\n",
    "    \n",
    "    img = density_map(xs, ys, stats=False)\n",
    "    x_peaks = np.where(img > peak_threshold)[1] * post0_x / nbins\n",
    "    y_peaks = np.where(img > peak_threshold)[0] * (post0_y - post1_y) / nbins + post1_y\n",
    "    \n",
    "    params1 = np.zeros((n_iters, 2))\n",
    "    \n",
    "    for i in range(n_iters):\n",
    "        x_fit = []\n",
    "        y_fit = []\n",
    "\n",
    "        indices = np.random.choice(len(xs), size=10000, replace=True)\n",
    "        x_fit = xs[indices]\n",
    "        y_fit = np.abs(ys[indices])\n",
    "\n",
    "        fit_params, pcov = curve_fit(\n",
    "            fitfunc_vec_self, x_fit, y_fit, p0=[3, 1], maxfev=10000\n",
    "        )\n",
    "        params1[i, :] = fit_params\n",
    "    \n",
    "    bif_angle = 2 * np.arctan2(post1_y, post1_x - np.median(params1, axis=0)[0]) * 180 / np.pi\n",
    "    b_angles.append(bif_angle)\n",
    "    print(n)"
   ]
  },
  {
   "cell_type": "code",
   "execution_count": 14,
   "metadata": {},
   "outputs": [],
   "source": [
    "popt, pcov = curve_fit(exponenial_func, np.log10(neurons), b_angles, p0=(1000, -1, 100), maxfev=10000)\n",
    "\n",
    "fit_x = np.linspace(0.78, 2.78, 1000)\n",
    "fit_y = exponenial_func(fit_x, *popt)"
   ]
  },
  {
   "cell_type": "code",
   "execution_count": 15,
   "metadata": {},
   "outputs": [
    {
     "data": {
      "image/png": "[encoded data removed]",
      "text/plain": [
       "<Figure size 216x144 with 1 Axes>"
      ]
     },
     "metadata": {},
     "output_type": "display_data"
    }
   ],
   "source": [
    "fig, ax = plt.subplots(1,1, figsize=(3,2))\n",
    "plt.scatter(neurons, b_angles, c='red')\n",
    "#plt.plot(10**(fit_x), fit_y, c='black')\n",
    "plt.xscale('log')\n",
    "plt.xlabel('Network size')\n",
    "plt.ylabel('Bifurcation angle ($^\\circ$)')\n",
    "plt.savefig('/Users/vivekhsridhar/Documents/Code/Python/fly-matrix/figures/angle_vs_netsize.pdf', dpi=600, bbox_inches='tight')"
   ]
  },
  {
   "cell_type": "markdown",
   "metadata": {},
   "source": [
    "### Visualise change in bifurcation point based on the neural tuning parameter"
   ]
  },
  {
   "cell_type": "code",
   "execution_count": 16,
   "metadata": {},
   "outputs": [
    {
     "name": "stdout",
     "output_type": "stream",
     "text": [
      "0.2\n",
      "0.3\n",
      "0.4\n",
      "0.5\n",
      "0.6\n",
      "0.7\n",
      "0.8\n",
      "0.9\n",
      "1.0\n"
     ]
    },
    {
     "data": {
      "image/png": "[encoded data removed]",
      "text/plain": [
       "<Figure size 432x288 with 1 Axes>"
      ]
     },
     "metadata": {},
     "output_type": "display_data"
    }
   ],
   "source": [
    "n_iters = 100\n",
    "d = 500\n",
    "b_angles = []\n",
    "\n",
    "for n in nus:\n",
    "    df = pd.read_csv(\"/Users/vivekhsridhar/Documents/Work/Results/decision_geometry/Data/Theory/NN/nus/nu\" + str(int(10*n)) + \".csv\")\n",
    "\n",
    "    xs = np.array(df[' x'])\n",
    "    ys = np.array(df[' y'] - 500)\n",
    "    \n",
    "    post0_x = d*np.cos(np.pi/6)\n",
    "    post0_y = -d*np.sin(np.pi/6)\n",
    "    post1_x = d*np.cos(np.pi/6)\n",
    "    post1_y = d*np.sin(np.pi/6)\n",
    "    \n",
    "    img = density_map(xs, ys, stats=False)\n",
    "    x_peaks = np.where(img > peak_threshold)[1] * post0_x / nbins\n",
    "    y_peaks = np.where(img > peak_threshold)[0] * (post0_y - post1_y) / nbins + post1_y\n",
    "    \n",
    "    params1 = np.zeros((n_iters, 2))\n",
    "    \n",
    "    for i in range(n_iters):\n",
    "        x_fit = []\n",
    "        y_fit = []\n",
    "\n",
    "        indices = np.random.choice(len(xs), size=10000, replace=True)\n",
    "        x_fit = xs[indices]\n",
    "        y_fit = np.abs(ys[indices])\n",
    "\n",
    "        fit_params, pcov = curve_fit(\n",
    "            fitfunc_vec_self, x_fit, y_fit, p0=[3, 1], maxfev=10000\n",
    "        )\n",
    "        params1[i, :] = fit_params\n",
    "    \n",
    "    bif_angle = 2 * np.arctan2(post1_y, post1_x - np.median(params1, axis=0)[0]) * 180 / np.pi\n",
    "    b_angles.append(bif_angle)\n",
    "    print(n)"
   ]
  },
  {
   "cell_type": "code",
   "execution_count": 17,
   "metadata": {},
   "outputs": [
    {
     "data": {
      "image/png": "[encoded data removed]",
      "text/plain": [
       "<Figure size 216x144 with 1 Axes>"
      ]
     },
     "metadata": {},
     "output_type": "display_data"
    }
   ],
   "source": [
    "fig, ax = plt.subplots(1,1, figsize=(3,2))\n",
    "plt.scatter(nus, b_angles, c='red')\n",
    "plt.xlabel('Neural tuning ($\\\\nu$)')\n",
    "plt.ylabel('Bifurcation angle ($^\\circ$)')\n",
    "plt.savefig('/Users/vivekhsridhar/Documents/Code/Python/fly-matrix/figures/angle_vs_tuning.pdf', dpi=600, bbox_inches='tight')"
   ]
  },
  {
   "cell_type": "code",
   "execution_count": null,
   "metadata": {},
   "outputs": [],
   "source": []
  }
 ],
 "metadata": {
  "kernelspec": {
   "display_name": "Python 3",
   "language": "python",
   "name": "python3"
  },
  "language_info": {
   "codemirror_mode": {
    "name": "ipython",
    "version": 3
   },
   "file_extension": ".py",
   "mimetype": "text/x-python",
   "name": "python",
   "nbconvert_exporter": "python",
   "pygments_lexer": "ipython3",
   "version": "3.7.0"
  }
 },
 "nbformat": 4,
 "nbformat_minor": 2
}
