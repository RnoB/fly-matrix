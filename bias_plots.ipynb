{
 "cells": [
  {
   "cell_type": "code",
   "execution_count": 1,
   "metadata": {},
   "outputs": [],
   "source": [
    "import numpy as np\n",
    "import pandas as pd\n",
    "import matplotlib.pyplot as plt\n",
    "import sqlite3\n",
    "import glob\n",
    "import sys\n",
    "sys.path.insert(0, \"/mnt/ssd1/Documents/Vivek/MalkoFish/MalkoAnalyzer\")\n",
    "import swarm\n",
    "import BaseToolbox as bt\n",
    "import plotBox as pb\n",
    "import plotter\n",
    "import copy\n",
    "import cv2\n",
    "from imp import reload\n",
    "reload(pb)\n",
    "reload(plotter)\n",
    "reload(bt)\n",
    "\n",
    "plotter.pb.boxSize.defineBoxSize((-5,5),(-5,5),(-1,1)) \n",
    "plotter.pb.boxSizeRelative.defineBoxSize((-10,10),(-10,10),(-1,1))"
   ]
  },
  {
   "cell_type": "code",
   "execution_count": 2,
   "metadata": {},
   "outputs": [],
   "source": [
    "dataDIR = '/mnt/ssd1/Documents/Vivek/flyVR/fly-matrix/data/biasdata/'\n",
    "projectDB = '/mnt/ssd1/Documents/Vivek/flyVR/fly-matrix/dbGen/biasProjects.db'\n",
    "expDB = '/mnt/ssd1/Documents/Vivek/flyVR/fly-matrix/dbGen/biasExperiments.db'"
   ]
  },
  {
   "cell_type": "code",
   "execution_count": 3,
   "metadata": {},
   "outputs": [],
   "source": [
    "nPosts = 2"
   ]
  },
  {
   "cell_type": "code",
   "execution_count": 4,
   "metadata": {},
   "outputs": [],
   "source": [
    "def rotate(xy, radians):\n",
    "    x, y = xy\n",
    "    c, s = np.cos(radians), np.sin(radians)\n",
    "    j = np.matrix([[c, s], [-s, c]])\n",
    "    m = np.dot(j, [x, y])\n",
    "\n",
    "    return m"
   ]
  },
  {
   "cell_type": "code",
   "execution_count": 5,
   "metadata": {},
   "outputs": [
    {
     "name": "stdout",
     "output_type": "stream",
     "text": [
      "fetched : [('1f7fead4-66e1-4103-a19c-a59b8ee2294f',), ('a61c4515-d5cf-4546-9a9a-4b990669581e',), ('f487c95f-7bc1-4902-b3e8-ad00e27904d5',), ('a8600224-8e5e-4139-a459-40df4dff9c9d',), ('0de4d57a-f638-4b7b-9165-acaf578d53b4',), ('fa51b041-dab5-462a-aef2-d36ed6d1569f',), ('936878d6-bc01-4ccf-94fc-eb70a5886c4d',), ('b23a5fad-36ac-4847-8987-774dd8873c44',), ('8d544b52-6e44-4271-9a8d-d31863c3af76',), ('9121e08e-d431-4962-ad94-e39eb7240eb8',), ('468187d1-41a1-43d2-8b00-fa239d2b2657',), ('5e2a883f-e041-4424-b226-fae093bd5adf',), ('1555d583-7743-4b1a-a19e-9610eddcf819',), ('023bf76b-842d-4bd3-b107-d943f9dadf6a',), ('0470f38a-9359-42ac-a719-d4353898269c',), ('1b9684ec-6dee-4f65-853b-03ba4665814a',), ('50f0a4b5-cc2d-4c05-97b6-0e61f48ee43f',), ('04865b04-3cfd-48f6-80af-9be13c7f2a0f',), ('f0e62385-8471-4ed4-9e47-2e28853d66e2',)]\n"
     ]
    }
   ],
   "source": [
    "# establish a connecttion to the project database\n",
    "conn = sqlite3.connect(projectDB)\n",
    "# connect a cursor that goes through the project database\n",
    "cursorProject = conn.cursor()\n",
    "# establish a second connecttion to the experiment database\n",
    "conn2 = sqlite3.connect(expDB)\n",
    "# connect a cursor that goes through the experiment database\n",
    "cursorExperiment = conn2.cursor()\n",
    "\n",
    "# pick experiments from specified project\n",
    "cursorExperiment.execute(\"Select expId from experiments where project = ? and exp >= ? and exp < ?\",('DecisionBias', (nPosts-2)*10, (nPosts-1)*10))\n",
    "fetched = cursorExperiment.fetchall()\n",
    "print('fetched : ' + str(fetched))"
   ]
  },
  {
   "cell_type": "code",
   "execution_count": 6,
   "metadata": {},
   "outputs": [],
   "source": [
    "angles = []\n",
    "dataDict0 = []\n",
    "dataDict1 = []\n",
    "rot_post0 = []\n",
    "for uuid in range(0,len(fetched)):\n",
    "    cursorExperiment.execute(\"Select exp from experiments where expId = ?\", (fetched[uuid][0],))\n",
    "    fetch_exp = cursorExperiment.fetchall()[0][0]\n",
    "    cursorExperiment.execute(\"Select replicate from experiments where expId = ?\", (fetched[uuid][0],))\n",
    "    fetch_rep = cursorExperiment.fetchall()[0][0]\n",
    "\n",
    "    cursorProject.execute(\"Select post0 from projects where project = ? and exp = ? and replicate = ?\",('DecisionBias', fetch_exp, fetch_rep))\n",
    "    dataDict0.append(cursorProject.fetchall())\n",
    "    cursorProject.execute(\"Select post1 from projects where project = ? and exp = ? and replicate = ?\",('DecisionBias', fetch_exp, fetch_rep))\n",
    "    dataDict1.append(cursorProject.fetchall())\n",
    "\n",
    "    tmp = pd.read_csv(dataDIR + fetched[uuid][0] + \"/results.csv\", names = [\"x\", \"y\", \"z\", \"dir\", \"event\", \"t\", \"nStimuli\"])\n",
    "    tmp['uuid'] = uuid\n",
    "    tmp['post0_x'] = tmp['post0_y'] = tmp['post1_x'] = tmp['post1_y'] = tmp['angle'] = np.nan\n",
    "\n",
    "    df = tmp if uuid == 0 else pd.concat([df,tmp])\n"
   ]
  },
  {
   "cell_type": "code",
   "execution_count": 7,
   "metadata": {},
   "outputs": [],
   "source": [
    "# add post positions to dataframe\n",
    "nStimuli = np.unique(df['nStimuli'])\n",
    "for uuid in range(0,len(fetched)):\n",
    "    for n in nStimuli:\n",
    "        if type(eval(dataDict0[uuid][n][0])) != type(None):\n",
    "            df.loc[(df['uuid'] == uuid) & (df['nStimuli'] == n),'post0_x'] = eval(dataDict0[uuid][n][0])['position'][0]\n",
    "            df.loc[(df['uuid'] == uuid) & (df['nStimuli'] == n),'post0_y'] = eval(dataDict0[uuid][n][0])['position'][1]\n",
    "            df.loc[(df['uuid'] == uuid) & (df['nStimuli'] == n),'angle'] = eval(dataDict0[uuid][n][0])['angle']\n",
    "        \n",
    "        if type(eval(dataDict1[uuid][n][0])) != type(None):\n",
    "            df.loc[(df['uuid'] == uuid) & (df['nStimuli'] == n),'post1_x'] = eval(dataDict1[uuid][n][0])['position'][0]\n",
    "            df.loc[(df['uuid'] == uuid) & (df['nStimuli'] == n),'post1_y'] = eval(dataDict1[uuid][n][0])['position'][1]\n",
    "            df.loc[(df['uuid'] == uuid) & (df['nStimuli'] == n),'angle'] = eval(dataDict1[uuid][n][0])['angle']"
   ]
  },
  {
   "cell_type": "code",
   "execution_count": 8,
   "metadata": {},
   "outputs": [],
   "source": [
    "p0_dist = np.sqrt((df['x'] - df['post0_x'])**2 + (df['y'] - df['post0_y'])**2)\n",
    "p1_dist = np.sqrt((df['x'] - df['post1_x'])**2 + (df['y'] - df['post1_y'])**2)\n",
    "\n",
    "df['dmin'] = np.nanmin([p0_dist, p1_dist], axis=0)\n",
    "df['post'] = 0\n",
    "df.loc[p1_dist < p0_dist, 'post'] = 1"
   ]
  },
  {
   "cell_type": "code",
   "execution_count": 9,
   "metadata": {},
   "outputs": [],
   "source": [
    "tmax = df.loc[:,['uuid', 'nStimuli', 'event', 't']]\n",
    "tmax = tmax.groupby(['uuid', 'nStimuli', 'event']).max().reset_index()\n",
    "dmin = df.loc[:,['uuid', 'nStimuli', 'event', 't', 'dmin', 'post', 'angle']]\n",
    "\n",
    "dists = pd.merge(tmax, dmin, how='left')\n",
    "dists = dists[dists['dmin'] < 0.8]\n",
    "\n",
    "dists = dists[(dists['nStimuli'] > 0) & (dists['nStimuli'] < 4)]"
   ]
  },
  {
   "cell_type": "code",
   "execution_count": 10,
   "metadata": {},
   "outputs": [
    {
     "data": {
      "text/plain": [
       "0.5666666666666667"
      ]
     },
     "execution_count": 10,
     "metadata": {},
     "output_type": "execute_result"
    }
   ],
   "source": [
    "len(dists[(dists['angle'] == np.unique(dists['angle'])[0]) & (dists['post'] == 1)]) / len(dists[dists['angle'] == np.unique(dists['angle'])[0]])"
   ]
  },
  {
   "cell_type": "code",
   "execution_count": 11,
   "metadata": {},
   "outputs": [
    {
     "data": {
      "text/plain": [
       "0.56"
      ]
     },
     "execution_count": 11,
     "metadata": {},
     "output_type": "execute_result"
    }
   ],
   "source": [
    "len(dists[(dists['angle'] == np.unique(dists['angle'])[1]) & (dists['post'] == 1)]) / len(dists[dists['angle'] == np.unique(dists['angle'])[1]])"
   ]
  },
  {
   "cell_type": "code",
   "execution_count": 12,
   "metadata": {},
   "outputs": [
    {
     "data": {
      "text/plain": [
       "0.6515151515151515"
      ]
     },
     "execution_count": 12,
     "metadata": {},
     "output_type": "execute_result"
    }
   ],
   "source": [
    "len(dists[(dists['angle'] == np.unique(dists['angle'])[2]) & (dists['post'] == 1)]) / len(dists[dists['angle'] == np.unique(dists['angle'])[2]])"
   ]
  },
  {
   "cell_type": "code",
   "execution_count": null,
   "metadata": {},
   "outputs": [],
   "source": []
  }
 ],
 "metadata": {
  "kernelspec": {
   "display_name": "Python 3",
   "language": "python",
   "name": "python3"
  },
  "language_info": {
   "codemirror_mode": {
    "name": "ipython",
    "version": 3
   },
   "file_extension": ".py",
   "mimetype": "text/x-python",
   "name": "python",
   "nbconvert_exporter": "python",
   "pygments_lexer": "ipython3",
   "version": "3.6.3"
  }
 },
 "nbformat": 4,
 "nbformat_minor": 2
}
